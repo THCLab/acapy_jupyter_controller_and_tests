{
 "cells": [
  {
   "cell_type": "code",
   "execution_count": 313,
   "metadata": {
    "scrolled": true
   },
   "outputs": [
    {
     "data": {
      "text/plain": [
       "<module 'jupyter_util' from '/home/sevni/Documents/thclab/aries/controller_acapy_and_tests/jupyter_util.py'>"
      ]
     },
     "execution_count": 313,
     "metadata": {},
     "output_type": "execute_result"
    }
   ],
   "source": [
    "import requests \n",
    "import json\n",
    "import pprint as pp # pretty print\n",
    "\n",
    "import aries_cloudagent.wallet.crypto as crypto\n",
    "import base64\n",
    "import base58\n",
    "import uuid\n",
    "import hashlib\n",
    "import time\n",
    "import jupyter_util as util\n",
    "from importlib import reload\n",
    "reload(util)"
   ]
  },
  {
   "cell_type": "code",
   "execution_count": 314,
   "metadata": {},
   "outputs": [],
   "source": [
    "localhost = \"http://localhost:\"\n",
    "\n",
    "def assert_status_code_is_200(response_object):\n",
    "    get = response_object\n",
    "    if get.status_code != 200:\n",
    "        print(\"status_code: \" + str(get.status_code) + \"  value: \" + str(get.text))\n",
    "        assert get.status_code == 200, \"status_code is not 200\"\n",
    "\n",
    "def get(port, url_end) -> dict:\n",
    "    port = str(port)\n",
    "    request = requests.get(localhost + port + url_end)\n",
    "    assert_status_code_is_200(request)\n",
    "    result = json.loads(request.text)\n",
    "    return result\n",
    "    \n",
    "def post(port, url_end, json_dict=None) -> dict:\n",
    "    port = str(port)\n",
    "    if json_dict != None:\n",
    "        request = requests.post(localhost + port + url_end, json=json_dict)\n",
    "    else:\n",
    "        request = requests.post(localhost + port + url_end)\n",
    "        \n",
    "    assert_status_code_is_200(request)\n",
    "    result = json.loads(request.text)\n",
    "    return result    "
   ]
  },
  {
   "cell_type": "code",
   "execution_count": 315,
   "metadata": {
    "scrolled": true
   },
   "outputs": [
    {
     "data": {
      "text/plain": [
       "['{\"active\": \"data_vault, vault2\", \"types\": [\"local\", \"data_vault\", \"own_your_data\"]}',\n",
       " '{\"active\": \"data_vault, vault2\", \"types\": [\"local\", \"data_vault\", \"own_your_data\"]}']"
      ]
     },
     "execution_count": 315,
     "metadata": {},
     "output_type": "execute_result"
    }
   ],
   "source": [
    "def save_to_pds(some_json):\n",
    "    add = requests.post('http://localhost:8150/pds/save', json=some_json)\n",
    "    assert_status_code_is_200(add)\n",
    "    \n",
    "    add = json.loads(add.text)\n",
    "    return add\n",
    "\n",
    "def save_to_pds2(some_json):\n",
    "    add = requests.post('http://localhost:8151/pds/save', json=some_json)\n",
    "    assert_status_code_is_200(add)\n",
    "    \n",
    "    add = json.loads(add.text)\n",
    "    return add\n",
    "\n",
    "def get_from_pds(some_id):\n",
    "    get = requests.get('http://localhost:8150/pds/' + some_id)\n",
    "    assert_status_code_is_200(get)    \n",
    "        \n",
    "    get = json.loads(get.text)\n",
    "    return get\n",
    "\n",
    "def get_from_pds2(some_id):\n",
    "    get = requests.get('http://localhost:8150/pds/' + some_id)\n",
    "    assert_status_code_is_200(get)    \n",
    "        \n",
    "    get = json.loads(get.text)\n",
    "    return get\n",
    "\n",
    "def save_and_retrieve(optional_test_string = \"\"):\n",
    "    payload = {\"payload\": \"testing\" + \" \" + optional_test_string}\n",
    "    id = save_to_pds(payload)\n",
    "    content = get_from_pds(str(id['payload_id']))\n",
    "    \n",
    "    assert payload == content, f\"initial payload not equal to return value from pds {payload, content}\"\n",
    "    \n",
    "    return id['payload_id']\n",
    "\n",
    "def get_pdses():\n",
    "    get1 = requests.get('http://localhost:8150/pds')\n",
    "    get2 = requests.get('http://localhost:8151/pds')\n",
    "    \n",
    "    assert get1.text != None and get2.text != None\n",
    "    assert_status_code_is_200(get1)\n",
    "    assert_status_code_is_200(get2)\n",
    "    \n",
    "    return [get1.text, get2.text]\n",
    "        \n",
    "        \n",
    "def set_pds_config(pds_type, settings = {}, instance_name = \"default\"):\n",
    "    if settings != {}:\n",
    "        settings.update({\"optional_instance_name\": instance_name})\n",
    "        config = requests.post('http://localhost:8150/pds/settings', json={\n",
    "          \"settings\": {\n",
    "              pds_type: settings\n",
    "          }\n",
    "        })\n",
    "        assert_status_code_is_200(config)    \n",
    "        \n",
    "    config = requests.post('http://localhost:8150/pds/activate?type=' + pds_type + '&optional_name=' + instance_name)\n",
    "    assert_status_code_is_200(config)   \n",
    "    \n",
    "    if settings != {}:\n",
    "        settings.update({\"optional_instance_name\": instance_name})\n",
    "        config = requests.post('http://localhost:8151/pds/settings', json={\n",
    "          \"settings\": {\n",
    "              pds_type: settings\n",
    "          }\n",
    "        })\n",
    "        assert_status_code_is_200(config)    \n",
    "        \n",
    "    config = requests.post('http://localhost:8151/pds/activate?type=' + pds_type + '&optional_name=' + instance_name)\n",
    "    assert_status_code_is_200(config) \n",
    "    \n",
    "    \n",
    "def set_own_your_data():\n",
    "    set_pds_config(\"own_your_data\", {\n",
    "        \"client_id\": \"8SX1-RBazhic9ftG4HyG2XegrQ2kdLGu0hd-Ty3IZnE\", \n",
    "        \"client_secret\": \"gEg9_tTh2V1ZK6piL9tZ38YO-1xqXLDXCccJS4uQUJg\"\n",
    "    })\n",
    "    \n",
    "def activate_pds_both_agents(pds_type, instance_name = 'default'):\n",
    "    config = requests.post('http://localhost:8150/pds/activate?type=' + pds_type + '&optional_name=' + instance_name)\n",
    "    assert_status_code_is_200(config)   \n",
    "    config = requests.post('http://localhost:8151/pds/activate?type=' + pds_type + '&optional_name=' + instance_name)\n",
    "    assert_status_code_is_200(config) \n",
    "    \n",
    "def test_pds_return_same_id():\n",
    "    set_own_your_data()\n",
    "    id1 = save_to_pds({\"payload\": \"testing\"})\n",
    "    set_pds_config(\"local\")\n",
    "    id2 = save_to_pds({\"payload\": \"testing\"})\n",
    "    \n",
    "    assert id1['payload_id'] == id2['payload_id'], \"own_your_data and local return different ids\"\n",
    "    \n",
    "    set_pds_config(\"local\")\n",
    "    id1 = save_to_pds({\"payload\": \"testing\"})\n",
    "    set_pds_config(\"data_vault\", {\"host\": \"http://ocadatavault\"})\n",
    "    id2 = save_to_pds({\"payload\": \"testing\"})\n",
    "    \n",
    "    assert id1['payload_id'] == id2['payload_id'], \"local and data_vault return different ids\"\n",
    "\n",
    "    return [id1, id2]\n",
    "    \n",
    "    \n",
    "# test_pds_return_same_id()\n",
    "set_pds_config(\"local\")\n",
    "save_and_retrieve(\"local\")\n",
    "set_pds_config(\"data_vault\", {\"host\": \"http://ocadatavault\"})\n",
    "save_and_retrieve(\"data_vault_thcf\")\n",
    "set_pds_config(\"data_vault\", {\"host\": \"http://ocadatavault\"}, \"vault2\")\n",
    "save_and_retrieve(\"data_vault_thcf_2\")\n",
    "# set_own_your_data()\n",
    "# payload_id = save_and_retrieve(\"own_your_data\")\n",
    "get_pdses()\n",
    "\n"
   ]
  },
  {
   "cell_type": "code",
   "execution_count": 316,
   "metadata": {},
   "outputs": [],
   "source": [
    "## TEST that Settings are persistent! \n",
    "# activate_pds_both_agents(\"data_vault\")\n",
    "# save_and_retrieve(\"data_vault_thcf\")\n",
    "# activate_pds_both_agents(\"data_vault\", \"vault2\")\n",
    "# save_and_retrieve(\"data_vault_thcf_2\")\n",
    "# activate_pds_both_agents(\"own_your_data\")\n",
    "# payload_id = save_and_retrieve(\"own_your_data\")"
   ]
  },
  {
   "cell_type": "code",
   "execution_count": 319,
   "metadata": {
    "scrolled": true
   },
   "outputs": [
    {
     "name": "stdout",
     "output_type": "stream",
     "text": [
      "Decoded invitation:\n",
      "\n",
      "{'@id': 'a11111ad-37d8-4fe9-9dce-9ae10f3089ae',\n",
      " '@type': 'did:sov:BzCbsNYhMrjHiqZDTUASHg;spec/connections/1.0/invitation',\n",
      " 'label': 'Client (admin)',\n",
      " 'recipientKeys': ['51Vn23AqepDruN2K6vrmoWcxfBhG2SF1bNx6GGUKmYwy'],\n",
      " 'serviceEndpoint': 'http://agent2.localhost'}\n"
     ]
    }
   ],
   "source": [
    "agent1 = {}\n",
    "plugin = {}\n",
    "endpoint = \"http://localhost:8150/connections/create-admin-invitation-url\"\n",
    "adminInvitationResponse = requests.post(endpoint)\n",
    "adminInvitationResponse = adminInvitationResponse.text\n",
    "agent1['url'] = json.loads(adminInvitationResponse)['invitation_url']\n",
    "print(agent1['url'])\n",
    "\n",
    "agent2 = {}\n",
    "endpoint = \"http://localhost:8151/connections/create-admin-invitation-url\"\n",
    "adminInvitationResponse = requests.post(endpoint)\n",
    "adminInvitationResponse = adminInvitationResponse.text\n",
    "agent2['url'] = json.loads(adminInvitationResponse)['invitation_url']\n",
    "print(agent2['url'])\n",
    "\n",
    "agent1 = util.processInviteUrl(agent1['url'])\n",
    "agent2 = util.processInviteUrl(agent2['url'])\n",
    "print(\"Decoded invitation:\\n\")\n",
    "pp.pprint(agent2['invite'])\n",
    "\n",
    "### Generating a did key using aries crypto module\n",
    "# Create a key pair with random seed \n",
    "# Order: 0 - public key, 1 - secret / pritvate key\n",
    "plugin['keypair'] = crypto.create_keypair()\n",
    "# it seems to me that did is an encoded sub string of public key\n",
    "# or maybe just some arbitrary random number\n",
    "did = plugin['keypair'][0][:16]\n",
    "# final version of our did\n",
    "plugin['did'] = base58.b58encode(did).decode(\"ascii\")\n",
    "# encoding keys to base58\n",
    "plugin['public_key_b58'] = \\\n",
    "    base58.b58encode(plugin['keypair'][0]).decode(\"ascii\")\n",
    "plugin['private_key_b58'] = \\\n",
    "    base58.b58encode(plugin['keypair'][1]).decode(\"ascii\")\n",
    "\n",
    "print(\"Private key: \\n\", plugin['private_key_b58'])\n",
    "print(\"\\nPublic key: \\n\", plugin['public_key_b58'])\n",
    "\n",
    "agent1['connection'] = util.connectWithAcapy(agent1, plugin)\n",
    "agent2['connection'] = util.connectWithAcapy(agent2, plugin)\n",
    "\n",
    "agent1['connection_details'] = util.decodeConnectionDetails(agent1['connection'])\n",
    "agent2['connection_details'] = util.decodeConnectionDetails(agent2['connection'])\n",
    "agents = [\n",
    "    {\n",
    "        \"label\": agent1['invite']['label'],\n",
    "        \"DIDDoc\": agent1['connection_details']['DIDDoc'],\n",
    "        \"myKey\": plugin['keypair'][1]\n",
    "    },\n",
    "    {\n",
    "        \"label\": agent2['invite']['label'],\n",
    "        \"DIDDoc\": agent2['connection_details']['DIDDoc'],\n",
    "        \"myKey\": plugin['keypair'][1]\n",
    "    },\n",
    "]\n",
    "\n",
    "connection = util.connectAgents(agents[0], agents[1])\n",
    "connection[1] = connection[1]['raw_repr']['connection_id']\n",
    "connection[0] = connection[0]['connection_id']\n",
    "print(connection[0], \"\\n\", connection[1])"
   ]
  },
  {
   "cell_type": "code",
   "execution_count": 325,
   "metadata": {
    "scrolled": false
   },
   "outputs": [],
   "source": [
    "# time.sleep(0.2)\n",
    "\n",
    "# add = requests.post(f'http://localhost:8151/pds/get_from?connection_id={connection[1]}&payload_id={1234}')\n",
    "# print(add.text)\n",
    "\n",
    "# set_pds_config(\"own_your_data\", {\n",
    "#     \"client_id\": \"8SX1-RBazhic9ftG4HyG2XegrQ2kdLGu0hd-Ty3IZnE\", \n",
    "#     \"client_secret\": \"gEg9_tTh2V1ZK6piL9tZ38YO-1xqXLDXCccJS4uQUJg\"\n",
    "# })\n",
    "# payload_id = save_and_retrieve(\"own_your_data1234\")\n",
    "# add = requests.post(f'http://localhost:8151/pds/get_from?connection_id={connection[1]}&payload_id={payload_id}')\n",
    "# assert '{\"message_sent\": \"success\"}' == add.text\n",
    "\n",
    "# time.sleep(1)\n",
    "# get1 = requests.get('http://localhost:8150/pds/' + str(payload_id))\n",
    "# get2 = requests.get('http://localhost:8151/pds/' + str(payload_id))\n",
    "# print(get1.text, get2.text)\n",
    "# assert get1.status_code == get2.status_code, f\"status codes are not equal {get1.status_code, get2.status_code}\"\n",
    "# assert get1.text == get2.text, \"exchanged data with get_from is not equal\"\n",
    "# set_pds_config(\"data_vault\", {\"host\": \"http://ocadatavault\"})"
   ]
  },
  {
   "cell_type": "markdown",
   "metadata": {},
   "source": [
    "### FEATURE DISCOVERY"
   ]
  },
  {
   "cell_type": "code",
   "execution_count": 326,
   "metadata": {
    "scrolled": true
   },
   "outputs": [
    {
     "name": "stdout",
     "output_type": "stream",
     "text": [
      "{\"service_schema\": {\"oca_schema_namespace\": \"string\", \"oca_schema_dri\": \"string\"}, \"updated_at\": \"2020-11-16 14:05:26.328827Z\", \"label\": \"consent_test\", \"created_at\": \"2020-11-16 14:05:26.328827Z\", \"consent_schema\": {\"oca_schema_namespace\": \"consent\", \"oca_schema_dri\": \"fArVHJTQSKHu2CeXJocQmH3HHxzZXsuQD7kzyHJhQ49s\", \"data_dri\": \"zQmcJf1w9bVpquGdzCp86pX4K21Zcn7bJBUtrBP1cr2NFuR\"}}\n"
     ]
    }
   ],
   "source": [
    "data_dri = save_to_pds2({\"payload\": \"testing\"})\n",
    "add = requests.post('http://localhost:8151/verifiable-services/add', json={\n",
    "  \"label\": \"consent_test\",\n",
    "  \"service_schema\": {\n",
    "    \"oca_schema_namespace\": \"string\",\n",
    "    \"oca_schema_dri\": \"string\"\n",
    "  },\n",
    "  \"consent_schema\": {\n",
    "    \"oca_schema_namespace\": \"consent\",\n",
    "    \"oca_schema_dri\": \"fArVHJTQSKHu2CeXJocQmH3HHxzZXsuQD7kzyHJhQ49s\",\n",
    "    \"data_dri\": data_dri['payload_id'],\n",
    "  }\n",
    "})\n",
    "print(add.text)\n",
    "add = json.loads(add.text)"
   ]
  },
  {
   "cell_type": "code",
   "execution_count": 327,
   "metadata": {
    "scrolled": false
   },
   "outputs": [],
   "source": [
    "time.sleep(0.5)\n",
    "newDid1 = util.createDid(agents[1])\n",
    "newDid0 = util.createDid(agents[0])\n",
    "\n",
    "try:\n",
    "    util.registerDidOnLedger(agents[1], newDid1['result']['did'], newDid1['result']['verkey'])\n",
    "except:\n",
    "    pass\n",
    "try:\n",
    "    util.registerDidOnLedger(agents[0], newDid0['result']['did'], newDid0['result']['verkey'])\n",
    "except:\n",
    "    pass\n",
    "\n",
    "util.setPublicDid(agents[1], newDid1['result']['did'])\n",
    "util.setPublicDid(agents[0], newDid0['result']['did'])\n",
    "time.sleep(0.5)"
   ]
  },
  {
   "cell_type": "code",
   "execution_count": 348,
   "metadata": {
    "scrolled": true
   },
   "outputs": [
    {
     "name": "stdout",
     "output_type": "stream",
     "text": [
      "{'credential_exchange_id': 'f8a66496-466b-4f3e-b4d8-a6c5f155d85b'}\n"
     ]
    }
   ],
   "source": [
    "issue_cred = post(8150, '/issue-credential/request', {\n",
    "  \"credential_values\": {\"test\": \"stuff\"},\n",
    "  \"connection_id\": connection[0],\n",
    "  \"credential_type\": \"string\"\n",
    "})\n",
    "\n",
    "pp.pprint(issue_cred)"
   ]
  },
  {
   "cell_type": "code",
   "execution_count": 349,
   "metadata": {
    "scrolled": false
   },
   "outputs": [
    {
     "name": "stdout",
     "output_type": "stream",
     "text": [
      "[{'state': 'request_received', 'thread_id': 'fb2b323f-e2e6-4d03-a266-638d7a0ef398', 'credential_request': {'credential_type': 'string', 'credential_values': {'test': 'stuff'}}, 'trace': False, 'updated_at': '2020-11-16 14:05:41.575586Z', 'role': 'issuer', 'created_at': '2020-11-16 14:05:41.575586Z', 'connection_id': 'ddff1481-6a1e-4df5-9baa-77e43d2251ee', 'credential_exchange_id': '8c8ca6ea-b9ce-4240-a76e-3dad7ca81c51', 'initiator': 'external'}, {'state': 'request_received', 'thread_id': '2a859f38-afb5-4d39-87d8-483d1c06c9da', 'credential_request': {'credential_type': 'string', 'credential_values': {'test': 'stuff'}}, 'trace': False, 'updated_at': '2020-11-16 13:53:20.218293Z', 'role': 'issuer', 'created_at': '2020-11-16 13:53:20.218293Z', 'connection_id': '00afdfac-7deb-4d78-a09f-b3816ef74fcd', 'credential_exchange_id': 'a0df94a9-c689-4994-bf26-481d243c6f00', 'initiator': 'external'}, {'state': 'request_received', 'thread_id': '91077a80-2e9d-4e40-a0e8-5d15d92fa903', 'credential_request': {'credential_type': 'string', 'credential_values': {'test': 'stuff'}}, 'trace': False, 'updated_at': '2020-11-16 13:55:19.021451Z', 'role': 'issuer', 'created_at': '2020-11-16 13:55:19.021451Z', 'connection_id': 'f7d66909-af70-4783-9d52-50ee9175f218', 'credential_exchange_id': '7d0029f1-b65b-46e3-9e8c-e911c8083807', 'initiator': 'external'}, {'state': 'request_received', 'thread_id': 'b130534c-0478-4ed1-84cf-1716e887b1fb', 'credential_request': {'credential_type': 'string', 'credential_values': {'test': 'stuff'}}, 'trace': False, 'updated_at': '2020-11-16 13:43:57.908593Z', 'role': 'issuer', 'created_at': '2020-11-16 13:43:57.908593Z', 'connection_id': '5e92c163-849e-46c4-b75e-3dd0e61d5ec1', 'credential_exchange_id': '1f0480ab-81ab-4394-879b-5083935d2128', 'initiator': 'external'}, {'state': 'request_received', 'thread_id': 'f87a79bd-1d15-4430-a35b-b830042f0a9a', 'credential_request': {'credential_type': 'string', 'credential_values': {'test': 'stuff'}}, 'trace': False, 'updated_at': '2020-11-16 13:51:14.378542Z', 'role': 'issuer', 'created_at': '2020-11-16 13:51:14.378542Z', 'connection_id': '234dcf91-a06c-4787-9d1a-08f6badc1c08', 'credential_exchange_id': '22e16a05-50b0-48a5-8e14-e91d80a106a9', 'initiator': 'external'}, {'state': 'request_received', 'thread_id': 'a17ed054-ab32-416d-974e-74b0c0baacfa', 'credential_request': {'credential_type': 'string', 'credential_values': {'test': 'stuff'}}, 'trace': False, 'updated_at': '2020-11-16 14:14:57.120866Z', 'role': 'issuer', 'created_at': '2020-11-16 14:14:57.120866Z', 'connection_id': 'ddff1481-6a1e-4df5-9baa-77e43d2251ee', 'credential_exchange_id': 'ee9008f0-46bb-4a8a-98b0-b2414385f062', 'initiator': 'external'}, {'state': 'request_received', 'thread_id': '2acdfee5-92a0-41ab-9c07-6ca77c259ed8', 'credential_request': {'credential_type': 'string', 'credential_values': {'test': 'stuff'}}, 'trace': False, 'updated_at': '2020-11-16 14:06:29.306802Z', 'role': 'issuer', 'created_at': '2020-11-16 14:06:29.306802Z', 'connection_id': 'ddff1481-6a1e-4df5-9baa-77e43d2251ee', 'credential_exchange_id': 'e579e313-47f4-4351-9d20-c5de4e164ae2', 'initiator': 'external'}]\n"
     ]
    }
   ],
   "source": [
    "cred_exchange = get(8151, \"/issue-credential/exchange/record?state=request_received\")\n",
    "print(cred_exchange)"
   ]
  },
  {
   "cell_type": "code",
   "execution_count": 350,
   "metadata": {
    "scrolled": false
   },
   "outputs": [
    {
     "name": "stdout",
     "output_type": "stream",
     "text": [
      "('{\"context\": [\"https://www.w3.org/2018/credentials/v1\", '\n",
      " '\"https://www.schema.org\"], \"type\": [\"VerifiableCredential\", \"string\"], '\n",
      " '\"issuer\": \"XSYpKEcRL2TZ6vrAP6cafG\", \"issuanceDate\": \"2020-11-16 '\n",
      " '14:14:59.329169Z\", \"credentialSubject\": {\"test\": \"stuff\", \"id\": '\n",
      " '\"RcEexRd8f9nLVhXqWnqNDK\"}, \"proof\": {\"type\": \"Ed25519Signature2018\", '\n",
      " '\"created\": \"2020-11-16 14:14:59.345261Z\", \"proofPurpose\": \"assertionMethod\", '\n",
      " '\"verificationMethod\": \"4E2p6AZW2d11veBHdGeqd9dE9QKWJRRaFLykHf2chvdt\", \"jws\": '\n",
      " '\"ec14e5e78610b064e3f5879bde1dbdf6db6373935b74e5564c06430fa98d3b499de33a14dcfe9dc014a4edff941cedcdd47d3d584c2ca5e1bbf2dd7424590303\"}}')\n"
     ]
    }
   ],
   "source": [
    "id = cred_exchange[0]['credential_exchange_id']\n",
    "issue_cred = post(8151, \"/issue-credential/send?credential_exchange_id=\" + id)\n",
    "\n",
    "pp.pprint(issue_cred)"
   ]
  },
  {
   "cell_type": "code",
   "execution_count": 351,
   "metadata": {
    "scrolled": false
   },
   "outputs": [
    {
     "name": "stdout",
     "output_type": "stream",
     "text": [
      "{'test': {'restrictions': [{}]}}\n"
     ]
    }
   ],
   "source": [
    "issue_cred = post(8151, '/present-proof/request', {\n",
    "  \"context\": [\n",
    "    \"string\"\n",
    "  ],\n",
    "  \"connection_id\": connection[1],\n",
    "  \"requested_attributes\": {\n",
    "    \"test\": {\n",
    "      \"restrictions\": [\n",
    "        {}\n",
    "      ]\n",
    "    }\n",
    "  },\n",
    "  \"type\": [\n",
    "    \"string\"\n",
    "  ]\n",
    "})\n",
    "\n",
    "pp.pprint(issue_cred)"
   ]
  },
  {
   "cell_type": "code",
   "execution_count": 360,
   "metadata": {
    "scrolled": true
   },
   "outputs": [
    {
     "name": "stdout",
     "output_type": "stream",
     "text": [
      "[{'presentation_request': {'type': ['string'], 'context': ['string'], 'requested_attributes': {'test': {'restrictions': [{}]}}, 'nonce': '5702ecbd-3191-46a0-aaa2-f4d22b271312'}, 'state': 'request_received', 'auto_present': False, 'trace': False, 'updated_at': '2020-11-16 14:07:58.063868Z', 'role': 'prover', 'presentation_exchange_id': '2ce1c99d-84d4-4103-b339-35fca7a7dded', 'created_at': '2020-11-16 14:07:58.063868Z', 'connection_id': 'ddff1481-6a1e-4df5-9baa-77e43d2251ee', 'thread_id': '2be8c44b-1e74-4592-89ca-a7c839069a75', 'initiator': 'external'}]\n"
     ]
    }
   ],
   "source": [
    "exchange_record = get(8151, \"/present-proof/exchange/record?state=request_received\")\n",
    "print(exchange_record)"
   ]
  },
  {
   "cell_type": "code",
   "execution_count": 353,
   "metadata": {
    "scrolled": true
   },
   "outputs": [
    {
     "name": "stdout",
     "output_type": "stream",
     "text": [
      "{'results': [{'created_at': '2020-11-16 14:14:59.400809Z', 'updated_at': '2020-11-16 14:14:59.400809Z', 'type': ['VerifiableCredential', 'string'], 'issuer': 'XSYpKEcRL2TZ6vrAP6cafG', 'proof': {'type': 'Ed25519Signature2018', 'created': '2020-11-16 14:14:59.345261Z', 'proofPurpose': 'assertionMethod', 'verificationMethod': '4E2p6AZW2d11veBHdGeqd9dE9QKWJRRaFLykHf2chvdt', 'jws': 'ec14e5e78610b064e3f5879bde1dbdf6db6373935b74e5564c06430fa98d3b499de33a14dcfe9dc014a4edff941cedcdd47d3d584c2ca5e1bbf2dd7424590303'}, 'credentialSubject': {'test': 'stuff', 'id': 'RcEexRd8f9nLVhXqWnqNDK'}, 'issuanceDate': '2020-11-16 14:14:59.329169Z', 'id': '67b65058-e4b5-422f-9e78-418216770778'}, {'created_at': '2020-11-16 14:06:31.406701Z', 'updated_at': '2020-11-16 14:06:31.406701Z', 'type': ['VerifiableCredential', 'string'], 'issuer': 'PixogHbwtsd6JmGgXoCDTR', 'proof': {'type': 'Ed25519Signature2018', 'created': '2020-11-16 14:06:31.367086Z', 'proofPurpose': 'assertionMethod', 'verificationMethod': '7j9GyDyYUiU59fQ2duzfANWaB6jj9qGTzjeifjsU2tX5', 'jws': 'e659bb83d96ebee496cb08bb08ea1d7287821d5025b6326a5559718a3a1b13e2717aba6e9605dd6dc1ef6a5f5b5e629739c0a065964f4526fd373d6f7796460f'}, 'credentialSubject': {'test': 'stuff', 'id': 'bo3DPAbCsP5kEBzRdb7iq'}, 'issuanceDate': '2020-11-16 14:06:31.348985Z', 'id': 'f0569e55-119e-4b19-9cba-58913bd51f2b'}]}\n"
     ]
    }
   ],
   "source": [
    "cred_exchange = get(8150, \"/credentials\")\n",
    "print(cred_exchange)"
   ]
  },
  {
   "cell_type": "code",
   "execution_count": 364,
   "metadata": {
    "scrolled": true
   },
   "outputs": [
    {
     "name": "stdout",
     "output_type": "stream",
     "text": [
      "status_code: 500  value: 500: credential_id f0569e55-119e-4b19-9cba-58913bd51f2b for field test is invalid.\n"
     ]
    },
    {
     "ename": "AssertionError",
     "evalue": "status_code is not 200",
     "output_type": "error",
     "traceback": [
      "\u001b[0;31m---------------------------------------------------------------------------\u001b[0m",
      "\u001b[0;31mAssertionError\u001b[0m                            Traceback (most recent call last)",
      "\u001b[0;32m<ipython-input-364-55ee79c11842>\u001b[0m in \u001b[0;36m<module>\u001b[0;34m\u001b[0m\n\u001b[1;32m      5\u001b[0m     }\n\u001b[1;32m      6\u001b[0m   },\n\u001b[0;32m----> 7\u001b[0;31m   \u001b[0;34m\"exchange_record_id\"\u001b[0m\u001b[0;34m:\u001b[0m \u001b[0mexchange_record\u001b[0m\u001b[0;34m[\u001b[0m\u001b[0;36m0\u001b[0m\u001b[0;34m]\u001b[0m\u001b[0;34m[\u001b[0m\u001b[0;34m'presentation_exchange_id'\u001b[0m\u001b[0;34m]\u001b[0m\u001b[0;34m\u001b[0m\u001b[0;34m\u001b[0m\u001b[0m\n\u001b[0m\u001b[1;32m      8\u001b[0m })\n\u001b[1;32m      9\u001b[0m \u001b[0;34m\u001b[0m\u001b[0m\n",
      "\u001b[0;32m<ipython-input-314-32d4151fe5ba>\u001b[0m in \u001b[0;36mpost\u001b[0;34m(port, url_end, json_dict)\u001b[0m\n\u001b[1;32m     21\u001b[0m         \u001b[0mrequest\u001b[0m \u001b[0;34m=\u001b[0m \u001b[0mrequests\u001b[0m\u001b[0;34m.\u001b[0m\u001b[0mpost\u001b[0m\u001b[0;34m(\u001b[0m\u001b[0mlocalhost\u001b[0m \u001b[0;34m+\u001b[0m \u001b[0mport\u001b[0m \u001b[0;34m+\u001b[0m \u001b[0murl_end\u001b[0m\u001b[0;34m)\u001b[0m\u001b[0;34m\u001b[0m\u001b[0;34m\u001b[0m\u001b[0m\n\u001b[1;32m     22\u001b[0m \u001b[0;34m\u001b[0m\u001b[0m\n\u001b[0;32m---> 23\u001b[0;31m     \u001b[0massert_status_code_is_200\u001b[0m\u001b[0;34m(\u001b[0m\u001b[0mrequest\u001b[0m\u001b[0;34m)\u001b[0m\u001b[0;34m\u001b[0m\u001b[0;34m\u001b[0m\u001b[0m\n\u001b[0m\u001b[1;32m     24\u001b[0m     \u001b[0mresult\u001b[0m \u001b[0;34m=\u001b[0m \u001b[0mjson\u001b[0m\u001b[0;34m.\u001b[0m\u001b[0mloads\u001b[0m\u001b[0;34m(\u001b[0m\u001b[0mrequest\u001b[0m\u001b[0;34m.\u001b[0m\u001b[0mtext\u001b[0m\u001b[0;34m)\u001b[0m\u001b[0;34m\u001b[0m\u001b[0;34m\u001b[0m\u001b[0m\n\u001b[1;32m     25\u001b[0m     \u001b[0;32mreturn\u001b[0m \u001b[0mresult\u001b[0m\u001b[0;34m\u001b[0m\u001b[0;34m\u001b[0m\u001b[0m\n",
      "\u001b[0;32m<ipython-input-314-32d4151fe5ba>\u001b[0m in \u001b[0;36massert_status_code_is_200\u001b[0;34m(response_object)\u001b[0m\n\u001b[1;32m      5\u001b[0m     \u001b[0;32mif\u001b[0m \u001b[0mget\u001b[0m\u001b[0;34m.\u001b[0m\u001b[0mstatus_code\u001b[0m \u001b[0;34m!=\u001b[0m \u001b[0;36m200\u001b[0m\u001b[0;34m:\u001b[0m\u001b[0;34m\u001b[0m\u001b[0;34m\u001b[0m\u001b[0m\n\u001b[1;32m      6\u001b[0m         \u001b[0mprint\u001b[0m\u001b[0;34m(\u001b[0m\u001b[0;34m\"status_code: \"\u001b[0m \u001b[0;34m+\u001b[0m \u001b[0mstr\u001b[0m\u001b[0;34m(\u001b[0m\u001b[0mget\u001b[0m\u001b[0;34m.\u001b[0m\u001b[0mstatus_code\u001b[0m\u001b[0;34m)\u001b[0m \u001b[0;34m+\u001b[0m \u001b[0;34m\"  value: \"\u001b[0m \u001b[0;34m+\u001b[0m \u001b[0mstr\u001b[0m\u001b[0;34m(\u001b[0m\u001b[0mget\u001b[0m\u001b[0;34m.\u001b[0m\u001b[0mtext\u001b[0m\u001b[0;34m)\u001b[0m\u001b[0;34m)\u001b[0m\u001b[0;34m\u001b[0m\u001b[0;34m\u001b[0m\u001b[0m\n\u001b[0;32m----> 7\u001b[0;31m         \u001b[0;32massert\u001b[0m \u001b[0mget\u001b[0m\u001b[0;34m.\u001b[0m\u001b[0mstatus_code\u001b[0m \u001b[0;34m==\u001b[0m \u001b[0;36m200\u001b[0m\u001b[0;34m,\u001b[0m \u001b[0;34m\"status_code is not 200\"\u001b[0m\u001b[0;34m\u001b[0m\u001b[0;34m\u001b[0m\u001b[0m\n\u001b[0m\u001b[1;32m      8\u001b[0m \u001b[0;34m\u001b[0m\u001b[0m\n\u001b[1;32m      9\u001b[0m \u001b[0;32mdef\u001b[0m \u001b[0mget\u001b[0m\u001b[0;34m(\u001b[0m\u001b[0mport\u001b[0m\u001b[0;34m,\u001b[0m \u001b[0murl_end\u001b[0m\u001b[0;34m)\u001b[0m \u001b[0;34m->\u001b[0m \u001b[0mdict\u001b[0m\u001b[0;34m:\u001b[0m\u001b[0;34m\u001b[0m\u001b[0;34m\u001b[0m\u001b[0m\n",
      "\u001b[0;31mAssertionError\u001b[0m: status_code is not 200"
     ]
    }
   ],
   "source": [
    "issue_cred = post(8151, '/present-proof/present', {\n",
    "  \"requested_credentials\": {\n",
    "    \"test\": {\n",
    "        \"cred_id\": cred_exchange['results'][1]['id']\n",
    "    }\n",
    "  },\n",
    "  \"exchange_record_id\": exchange_record[0]['presentation_exchange_id']\n",
    "})\n",
    "\n",
    "pp.pprint(issue_cred)"
   ]
  },
  {
   "cell_type": "code",
   "execution_count": 20,
   "metadata": {
    "scrolled": true
   },
   "outputs": [
    {
     "name": "stdout",
     "output_type": "stream",
     "text": [
      "{'@context': ['https://www.w3.org/2018/credentials/v1',\n",
      "              'https://www.schema.org'],\n",
      " 'credentialSubject': {'id': 'LZPRK7bURBE22Jz59atbLv', 'test': 'stuff'},\n",
      " 'issuanceDate': '2020-11-06 12:24:07.646624Z',\n",
      " 'issuer': 'VEjkV7bi6G5iM54DNJysJf',\n",
      " 'proof': {'created': '2020-11-06 12:24:07.665158Z',\n",
      "           'jws': '7cc9797473a4edcf19784f05b710ffa2eaf2aa2819dbce33bc26045fb4b18f395b480db6bc0a048f2e0ae78f7d2b30596b773a7b2eeb874e8ee3caa6ace8050d',\n",
      "           'proofPurpose': 'assertionMethod',\n",
      "           'type': 'Ed25519Signature2018',\n",
      "           'verificationMethod': 'CeW2Ga6u76nDPyTxxvLdbWruAyG3mPM4Lc3tLaeCUzY9'},\n",
      " 'type': ['VerifiableCredential', 'string']}\n"
     ]
    }
   ],
   "source": [
    "cred = json.loads(issue_cred.text)\n",
    "pp.pprint(cred)"
   ]
  },
  {
   "cell_type": "code",
   "execution_count": 36,
   "metadata": {
    "scrolled": false
   },
   "outputs": [
    {
     "name": "stdout",
     "output_type": "stream",
     "text": [
      "\"SUCCESS: request sent, expect a webhook notification\"\n",
      "<Response [200]>\n",
      "{'connection_id': '7a953984-42a6-4e29-ab76-cb31ac9573e4',\n",
      " 'created_at': '2020-11-03 09:03:16.658027Z',\n",
      " 'services': [{'consent_schema': {'data_dri': 'zQmcJf1w9bVpquGdzCp86pX4K21Zcn7bJBUtrBP1cr2NFuR',\n",
      "                                  'oca_schema_dri': 'fArVHJTQSKHu2CeXJocQmH3HHxzZXsuQD7kzyHJhQ49s',\n",
      "                                  'oca_schema_namespace': 'consent'},\n",
      "               'label': 'consent_test',\n",
      "               'service_id': '50f52ff5-c518-42b3-8028-0ef5e1cfd513',\n",
      "               'service_schema': {'oca_schema_dri': 'string',\n",
      "                                  'oca_schema_namespace': 'string'}},\n",
      "              {'consent_schema': {'data_dri': 'zQmcJf1w9bVpquGdzCp86pX4K21Zcn7bJBUtrBP1cr2NFuR',\n",
      "                                  'oca_schema_dri': 'fArVHJTQSKHu2CeXJocQmH3HHxzZXsuQD7kzyHJhQ49s',\n",
      "                                  'oca_schema_namespace': 'consent'},\n",
      "               'label': 'consent_test',\n",
      "               'service_id': 'a532e3f4-1a66-4e4c-8c10-c35fd8354852',\n",
      "               'service_schema': {'oca_schema_dri': 'string',\n",
      "                                  'oca_schema_namespace': 'string'}}],\n",
      " 'updated_at': '2020-11-03 09:03:16.658027Z'}\n"
     ]
    }
   ],
   "source": [
    "service_list = requests.get('http://localhost:8150/verifiable-services/DEBUGrequest/' + connection[0])\n",
    "request_service_list = requests.get('http://localhost:8150/verifiable-services/request-service-list/' + connection[0])\n",
    "print(request_service_list.text)\n",
    "\n",
    "print(service_list)\n",
    "service_list = json.loads(service_list.text)\n",
    "pp.pprint(service_list)"
   ]
  },
  {
   "cell_type": "code",
   "execution_count": 37,
   "metadata": {
    "scrolled": true
   },
   "outputs": [
    {
     "ename": "JSONDecodeError",
     "evalue": "Extra data: line 1 column 5 (char 4)",
     "output_type": "error",
     "traceback": [
      "\u001b[0;31m---------------------------------------------------------------------------\u001b[0m",
      "\u001b[0;31mJSONDecodeError\u001b[0m                           Traceback (most recent call last)",
      "\u001b[0;32m<ipython-input-37-2bc7b948b1fe>\u001b[0m in \u001b[0;36m<module>\u001b[0;34m\u001b[0m\n\u001b[1;32m      5\u001b[0m   \u001b[0;34m\"service\"\u001b[0m\u001b[0;34m:\u001b[0m \u001b[0mservice_list\u001b[0m\u001b[0;34m[\u001b[0m\u001b[0;34m'services'\u001b[0m\u001b[0;34m]\u001b[0m\u001b[0;34m[\u001b[0m\u001b[0;36m0\u001b[0m\u001b[0;34m]\u001b[0m\u001b[0;34m,\u001b[0m\u001b[0;34m\u001b[0m\u001b[0;34m\u001b[0m\u001b[0m\n\u001b[1;32m      6\u001b[0m })\n\u001b[0;32m----> 7\u001b[0;31m \u001b[0mapply\u001b[0m \u001b[0;34m=\u001b[0m \u001b[0mjson\u001b[0m\u001b[0;34m.\u001b[0m\u001b[0mloads\u001b[0m\u001b[0;34m(\u001b[0m\u001b[0mapply\u001b[0m\u001b[0;34m.\u001b[0m\u001b[0mtext\u001b[0m\u001b[0;34m)\u001b[0m\u001b[0;34m\u001b[0m\u001b[0;34m\u001b[0m\u001b[0m\n\u001b[0m\u001b[1;32m      8\u001b[0m \u001b[0mprint\u001b[0m\u001b[0;34m(\u001b[0m\u001b[0mapply\u001b[0m\u001b[0;34m)\u001b[0m\u001b[0;34m\u001b[0m\u001b[0;34m\u001b[0m\u001b[0m\n",
      "\u001b[0;32m/usr/lib/python3.7/json/__init__.py\u001b[0m in \u001b[0;36mloads\u001b[0;34m(s, encoding, cls, object_hook, parse_float, parse_int, parse_constant, object_pairs_hook, **kw)\u001b[0m\n\u001b[1;32m    346\u001b[0m             \u001b[0mparse_int\u001b[0m \u001b[0;32mis\u001b[0m \u001b[0;32mNone\u001b[0m \u001b[0;32mand\u001b[0m \u001b[0mparse_float\u001b[0m \u001b[0;32mis\u001b[0m \u001b[0;32mNone\u001b[0m \u001b[0;32mand\u001b[0m\u001b[0;34m\u001b[0m\u001b[0;34m\u001b[0m\u001b[0m\n\u001b[1;32m    347\u001b[0m             parse_constant is None and object_pairs_hook is None and not kw):\n\u001b[0;32m--> 348\u001b[0;31m         \u001b[0;32mreturn\u001b[0m \u001b[0m_default_decoder\u001b[0m\u001b[0;34m.\u001b[0m\u001b[0mdecode\u001b[0m\u001b[0;34m(\u001b[0m\u001b[0ms\u001b[0m\u001b[0;34m)\u001b[0m\u001b[0;34m\u001b[0m\u001b[0;34m\u001b[0m\u001b[0m\n\u001b[0m\u001b[1;32m    349\u001b[0m     \u001b[0;32mif\u001b[0m \u001b[0mcls\u001b[0m \u001b[0;32mis\u001b[0m \u001b[0;32mNone\u001b[0m\u001b[0;34m:\u001b[0m\u001b[0;34m\u001b[0m\u001b[0;34m\u001b[0m\u001b[0m\n\u001b[1;32m    350\u001b[0m         \u001b[0mcls\u001b[0m \u001b[0;34m=\u001b[0m \u001b[0mJSONDecoder\u001b[0m\u001b[0;34m\u001b[0m\u001b[0;34m\u001b[0m\u001b[0m\n",
      "\u001b[0;32m/usr/lib/python3.7/json/decoder.py\u001b[0m in \u001b[0;36mdecode\u001b[0;34m(self, s, _w)\u001b[0m\n\u001b[1;32m    338\u001b[0m         \u001b[0mend\u001b[0m \u001b[0;34m=\u001b[0m \u001b[0m_w\u001b[0m\u001b[0;34m(\u001b[0m\u001b[0ms\u001b[0m\u001b[0;34m,\u001b[0m \u001b[0mend\u001b[0m\u001b[0;34m)\u001b[0m\u001b[0;34m.\u001b[0m\u001b[0mend\u001b[0m\u001b[0;34m(\u001b[0m\u001b[0;34m)\u001b[0m\u001b[0;34m\u001b[0m\u001b[0;34m\u001b[0m\u001b[0m\n\u001b[1;32m    339\u001b[0m         \u001b[0;32mif\u001b[0m \u001b[0mend\u001b[0m \u001b[0;34m!=\u001b[0m \u001b[0mlen\u001b[0m\u001b[0;34m(\u001b[0m\u001b[0ms\u001b[0m\u001b[0;34m)\u001b[0m\u001b[0;34m:\u001b[0m\u001b[0;34m\u001b[0m\u001b[0;34m\u001b[0m\u001b[0m\n\u001b[0;32m--> 340\u001b[0;31m             \u001b[0;32mraise\u001b[0m \u001b[0mJSONDecodeError\u001b[0m\u001b[0;34m(\u001b[0m\u001b[0;34m\"Extra data\"\u001b[0m\u001b[0;34m,\u001b[0m \u001b[0ms\u001b[0m\u001b[0;34m,\u001b[0m \u001b[0mend\u001b[0m\u001b[0;34m)\u001b[0m\u001b[0;34m\u001b[0m\u001b[0;34m\u001b[0m\u001b[0m\n\u001b[0m\u001b[1;32m    341\u001b[0m         \u001b[0;32mreturn\u001b[0m \u001b[0mobj\u001b[0m\u001b[0;34m\u001b[0m\u001b[0;34m\u001b[0m\u001b[0m\n\u001b[1;32m    342\u001b[0m \u001b[0;34m\u001b[0m\u001b[0m\n",
      "\u001b[0;31mJSONDecodeError\u001b[0m: Extra data: line 1 column 5 (char 4)"
     ]
    }
   ],
   "source": [
    "apply = requests.post('http://localhost:8150/verifiable-services/apply', json={\n",
    "  \"connection_id\": connection[0],\n",
    "  \"service_id\": service_list['services'][0]['service_id'],\n",
    "  \"payload\": \"abckonoin\",\n",
    "  \"service\": service_list['services'][0],\n",
    "})\n",
    "apply = json.loads(apply.text)\n",
    "print(apply)"
   ]
  },
  {
   "cell_type": "code",
   "execution_count": 53,
   "metadata": {
    "scrolled": false
   },
   "outputs": [
    {
     "name": "stdout",
     "output_type": "stream",
     "text": [
      "<Response [200]>\n",
      "[{'author': 'other',\n",
      "  'connection_id': '1eb61440-f87c-47fb-938c-f5963df6295d',\n",
      "  'consent_schema': '{\"oca_schema_namespace\": \"consent\", \"oca_schema_dri\": '\n",
      "                    '\"fArVHJTQSKHu2CeXJocQmH3HHxzZXsuQD7kzyHJhQ49s\", '\n",
      "                    '\"data_dri\": '\n",
      "                    '\"zQmcJf1w9bVpquGdzCp86pX4K21Zcn7bJBUtrBP1cr2NFuR\"}',\n",
      "  'created_at': '2020-10-26 12:41:42.789958Z',\n",
      "  'exchange_id': '0c07b4ff-1a4b-4bf5-9c33-739ef203d59f',\n",
      "  'issue_id': '0cf66f056d2cb2d85ae56a4fa54b2968e96eea8b478310546f6a696ee711a02e',\n",
      "  'label': 'consent_test',\n",
      "  'payload': None,\n",
      "  'service_consent_match_id': 'a5c4ab1e-7a12-4916-b4e1-7c5d3294f666',\n",
      "  'service_id': '07cda35c-4421-4a9a-b775-3f968f0466c3',\n",
      "  'service_schema': '{\"oca_schema_namespace\": \"string\", \"oca_schema_dri\": '\n",
      "                    '\"string\"}',\n",
      "  'state': 'pending',\n",
      "  'updated_at': '2020-10-26 12:41:42.789958Z'}]\n"
     ]
    }
   ],
   "source": [
    "time.sleep(1)\n",
    "issue_self = requests.post('http://localhost:8151/verifiable-services/get-issue-self', json={\n",
    "    \"exchange_id\": apply['exchange_id'],\n",
    "})\n",
    "print(issue_self)\n",
    "issue_self = json.loads(issue_self.text)\n",
    "pp.pprint(issue_self)"
   ]
  },
  {
   "cell_type": "code",
   "execution_count": 55,
   "metadata": {
    "scrolled": true
   },
   "outputs": [
    {
     "name": "stdout",
     "output_type": "stream",
     "text": [
      "<Response [200]>\n",
      "{'credential_exchange_record': {'auto_issue': True,\n",
      "                                'auto_offer': False,\n",
      "                                'auto_remove': False,\n",
      "                                'connection_id': '1eb61440-f87c-47fb-938c-f5963df6295d',\n",
      "                                'created_at': '2020-10-26 12:42:09.537333Z',\n",
      "                                'credential_definition_id': '3LVMbg6wsELB3hycZ3ykEt:3:CL:16:Services',\n",
      "                                'credential_exchange_id': 'cf9e83e2-c5c0-4681-a873-8f0993298584',\n",
      "                                'credential_offer': {'cred_def_id': '3LVMbg6wsELB3hycZ3ykEt:3:CL:16:Services',\n",
      "                                                     'key_correctness_proof': {'c': '100076842902840564216156485813849060267645390359882089417497726802921127736947',\n",
      "                                                                               'xr_cap': [['service_consent_match_id',\n",
      "                                                                                           '1973638141221644747724679991109255150722592998025234052284746301691306753707262362870957905085450747144181123729848062188702210720410257316123737859053343026984089781990897500244893726367430162518057032578366133882610660691903260331216925673790191422426925350877482054577787594572096557621869672236008855559380457654900108836450780010897828920621089181255205949452554397968556637634107815287300339711692988643488747948197796348973632889292171472598776685605516688351027525840256194430694940079528830452266283796635815319218262527692331970252175620713075588645467106241656656280217981675290229085728760536529294313762189443321256898644418840876391112302491116825752210302498214941371565643448579'],\n",
      "                                                                                          ['master_secret',\n",
      "                                                                                           '2102319376327876333464516112818235392574936663023685471998104741649518219720055015902353193599973846251083156264838560470423038031499020080376409297677444868956121657556222903056333454103448386517195676734849976636021789814659201885098436280929621408077902482457341427822965500368851693162918861081347581640280149612235463891624232450037942174499883060916894839048230411908013289497360883945395573032172028582571001717004282000388541230347084540939829350295744864383177113457736512116550621313238993740110624617329471736973119251736385655701562309199304600219402499665147318765081938071868396726975229127668556475147281815811917904397694322622026460503042952804459480593965637635732933276704930'],\n",
      "                                                                                          ['oca_schema_dri',\n",
      "                                                                                           '408154475653723978499561978676531753001010700083208425227976374615360048809130198518656196562280728323270173325493089998697270566243278039860571405690886099129398141883111691975168922003784275288911153943371987535896727214818294261027701047824813010487412487509411504167420703702038642319141613826863896954026805042565405628622219822581384474426601673529431207166733584427070139574655381513037962896693504509586981080336667046255392893530919511958067473611216607635670910115999365012872800382981732959557399587297722955468006381022851905099765773037022345870736678030829279826287189621326377380642601205091979710489756650257021798523800278918872264621661436233241202619842276988728406658637348'],\n",
      "                                                                                          ['oca_schema_namespace',\n",
      "                                                                                           '661722316368619464599063061707807625241420262882767454832779682919189456192504274213083266933352675013854476823922675455722054539844501811535616774015166972624670207932974658496271336563228677146717722187980909552708283092047149776058055197981076178015035761869773357450711831336737297982693043366435082393182856026079127861728218549556775033461558202034474885258107871675883766275494644338022089152852600755392789695711147851745865005271929358401076520510375886235517347002125358865217549000071256609032320162171716161316566790012885148313163768969383899875079710688272709859404256646646831837347975455261311044608578467614777569132608217227395711247951482631365835518296847284812624982027024'],\n",
      "                                                                                          ['data_dri',\n",
      "                                                                                           '1145953957936264090160282693119497143394807525175604181120279376594883000684766380042543860380429123443508742996200652988996543546618925469497656165224306137345939192193033798683913652380813541901407939495734539841375007528459613181600772298852589640756926139476898001465257626775642763432743086608579490767223821516781905030392404916518267940681310967460781539103391804988545740885185231719651178815385127042111144104034615987114946322589169670016704612108959213887381052260307028503871215822444795528303736889528425638267853640012732457368476333345965257254700670099502161096091302049428036254511480025128593950430945275878929311145527598528356366277067264328569900018561636703944716832888744']],\n",
      "                                                                               'xz_cap': '1636876475527218729206465898236788489670261248833895206686845381601962018164966332029971042331605129251071865409839675951888828141591995991640884935168354585720492051398778386888630394375835044685666467029029922080696380020688448171299082161027065669196635753414990290418191052701963627814941292709484767922936943216679463879308876467744836287420221016394810725330643976957250074399753089560509318423622204326842045541244006087019581661545010758468483759063247898371337120419770944442973452302259193574363727453460985424197431803454633283119845395181954802074123665864705462863878832971170664848399310963851751233454823390837079170545503759701732428722693726800197768403715792562014205676105835'},\n",
      "                                                     'nonce': '76453669892184341106374',\n",
      "                                                     'schema_id': '3LVMbg6wsELB3hycZ3ykEt:2:consent_test:1.0'},\n",
      "                                'credential_offer_dict': {'@id': '65014263-6cb5-4688-ae59-698b85394f31',\n",
      "                                                          '@type': 'did:sov:BzCbsNYhMrjHiqZDTUASHg;spec/issue-credential/1.0/offer-credential',\n",
      "                                                          'credential_preview': {'@type': 'did:sov:BzCbsNYhMrjHiqZDTUASHg;spec/issue-credential/1.0/credential-preview',\n",
      "                                                                                 'attributes': [{'mime-type': 'application/json',\n",
      "                                                                                                 'name': 'oca_schema_dri',\n",
      "                                                                                                 'value': 'string'},\n",
      "                                                                                                {'mime-type': 'application/json',\n",
      "                                                                                                 'name': 'data_dri',\n",
      "                                                                                                 'value': 'zQmSnRDrp3sNzsB194RaKwqKWmFS7mbT8oiF7qMWUCoNGgQ'},\n",
      "                                                                                                {'mime-type': 'application/json',\n",
      "                                                                                                 'name': 'oca_schema_namespace',\n",
      "                                                                                                 'value': 'string'},\n",
      "                                                                                                {'mime-type': 'application/json',\n",
      "                                                                                                 'name': 'service_consent_match_id',\n",
      "                                                                                                 'value': 'a5c4ab1e-7a12-4916-b4e1-7c5d3294f666'}]},\n",
      "                                                          'offers~attach': [{'@id': 'libindy-cred-offer-0',\n",
      "                                                                             'data': {'base64': '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'},\n",
      "                                                                             'mime-type': 'application/json'}],\n",
      "                                                          '~thread': {}},\n",
      "                                'credential_proposal_dict': {'@id': '24a39d15-d030-4303-9b6f-7b279ca7066d',\n",
      "                                                             '@type': 'did:sov:BzCbsNYhMrjHiqZDTUASHg;spec/issue-credential/1.0/propose-credential',\n",
      "                                                             'cred_def_id': '3LVMbg6wsELB3hycZ3ykEt:3:CL:16:Services',\n",
      "                                                             'credential_proposal': {'@type': 'did:sov:BzCbsNYhMrjHiqZDTUASHg;spec/issue-credential/1.0/credential-preview',\n",
      "                                                                                     'attributes': [{'mime-type': 'application/json',\n",
      "                                                                                                     'name': 'oca_schema_dri',\n",
      "                                                                                                     'value': 'string'},\n",
      "                                                                                                    {'mime-type': 'application/json',\n",
      "                                                                                                     'name': 'data_dri',\n",
      "                                                                                                     'value': 'zQmSnRDrp3sNzsB194RaKwqKWmFS7mbT8oiF7qMWUCoNGgQ'},\n",
      "                                                                                                    {'mime-type': 'application/json',\n",
      "                                                                                                     'name': 'oca_schema_namespace',\n",
      "                                                                                                     'value': 'string'},\n",
      "                                                                                                    {'mime-type': 'application/json',\n",
      "                                                                                                     'name': 'service_consent_match_id',\n",
      "                                                                                                     'value': 'a5c4ab1e-7a12-4916-b4e1-7c5d3294f666'}]}},\n",
      "                                'initiator': 'self',\n",
      "                                'schema_id': '3LVMbg6wsELB3hycZ3ykEt:2:consent_test:1.0',\n",
      "                                'state': 'offer_sent',\n",
      "                                'thread_id': '65014263-6cb5-4688-ae59-698b85394f31',\n",
      "                                'updated_at': '2020-10-26 12:42:09.537333Z'},\n",
      " 'issue': {'author': 'other',\n",
      "           'connection_id': '1eb61440-f87c-47fb-938c-f5963df6295d',\n",
      "           'created_at': '2020-10-26 12:41:42.789958Z',\n",
      "           'exchange_id': '0c07b4ff-1a4b-4bf5-9c33-739ef203d59f',\n",
      "           'label': 'consent_test',\n",
      "           'service_consent_match_id': 'a5c4ab1e-7a12-4916-b4e1-7c5d3294f666',\n",
      "           'service_id': '07cda35c-4421-4a9a-b775-3f968f0466c3',\n",
      "           'state': 'accepted',\n",
      "           'updated_at': '2020-10-26 12:42:09.549434Z'}}\n"
     ]
    }
   ],
   "source": [
    "issue_self = requests.post('http://localhost:8151/verifiable-services/process-application', json={\n",
    "    \"issue_id\": issue_self[0]['issue_id'],\n",
    "    \"decision\": \"accept\",\n",
    "})\n",
    "print(issue_self)\n",
    "issue_self = json.loads(issue_self.text)\n",
    "pp.pprint(issue_self)"
   ]
  },
  {
   "cell_type": "code",
   "execution_count": 57,
   "metadata": {
    "scrolled": false
   },
   "outputs": [
    {
     "name": "stdout",
     "output_type": "stream",
     "text": [
      "{'results': [{'attrs': {'data_dri': 'zQmSnRDrp3sNzsB194RaKwqKWmFS7mbT8oiF7qMWUCoNGgQ',\n",
      "                        'oca_schema_dri': 'string',\n",
      "                        'oca_schema_namespace': 'string',\n",
      "                        'service_consent_match_id': 'a5c4ab1e-7a12-4916-b4e1-7c5d3294f666'},\n",
      "              'cred_def_id': '3LVMbg6wsELB3hycZ3ykEt:3:CL:16:Services',\n",
      "              'cred_rev_id': None,\n",
      "              'referent': '6cb50e53-2ad8-4f49-984f-9076ee6f8a25',\n",
      "              'rev_reg_id': None,\n",
      "              'schema_id': '3LVMbg6wsELB3hycZ3ykEt:2:consent_test:1.0'}]}\n"
     ]
    }
   ],
   "source": [
    "credentials = requests.get('http://localhost:8150/credentials')\n",
    "credentials = json.loads(credentials.text) \n",
    "pp.pprint(credentials)"
   ]
  },
  {
   "cell_type": "code",
   "execution_count": null,
   "metadata": {
    "scrolled": true
   },
   "outputs": [],
   "source": [
    "proof_schema = {\n",
    "  \"proof_request\": {\n",
    "    \"version\": \"1.0\",\n",
    "    \"name\": \"Proof request\",\n",
    "    \"requested_attributes\": {\n",
    "      \"data_dri\": {\n",
    "        \"non_revoked\": {\n",
    "          \"from_epoch\": 1500000000,\n",
    "          \"to_epoch\": 1700758817\n",
    "        },\n",
    "        \"restrictions\": [\n",
    "          {\n",
    "            \"cred_def_id\": apply['credential_definition_id'],\n",
    "          }\n",
    "        ],\n",
    "        \"name\": \"data_dri\"\n",
    "      },\n",
    "    },\n",
    "    \"requested_predicates\": {\n",
    "    }\n",
    "  },\n",
    "  \"connection_id\": connection[1],\n",
    "#   \"trace\": True,\n",
    "  \"comment\": \"string\",\n",
    "  \"nonce\": \"1234567890\"\n",
    "}\n",
    "proof_json = json.dumps(proof_schema)\n",
    "\n",
    "proof = requests.post('http://localhost:8151/present-proof/send-request', json=proof_schema)\n",
    "print(proof.text)"
   ]
  },
  {
   "cell_type": "code",
   "execution_count": 359,
   "metadata": {
    "scrolled": false
   },
   "outputs": [
    {
     "name": "stdout",
     "output_type": "stream",
     "text": [
      "{'connection_id': '994ebd0f-14c2-428c-be53-e730bc3ca7a7',\n",
      " 'created_at': '2020-09-22 11:58:22.954779Z',\n",
      " 'initiator': 'external',\n",
      " 'presentation_exchange_id': '964c067c-46fb-4a4f-b30d-253029bf6d53',\n",
      " 'presentation_request': {'name': 'Proof request',\n",
      "                          'nonce': '236523038637111089936187',\n",
      "                          'requested_attributes': {'data_dri': {'name': 'data_dri',\n",
      "                                                                'non_revoked': {'from_epoch': 1500000000,\n",
      "                                                                                'to_epoch': 1700758817},\n",
      "                                                                'restrictions': [{'cred_def_id': 'WWZtMuY1V9hvFF1ezey2EM:3:CL:1175:Services'}]}},\n",
      "                          'requested_predicates': {},\n",
      "                          'version': '1.0'},\n",
      " 'role': 'prover',\n",
      " 'state': 'request_received',\n",
      " 'thread_id': 'aab467d6-30db-442a-a23e-354f77100467',\n",
      " 'trace': False,\n",
      " 'updated_at': '2020-09-22 11:58:22.954779Z'}\n"
     ]
    }
   ],
   "source": [
    "proof = requests.get('http://localhost:8150/present-proof/records')\n",
    "proof_requests = json.loads(proof.text)['results']\n",
    "proof_request = proof_requests[-4]\n",
    "pp.pprint(proof_request)"
   ]
  },
  {
   "cell_type": "code",
   "execution_count": 360,
   "metadata": {},
   "outputs": [
    {
     "name": "stdout",
     "output_type": "stream",
     "text": [
      "{'requested_attributes': {'data_dri': {'cred_id': '657ec1be-2d72-41ba-a1c2-725082d1c759', 'revealed': True}}, 'requested_predicates': {}, 'self_attested_attributes': {}}\n",
      "{\"initiator\": \"external\", \"presentation_exchange_id\": \"964c067c-46fb-4a4f-b30d-253029bf6d53\", \"created_at\": \"2020-09-22 11:58:22.954779Z\", \"trace\": false, \"state\": \"presentation_sent\", \"connection_id\": \"994ebd0f-14c2-428c-be53-e730bc3ca7a7\", \"presentation_request\": {\"version\": \"1.0\", \"name\": \"Proof request\", \"requested_attributes\": {\"data_dri\": {\"non_revoked\": {\"from_epoch\": 1500000000, \"to_epoch\": 1700758817}, \"restrictions\": [{\"cred_def_id\": \"WWZtMuY1V9hvFF1ezey2EM:3:CL:1175:Services\"}], \"name\": \"data_dri\"}}, \"requested_predicates\": {}, \"nonce\": \"236523038637111089936187\"}, \"thread_id\": \"aab467d6-30db-442a-a23e-354f77100467\", \"updated_at\": \"2020-09-22 11:58:42.143421Z\", \"presentation\": {\"proof\": {\"proofs\": [{\"primary_proof\": {\"eq_proof\": {\"revealed_attrs\": {\"data_dri\": \"46796680751272472783988362602137825638383598079504819093754394509164353886973\"}, \"a_prime\": \"42060925111681669636213334465461164575836194937273514079107094119770484811000923091931931784785962619845420855610272334622125682737405195884213715565867043509925472416542230863397669958480326702009362188549625307238027141923316901463241665948886510725396751211682976967537427315898409725423004977165973917577012397530091085459428313234742407572778673167976233810565597772593501428323674039588815331363333011131947563740565737374539566838030750665908985019265316116568987453545729637513283468515631444897559731280710185010390213929739834049875974694578153331367913238465099147764748757565809536821203716456575388378246\", \"e\": \"149744341664205744796154145307544248538889876675252530822112571443987546230915749702200658558420585713265123016013950977835969801053953057\", \"v\": \"611500275973716077638342134196143749269401777789295453477448952386694564754355219816896070280138046380597845313572924400039537614356550185345175519676886228534421522375059312418479172732704034125825285263726391463099804925326792955688994599264072888868147154086462088856576722420610251175390240393484212824859248095563277662182316048818404817752837750682311933776232565112156547542996673647885005252976628352266826262528613196337151779396744520955488617272922513173590890311138471331069250873591569080334336608211859065467889654065083576388358134177057657204175650203573670980280474111209661536613018013783943729771456848694997770331422735617853248555251590772247311074442108257482287847716201687135816676096040076847229708137930028637846719395420635293955991640151071282034453565406274539490046382548656941404839366363410458847362772078389209200362489367266760385226192321439164226416115778280460381338638837626371832277\", \"m\": {\"master_secret\": \"2386760805094402316301225455828598737852974810826183656609281403581400406381385357708002631450192597334737210900913783774065131278351010748381917449267988342221531930358518539593\", \"oca_schema_dri\": \"10467365126062225482220034266152025282119565305540774185894769593869521567039440403762918471710644463790938437383541425719509092454510052384855934169534701186169031533936996914208\", \"oca_schema_namespace\": \"5641039992783029118954033759931093315849431783850509706247083558761588336191455463479046583104389411550948521774966114533333848120198885113197917260032611884419343556216679868168\"}, \"m2\": \"9423589221175845988822465438365229099266331562855899050815504765507197913400318984512239410921352506129337243879571510767874922106901635484072542962230815225264781509213281129829\"}, \"ge_proofs\": []}, \"non_revoc_proof\": null}], \"aggregated_proof\": {\"c_hash\": \"13897483270767136334365162946375255520601393712161530796352281947775339896398\", \"c_list\": [[1, 77, 47, 204, 5, 97, 6, 60, 158, 55, 51, 65, 76, 154, 39, 86, 149, 244, 143, 41, 116, 94, 53, 141, 49, 38, 73, 51, 239, 187, 17, 43, 237, 113, 206, 6, 46, 213, 154, 195, 234, 33, 54, 144, 95, 132, 156, 147, 48, 125, 174, 17, 146, 107, 85, 227, 145, 206, 229, 246, 67, 191, 167, 65, 111, 24, 119, 26, 172, 132, 117, 244, 163, 236, 227, 155, 96, 23, 1, 213, 56, 25, 73, 110, 24, 150, 109, 194, 9, 117, 156, 97, 172, 96, 40, 127, 152, 155, 200, 129, 154, 125, 33, 159, 70, 11, 146, 191, 25, 96, 17, 197, 113, 193, 182, 252, 144, 235, 14, 238, 129, 214, 130, 131, 119, 162, 182, 242, 44, 158, 228, 57, 119, 93, 144, 200, 70, 234, 176, 146, 220, 47, 242, 70, 27, 19, 174, 161, 31, 85, 119, 241, 155, 46, 214, 170, 179, 127, 29, 3, 90, 188, 65, 169, 104, 181, 167, 129, 2, 227, 203, 148, 69, 145, 180, 255, 73, 135, 133, 76, 195, 230, 209, 158, 174, 249, 219, 148, 79, 88, 160, 250, 242, 28, 237, 234, 142, 75, 181, 105, 176, 70, 160, 222, 192, 225, 27, 17, 110, 58, 114, 69, 71, 6, 84, 55, 33, 180, 149, 173, 229, 5, 34, 120, 92, 220, 250, 55, 211, 152, 136, 2, 23, 11, 3, 232, 198, 94, 155, 57, 156, 157, 110, 162, 207, 172, 141, 175, 206, 120, 135, 218, 209, 204, 112, 100, 134]]}}, \"requested_proof\": {\"revealed_attrs\": {\"data_dri\": {\"sub_proof_index\": 0, \"raw\": \"7dfd716666994497926f8ca02e769257d36bba92f0c31e4fe91ccba9f4311f86\", \"encoded\": \"46796680751272472783988362602137825638383598079504819093754394509164353886973\"}}, \"self_attested_attrs\": {}, \"unrevealed_attrs\": {}, \"predicates\": {}}, \"identifiers\": [{\"schema_id\": \"WWZtMuY1V9hvFF1ezey2EM:2:consent_test:1.0\", \"cred_def_id\": \"WWZtMuY1V9hvFF1ezey2EM:3:CL:1175:Services\", \"rev_reg_id\": null, \"timestamp\": null}]}, \"role\": \"prover\"}\n"
     ]
    }
   ],
   "source": [
    "url = 'http://localhost:8150/present-proof/records/' + \\\n",
    "       proof_request['presentation_exchange_id'] + \\\n",
    "       '/send-presentation'\n",
    "\n",
    "presentation_schema = {\n",
    "  \"requested_attributes\": {\n",
    "    \"data_dri\": {\n",
    "      \"cred_id\": credentials['results'][0]['referent'],\n",
    "        \"revealed\": True\n",
    "    },\n",
    "  },\n",
    "   \"requested_predicates\": {\n",
    "  },\n",
    "  \"self_attested_attributes\": {\n",
    "  }\n",
    "}\n",
    "print(presentation_schema)\n",
    "present = requests.post(url, json=presentation_schema)\n",
    "\n",
    "print(present.text)"
   ]
  },
  {
   "cell_type": "code",
   "execution_count": 53,
   "metadata": {},
   "outputs": [],
   "source": [
    "send = requests.post('http://localhost:8151/schema-exchange/request-schema', json={\n",
    "  \"hash_id\": add['hash_id'],\n",
    "  \"connection_id\": connection[1]\n",
    "})"
   ]
  },
  {
   "cell_type": "code",
   "execution_count": 54,
   "metadata": {},
   "outputs": [],
   "source": [
    "send = requests.post('http://localhost:8151/schema-exchange/request-schema', json={\n",
    "  \"hash_id\": \"ddd\",\n",
    "  \"connection_id\": connection[1]\n",
    "})"
   ]
  },
  {
   "cell_type": "code",
   "execution_count": 55,
   "metadata": {
    "scrolled": true
   },
   "outputs": [
    {
     "name": "stdout",
     "output_type": "stream",
     "text": [
      "{\"hash_id\": \"ddd\", \"connection_id\": \"a361d994-aaea-4f5c-9bf4-9644a774de2b\", \"record_id\": \"1e61b917-946b-4a56-8810-5b48081f79e6\", \"exchange_id\": \"c5f71769-b806-49fe-8861-15f49ffad9e3\", \"state\": \"pending\"}\n"
     ]
    }
   ],
   "source": [
    "print(send.text)"
   ]
  },
  {
   "cell_type": "markdown",
   "metadata": {},
   "source": [
    "### GET Request By RECORD_ID"
   ]
  },
  {
   "cell_type": "markdown",
   "metadata": {},
   "source": [
    "### GET Request List and filter by state and author"
   ]
  },
  {
   "cell_type": "code",
   "execution_count": 56,
   "metadata": {
    "scrolled": true
   },
   "outputs": [
    {
     "name": "stdout",
     "output_type": "stream",
     "text": [
      "Agent1:\n",
      "[{'author': 'other',\n",
      "  'connection_id': '844f6e7f-c13e-4ef8-b018-754fc5205445',\n",
      "  'created_at': '2020-07-16 09:09:17.991960Z',\n",
      "  'exchange_id': 'c5f71769-b806-49fe-8861-15f49ffad9e3',\n",
      "  'payload': 'ddd',\n",
      "  'state': 'failed to find the record',\n",
      "  'updated_at': '2020-07-16 09:09:17.991960Z'},\n",
      " {'author': 'other',\n",
      "  'connection_id': '844f6e7f-c13e-4ef8-b018-754fc5205445',\n",
      "  'created_at': '2020-07-16 09:09:16.748526Z',\n",
      "  'exchange_id': 'f51e4a06-2214-4b9e-a28a-d4c336258f66',\n",
      "  'payload': '9f86d081884c7d659a2feaa0c55ad015a3bf4f1b2b0b822cd15d6c15b0f00a08',\n",
      "  'state': 'approved',\n",
      "  'updated_at': '2020-07-16 09:09:16.748526Z'}]\n",
      "\n",
      "Agent2:\n",
      "[{'author': 'self',\n",
      "  'connection_id': 'a361d994-aaea-4f5c-9bf4-9644a774de2b',\n",
      "  'created_at': '2020-07-16 09:09:17.950785Z',\n",
      "  'exchange_id': 'c5f71769-b806-49fe-8861-15f49ffad9e3',\n",
      "  'payload': 'ddd',\n",
      "  'state': 'failed to find the record',\n",
      "  'updated_at': '2020-07-16 09:09:18.029400Z'},\n",
      " {'author': 'self',\n",
      "  'connection_id': 'a361d994-aaea-4f5c-9bf4-9644a774de2b',\n",
      "  'created_at': '2020-07-16 09:09:16.720869Z',\n",
      "  'exchange_id': 'f51e4a06-2214-4b9e-a28a-d4c336258f66',\n",
      "  'payload': '9f86d081884c7d659a2feaa0c55ad015a3bf4f1b2b0b822cd15d6c15b0f00a08',\n",
      "  'state': 'approved',\n",
      "  'updated_at': '2020-07-16 09:09:16.780856Z'}]\n"
     ]
    }
   ],
   "source": [
    "request_list = requests.post('http://localhost:8150/schema-storage/debug/request/list', json={})\n",
    "request_list = json.loads(request_list.text)\n",
    "print(\"Agent1:\", )\n",
    "pp.pprint(request_list)\n",
    "request_list = requests.post('http://localhost:8151/schema-storage/debug/request/list', json={})\n",
    "request_list = json.loads(request_list.text)\n",
    "print(\"\\nAgent2:\")\n",
    "pp.pprint(request_list)"
   ]
  },
  {
   "cell_type": "markdown",
   "metadata": {},
   "source": [
    "### GET RECORD LIST"
   ]
  },
  {
   "cell_type": "code",
   "execution_count": 57,
   "metadata": {
    "scrolled": true
   },
   "outputs": [
    {
     "name": "stdout",
     "output_type": "stream",
     "text": [
      "Agent1: \n",
      "[{'author': 'self',\n",
      "  'created_at': '2020-07-16 09:09:15.407083Z',\n",
      "  'hash_id': '9f86d081884c7d659a2feaa0c55ad015a3bf4f1b2b0b822cd15d6c15b0f00a08',\n",
      "  'payload': 'test',\n",
      "  'updated_at': '2020-07-16 09:09:15.407083Z'}]\n",
      "Agent2: \n",
      "[{'author': 'a361d994-aaea-4f5c-9bf4-9644a774de2b',\n",
      "  'created_at': '2020-07-16 09:09:16.808608Z',\n",
      "  'hash_id': '9f86d081884c7d659a2feaa0c55ad015a3bf4f1b2b0b822cd15d6c15b0f00a08',\n",
      "  'payload': 'test',\n",
      "  'updated_at': '2020-07-16 09:09:16.808608Z'}]\n"
     ]
    }
   ],
   "source": [
    "getRequests = requests.post('http://localhost:8150/schema-storage/list')\n",
    "record_list = json.loads(getRequests.text)\n",
    "print(\"Agent1: \")\n",
    "pp.pprint(record_list)\n",
    "\n",
    "getRequests = requests.post('http://localhost:8151/schema-storage/list')\n",
    "record_list = json.loads(getRequests.text)\n",
    "print(\"Agent2: \")\n",
    "pp.pprint(record_list)"
   ]
  },
  {
   "cell_type": "code",
   "execution_count": null,
   "metadata": {},
   "outputs": [],
   "source": [
    "\n",
    "# message = util.buildMessage(\n",
    "#         'https://didcomm.org/issue-credential/1.0/propose-credential'\n",
    "#     )\n",
    "# testing = util.sendMessage(message, agents[0])\n",
    "# pp.pprint(testing)"
   ]
  },
  {
   "cell_type": "code",
   "execution_count": null,
   "metadata": {},
   "outputs": [],
   "source": [
    "# pp.pprint(util.sendSchema(agents[0], \"schesssdddvd\", \"1.0\", [\"memesssaaaaaaa\"]))"
   ]
  },
  {
   "cell_type": "code",
   "execution_count": null,
   "metadata": {},
   "outputs": [],
   "source": [
    "# result = util.schemaGetList(agents[0])\n",
    "# last_schema_id = result['results'][-1]['schema_id']\n",
    "# print(result)"
   ]
  },
  {
   "cell_type": "code",
   "execution_count": null,
   "metadata": {},
   "outputs": [],
   "source": [
    "# util.schemaGet(agents[0], last_schema_id)"
   ]
  }
 ],
 "metadata": {
  "kernelspec": {
   "display_name": "Python 3",
   "language": "python",
   "name": "python3"
  },
  "language_info": {
   "codemirror_mode": {
    "name": "ipython",
    "version": 3
   },
   "file_extension": ".py",
   "mimetype": "text/x-python",
   "name": "python",
   "nbconvert_exporter": "python",
   "pygments_lexer": "ipython3",
   "version": "3.7.5"
  }
 },
 "nbformat": 4,
 "nbformat_minor": 4
}

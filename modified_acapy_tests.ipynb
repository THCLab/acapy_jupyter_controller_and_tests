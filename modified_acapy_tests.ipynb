{
 "cells": [
  {
   "cell_type": "code",
   "execution_count": 14,
   "metadata": {
    "scrolled": true
   },
   "outputs": [
    {
     "data": {
      "text/plain": [
       "<module 'jupyter_util' from '/home/sevni/Documents/thclab/aries/controller_acapy_and_tests/jupyter_util.py'>"
      ]
     },
     "execution_count": 14,
     "metadata": {},
     "output_type": "execute_result"
    }
   ],
   "source": [
    "import requests \n",
    "import json\n",
    "import pprint as pp # pretty print\n",
    "\n",
    "import aries_cloudagent.wallet.crypto as crypto\n",
    "import base64\n",
    "import base58\n",
    "import uuid\n",
    "import hashlib\n",
    "import time\n",
    "import jupyter_util as util\n",
    "from importlib import reload\n",
    "reload(util)"
   ]
  },
  {
   "cell_type": "code",
   "execution_count": 15,
   "metadata": {},
   "outputs": [],
   "source": [
    "localhost = \"http://localhost:\"\n",
    "\n",
    "def assert_status_code_is_200(response_object):\n",
    "    get = response_object\n",
    "    if get.status_code != 200:\n",
    "        print(\"status_code: \" + str(get.status_code) + \"  value: \" + str(get.text))\n",
    "        assert get.status_code == 200, \"status_code is not 200\"\n",
    "\n",
    "def get(port, url_end) -> dict:\n",
    "    port = str(port)\n",
    "    request = requests.get(localhost + port + url_end)\n",
    "    assert_status_code_is_200(request)\n",
    "    result = json.loads(request.text)\n",
    "    return result\n",
    "    \n",
    "def post(port, url_end, json_dict=None) -> dict:\n",
    "    port = str(port)\n",
    "    if json_dict != None:\n",
    "        request = requests.post(localhost + port + url_end, json=json_dict)\n",
    "    else:\n",
    "        request = requests.post(localhost + port + url_end)\n",
    "        \n",
    "    assert_status_code_is_200(request)\n",
    "    result = json.loads(request.text)\n",
    "    return result    "
   ]
  },
  {
   "cell_type": "code",
   "execution_count": 27,
   "metadata": {
    "scrolled": false
   },
   "outputs": [
    {
     "name": "stdout",
     "output_type": "stream",
     "text": [
      "PDS agent1 and agent2 ['{\"active\": \"own_your_data, default\", \"types\": {\"local\": {\"oca_schema_namespace\": \"pds\", \"oca_schema_dri\": \"3Fb68s1EPcX4HZhhT23HXrYpuMfcZdreD8xNmEMDc6nC\"}, \"data_vault\": {\"oca_schema_namespace\": \"pds\", \"oca_schema_dri\": \"ejHFuhg2v1ZrL5uQrHe3Arcxy62GWNakjTwL38swC9RB\"}, \"own_your_data\": {\"oca_schema_namespace\": \"pds\", \"oca_schema_dri\": \"9bABtmHu628Ss4oHmyTU5gy7QB1VftngewTmh7wdmN1j\"}}}', '{\"active\": \"own_your_data, default\", \"types\": {\"local\": {\"oca_schema_namespace\": \"pds\", \"oca_schema_dri\": \"3Fb68s1EPcX4HZhhT23HXrYpuMfcZdreD8xNmEMDc6nC\"}, \"data_vault\": {\"oca_schema_namespace\": \"pds\", \"oca_schema_dri\": \"ejHFuhg2v1ZrL5uQrHe3Arcxy62GWNakjTwL38swC9RB\"}, \"own_your_data\": {\"oca_schema_namespace\": \"pds\", \"oca_schema_dri\": \"9bABtmHu628Ss4oHmyTU5gy7QB1VftngewTmh7wdmN1j\"}}}']\n"
     ]
    }
   ],
   "source": [
    "def save_to_pds(some_json):\n",
    "    add = requests.post('http://localhost:8150/pds/save', json=some_json)\n",
    "    assert_status_code_is_200(add)\n",
    "    \n",
    "    add = json.loads(add.text)\n",
    "    return add\n",
    "\n",
    "def save_to_pds2(some_json):\n",
    "    add = requests.post('http://localhost:8151/pds/save', json=some_json)\n",
    "    assert_status_code_is_200(add)\n",
    "    \n",
    "    add = json.loads(add.text)\n",
    "    return add\n",
    "\n",
    "def get_from_pds(some_id):\n",
    "    get = requests.get('http://localhost:8150/pds/' + some_id)\n",
    "    assert_status_code_is_200(get)    \n",
    "        \n",
    "    get = json.loads(get.text)\n",
    "    return get\n",
    "\n",
    "def get_from_pds2(some_id):\n",
    "    get = requests.get('http://localhost:8150/pds/' + some_id)\n",
    "    assert_status_code_is_200(get)    \n",
    "        \n",
    "    get = json.loads(get.text)\n",
    "    return get\n",
    "\n",
    "def save_and_retrieve(optional_test_string = \"\"):\n",
    "    payload = {\"payload\": \"testing\" + \" \" + optional_test_string}\n",
    "    id = save_to_pds(payload)\n",
    "    content = get_from_pds(str(id['payload_id']))\n",
    "    \n",
    "    assert payload == content, f\"initial payload not equal to return value from pds {payload, content}\"\n",
    "    \n",
    "    return id['payload_id']\n",
    "\n",
    "def get_pdses():\n",
    "    get1 = requests.get('http://localhost:8150/pds')\n",
    "    get2 = requests.get('http://localhost:8151/pds')\n",
    "    \n",
    "    assert get1.text != None and get2.text != None\n",
    "    assert_status_code_is_200(get1)\n",
    "    assert_status_code_is_200(get2)\n",
    "    \n",
    "    return [get1.text, get2.text]\n",
    "        \n",
    "        \n",
    "def set_pds_config(pds_type, settings = {}, instance_name = \"default\"):\n",
    "    if settings != {}:\n",
    "        settings.update({\"optional_instance_name\": instance_name})\n",
    "        config = requests.post('http://localhost:8150/pds/settings', json={\n",
    "          \"settings\": {\n",
    "              pds_type: settings\n",
    "          }\n",
    "        })\n",
    "        assert_status_code_is_200(config)    \n",
    "        \n",
    "    config = requests.post('http://localhost:8150/pds/activate?type=' + pds_type + '&optional_name=' + instance_name)\n",
    "    assert_status_code_is_200(config)   \n",
    "    \n",
    "    if settings != {}:\n",
    "        settings.update({\"optional_instance_name\": instance_name})\n",
    "        config = requests.post('http://localhost:8151/pds/settings', json={\n",
    "          \"settings\": {\n",
    "              pds_type: settings\n",
    "          }\n",
    "        })\n",
    "        assert_status_code_is_200(config)    \n",
    "        \n",
    "    config = requests.post('http://localhost:8151/pds/activate?type=' + pds_type + '&optional_name=' + instance_name)\n",
    "    assert_status_code_is_200(config) \n",
    "    \n",
    "    \n",
    "def set_own_your_data():\n",
    "    set_pds_config(\"own_your_data\", {\n",
    "        \"client_id\": \"8SX1-RBazhic9ftG4HyG2XegrQ2kdLGu0hd-Ty3IZnE\", \n",
    "        \"client_secret\": \"gEg9_tTh2V1ZK6piL9tZ38YO-1xqXLDXCccJS4uQUJg\",\n",
    "        \"api_url\": \"https://data-vault.eu\"\n",
    "    })\n",
    "    \n",
    "def activate_pds_both_agents(pds_type, instance_name = 'default'):\n",
    "    config = requests.post('http://localhost:8150/pds/activate?type=' + pds_type + '&optional_name=' + instance_name)\n",
    "    assert_status_code_is_200(config)   \n",
    "    config = requests.post('http://localhost:8151/pds/activate?type=' + pds_type + '&optional_name=' + instance_name)\n",
    "    assert_status_code_is_200(config) \n",
    "    \n",
    "def test_pds_return_same_id():\n",
    "    set_own_your_data()\n",
    "    id1 = save_to_pds({\"payload\": \"testing\"})\n",
    "    set_pds_config(\"local\")\n",
    "    id2 = save_to_pds({\"payload\": \"testing\"})\n",
    "    \n",
    "    assert id1['payload_id'] == id2['payload_id'], \"own_your_data and local return different ids\"\n",
    "    \n",
    "    set_pds_config(\"local\")\n",
    "    id1 = save_to_pds({\"payload\": \"testing\"})\n",
    "    set_pds_config(\"data_vault\", {\"host\": \"http://ocadatavault\"})\n",
    "    id2 = save_to_pds({\"payload\": \"testing\"})\n",
    "    \n",
    "    assert id1['payload_id'] == id2['payload_id'], \"local and data_vault return different ids\"\n",
    "\n",
    "    return [id1, id2]\n",
    "    \n",
    "    \n",
    "# test_pds_return_same_id()\n",
    "set_pds_config(\"local\")\n",
    "save_and_retrieve(\"local\")\n",
    "set_pds_config(\"data_vault\", {\"api_url\": \"http://ocadatavault\"})\n",
    "save_and_retrieve(\"data_vault_thcf\")\n",
    "set_pds_config(\"data_vault\", {\"api_url\": \"http://ocadatavault\"}, \"vault2\")\n",
    "save_and_retrieve(\"data_vault_thcf_2\")\n",
    "set_own_your_data()\n",
    "payload_id = save_and_retrieve(\"own_your_data\")\n",
    "\n",
    "\n",
    "print(\"PDS agent1 and agent2\", get_pdses())\n",
    "\n"
   ]
  },
  {
   "cell_type": "code",
   "execution_count": 30,
   "metadata": {},
   "outputs": [],
   "source": [
    "## TEST that Settings are persistent! \n",
    "activate_pds_both_agents(\"data_vault\")\n",
    "save_and_retrieve(\"data_vault_thcf\")\n",
    "activate_pds_both_agents(\"data_vault\", \"vault2\")\n",
    "save_and_retrieve(\"data_vault_thcf_2\")\n",
    "activate_pds_both_agents(\"own_your_data\")\n",
    "payload_id = save_and_retrieve(\"own_your_data\")"
   ]
  },
  {
   "cell_type": "code",
   "execution_count": 31,
   "metadata": {
    "scrolled": true
   },
   "outputs": [
    {
     "name": "stdout",
     "output_type": "stream",
     "text": [
      "http://agent1.localhost?c_i=eyJAdHlwZSI6ICJkaWQ6c292OkJ6Q2JzTlloTXJqSGlxWkRUVUFTSGc7c3BlYy9jb25uZWN0aW9ucy8xLjAvaW52aXRhdGlvbiIsICJAaWQiOiAiNjk3Njc2ZmQtYTAzYi00ZTYwLWI0ZmItYzUzMWJjZDhlMDM4IiwgImxhYmVsIjogIk1haW4gKGFkbWluKSIsICJzZXJ2aWNlRW5kcG9pbnQiOiAiaHR0cDovL2FnZW50MS5sb2NhbGhvc3QiLCAicmVjaXBpZW50S2V5cyI6IFsiM25kYnRiOFZOTmVlYUtNMUZVQjRDNFEzZXNFSm5hNDg0azJmYnJpblpmWmUiXX0=\n",
      "http://agent2.localhost?c_i=eyJAdHlwZSI6ICJkaWQ6c292OkJ6Q2JzTlloTXJqSGlxWkRUVUFTSGc7c3BlYy9jb25uZWN0aW9ucy8xLjAvaW52aXRhdGlvbiIsICJAaWQiOiAiY2ZlNjM0MjMtOTZjNS00YmJiLWEwZGEtNTMzNmM3ZjVmMjdjIiwgInNlcnZpY2VFbmRwb2ludCI6ICJodHRwOi8vYWdlbnQyLmxvY2FsaG9zdCIsICJyZWNpcGllbnRLZXlzIjogWyI2eVBRdVdYVlBLRlNHZVJFcmJZUnpieGJNd0tCbXppdWN0ZEd3UFNCZEdpaCJdLCAibGFiZWwiOiAiQ2xpZW50IChhZG1pbikifQ==\n",
      "Decoded invitation:\n",
      "\n",
      "{'@id': 'cfe63423-96c5-4bbb-a0da-5336c7f5f27c',\n",
      " '@type': 'did:sov:BzCbsNYhMrjHiqZDTUASHg;spec/connections/1.0/invitation',\n",
      " 'label': 'Client (admin)',\n",
      " 'recipientKeys': ['6yPQuWXVPKFSGeRErbYRzbxbMwKBmziuctdGwPSBdGih'],\n",
      " 'serviceEndpoint': 'http://agent2.localhost'}\n",
      "Private key: \n",
      " 2yNh7P3v2rCRgoeptzWSEyunR8FRqeJM7z9HqjR4WqFBgahgvwYBSZsYNkErQxCwT33x3P6qyTHwcZ7SMN3LGRpD\n",
      "\n",
      "Public key: \n",
      " AuEjbTvZPgJyDmkeksZz4wvG2BqEe1NoJKQ36Q5RxMw\n",
      "3907e8a6-46e1-498c-8492-9215cf2aac0d \n",
      " 4f309d13-de31-4f8a-8ef2-845f77d8f59b\n"
     ]
    }
   ],
   "source": [
    "agent1 = {}\n",
    "plugin = {}\n",
    "endpoint = \"http://localhost:8150/connections/create-admin-invitation-url\"\n",
    "adminInvitationResponse = requests.post(endpoint)\n",
    "adminInvitationResponse = adminInvitationResponse.text\n",
    "agent1['url'] = json.loads(adminInvitationResponse)['invitation_url']\n",
    "print(agent1['url'])\n",
    "\n",
    "agent2 = {}\n",
    "endpoint = \"http://localhost:8151/connections/create-admin-invitation-url\"\n",
    "adminInvitationResponse = requests.post(endpoint)\n",
    "adminInvitationResponse = adminInvitationResponse.text\n",
    "agent2['url'] = json.loads(adminInvitationResponse)['invitation_url']\n",
    "print(agent2['url'])\n",
    "\n",
    "agent1 = util.processInviteUrl(agent1['url'])\n",
    "agent2 = util.processInviteUrl(agent2['url'])\n",
    "print(\"Decoded invitation:\\n\")\n",
    "pp.pprint(agent2['invite'])\n",
    "\n",
    "### Generating a did key using aries crypto module\n",
    "# Create a key pair with random seed \n",
    "# Order: 0 - public key, 1 - secret / pritvate key\n",
    "plugin['keypair'] = crypto.create_keypair()\n",
    "# it seems to me that did is an encoded sub string of public key\n",
    "# or maybe just some arbitrary random number\n",
    "did = plugin['keypair'][0][:16]\n",
    "# final version of our did\n",
    "plugin['did'] = base58.b58encode(did).decode(\"ascii\")\n",
    "# encoding keys to base58\n",
    "plugin['public_key_b58'] = \\\n",
    "    base58.b58encode(plugin['keypair'][0]).decode(\"ascii\")\n",
    "plugin['private_key_b58'] = \\\n",
    "    base58.b58encode(plugin['keypair'][1]).decode(\"ascii\")\n",
    "\n",
    "print(\"Private key: \\n\", plugin['private_key_b58'])\n",
    "print(\"\\nPublic key: \\n\", plugin['public_key_b58'])\n",
    "\n",
    "agent1['connection'] = util.connectWithAcapy(agent1, plugin)\n",
    "agent2['connection'] = util.connectWithAcapy(agent2, plugin)\n",
    "\n",
    "agent1['connection_details'] = util.decodeConnectionDetails(agent1['connection'])\n",
    "agent2['connection_details'] = util.decodeConnectionDetails(agent2['connection'])\n",
    "agents = [\n",
    "    {\n",
    "        \"label\": agent1['invite']['label'],\n",
    "        \"DIDDoc\": agent1['connection_details']['DIDDoc'],\n",
    "        \"myKey\": plugin['keypair'][1]\n",
    "    },\n",
    "    {\n",
    "        \"label\": agent2['invite']['label'],\n",
    "        \"DIDDoc\": agent2['connection_details']['DIDDoc'],\n",
    "        \"myKey\": plugin['keypair'][1]\n",
    "    },\n",
    "]\n",
    "\n",
    "connection = util.connectAgents(agents[0], agents[1])\n",
    "connection[1] = connection[1]['raw_repr']['connection_id']\n",
    "connection[0] = connection[0]['connection_id']\n",
    "print(connection[0], \"\\n\", connection[1])"
   ]
  },
  {
   "cell_type": "code",
   "execution_count": 6,
   "metadata": {
    "scrolled": false
   },
   "outputs": [],
   "source": [
    "# time.sleep(0.2)\n",
    "\n",
    "# add = requests.post(f'http://localhost:8151/pds/get_from?connection_id={connection[1]}&payload_id={1234}')\n",
    "# print(add.text)\n",
    "\n",
    "# set_pds_config(\"own_your_data\", {\n",
    "#     \"client_id\": \"8SX1-RBazhic9ftG4HyG2XegrQ2kdLGu0hd-Ty3IZnE\", \n",
    "#     \"client_secret\": \"gEg9_tTh2V1ZK6piL9tZ38YO-1xqXLDXCccJS4uQUJg\"\n",
    "# })\n",
    "# payload_id = save_and_retrieve(\"own_your_data1234\")\n",
    "# add = requests.post(f'http://localhost:8151/pds/get_from?connection_id={connection[1]}&payload_id={payload_id}')\n",
    "# assert '{\"message_sent\": \"success\"}' == add.text\n",
    "\n",
    "# time.sleep(1)\n",
    "# get1 = requests.get('http://localhost:8150/pds/' + str(payload_id))\n",
    "# get2 = requests.get('http://localhost:8151/pds/' + str(payload_id))\n",
    "# print(get1.text, get2.text)\n",
    "# assert get1.status_code == get2.status_code, f\"status codes are not equal {get1.status_code, get2.status_code}\"\n",
    "# assert get1.text == get2.text, \"exchanged data with get_from is not equal\"\n",
    "# set_pds_config(\"data_vault\", {\"host\": \"http://ocadatavault\"})"
   ]
  },
  {
   "cell_type": "markdown",
   "metadata": {},
   "source": [
    "### FEATURE DISCOVERY"
   ]
  },
  {
   "cell_type": "code",
   "execution_count": 117,
   "metadata": {
    "scrolled": false
   },
   "outputs": [],
   "source": [
    "time.sleep(0.5)\n",
    "newDid1 = util.createDid(agents[1])\n",
    "newDid0 = util.createDid(agents[0])\n",
    "\n",
    "try:\n",
    "    util.registerDidOnLedger(agents[1], newDid1['result']['did'], newDid1['result']['verkey'])\n",
    "except:\n",
    "    pass\n",
    "try:\n",
    "    util.registerDidOnLedger(agents[0], newDid0['result']['did'], newDid0['result']['verkey'])\n",
    "except:\n",
    "    pass\n",
    "\n",
    "util.setPublicDid(agents[1], newDid1['result']['did'])\n",
    "util.setPublicDid(agents[0], newDid0['result']['did'])\n",
    "time.sleep(0.5)"
   ]
  },
  {
   "cell_type": "code",
   "execution_count": 99,
   "metadata": {
    "scrolled": true
   },
   "outputs": [
    {
     "name": "stdout",
     "output_type": "stream",
     "text": [
      "{'credential_exchange_id': '48f96ad2-6ba8-42a5-a94f-2c17dbe223b2'}\n"
     ]
    }
   ],
   "source": [
    "issue_cred = post(8150, '/issue-credential/request', {\n",
    "  \"credential_values\": {\n",
    "    \"type\": \"Person\",\n",
    "    \"address\": {\n",
    "      \"type\": \"PostalAddress\",\n",
    "      \"streetAddress\": \"123 Main St.\",\n",
    "      \"addressLocality\": \"Blacksburg\",\n",
    "      \"addressRegion\": \"VA\",\n",
    "      \"postalCode\": \"24060\",\n",
    "      \"addressCountry\": \"US\",\n",
    "    }\n",
    "  },\n",
    "  \"connection_id\": connection[0],\n",
    "})\n",
    "\n",
    "pp.pprint(issue_cred)"
   ]
  },
  {
   "cell_type": "code",
   "execution_count": 100,
   "metadata": {
    "scrolled": true
   },
   "outputs": [
    {
     "name": "stdout",
     "output_type": "stream",
     "text": [
      "[{'initiator': 'external', 'connection_id': '4e10d704-658f-42e1-81ce-3d7f8b483581', 'updated_at': '2020-11-30 09:13:49.741527Z', 'trace': False, 'role': 'issuer', 'state': 'request_received', 'credential_exchange_id': 'a6a85fa5-c3b9-4d3d-b17f-78e2b544ce6c', 'created_at': '2020-11-30 09:13:49.741527Z', 'thread_id': '404d6a65-f536-436d-863a-2b317d58a9c6', 'credential_request': {'credential_values': {'type': 'Person', 'address': {'type': 'PostalAddress', 'streetAddress': '123 Main St.', 'addressLocality': 'Blacksburg', 'addressRegion': 'VA', 'postalCode': '24060', 'addressCountry': 'US'}}}}]\n"
     ]
    }
   ],
   "source": [
    "cred_exchange = get(8151, \"/issue-credential/exchange/record?state=request_received\")\n",
    "print(cred_exchange)"
   ]
  },
  {
   "cell_type": "code",
   "execution_count": 101,
   "metadata": {
    "scrolled": true
   },
   "outputs": [
    {
     "name": "stdout",
     "output_type": "stream",
     "text": [
      "('{\"context\": [\"https://www.w3.org/2018/credentials/v1\", '\n",
      " '\"https://www.schema.org\"], \"type\": [\"VerifiableCredential\"], \"issuer\": '\n",
      " '\"6H9XUXosoX8X14Uuxj3tek\", \"issuanceDate\": \"2020-11-30 09:13:50.930087Z\", '\n",
      " '\"credentialSubject\": {\"type\": \"Person\", \"address\": {\"type\": \"PostalAddress\", '\n",
      " '\"streetAddress\": \"123 Main St.\", \"addressLocality\": \"Blacksburg\", '\n",
      " '\"addressRegion\": \"VA\", \"postalCode\": \"24060\", \"addressCountry\": \"US\"}, \"id\": '\n",
      " '\"WzJvwbcn8BU9Br6cr7o8yu\"}, \"proof\": {\"jws\": '\n",
      " '\"ZqjaUPy6_Zmj7J-nZJ_u3JfvJsFytzq_pTd5gpy3mQWumWmHJe_X5y-6cKJOZ_oydHtEFHPBrkMuGnf0gBqWDA\", '\n",
      " '\"type\": \"Ed25519Signature2018\", \"created\": \"2020-11-30 09:13:50.949729Z\", '\n",
      " '\"proofPurpose\": \"assertionMethod\", \"verificationMethod\": '\n",
      " '\"B7JNvK1HXiSkgkUBm2pD4e3ayxZ9xjxE7xioWGh5d8PS\"}}')\n"
     ]
    }
   ],
   "source": [
    "id = cred_exchange[0]['credential_exchange_id']\n",
    "issue_cred = post(8151, \"/issue-credential/issue?credential_exchange_id=\" + id)\n",
    "\n",
    "pp.pprint(issue_cred)"
   ]
  },
  {
   "cell_type": "code",
   "execution_count": 102,
   "metadata": {
    "scrolled": false
   },
   "outputs": [
    {
     "name": "stdout",
     "output_type": "stream",
     "text": [
      "{'thread_id': 'b63afc24-51e9-4eb4-be6c-7b0b293c0528'}\n"
     ]
    }
   ],
   "source": [
    "issue_cred = post(8151, '/present-proof/request', {\n",
    "  \"connection_id\": connection[1],\n",
    "  \"schema_base_dri\": \"12345\",\n",
    "  \"requested_attributes\": [\"address\"],\n",
    "  \"issuer_did\": \"123145\"\n",
    "})\n",
    "\n",
    "pp.pprint(issue_cred)"
   ]
  },
  {
   "cell_type": "code",
   "execution_count": 103,
   "metadata": {
    "scrolled": true
   },
   "outputs": [],
   "source": [
    "exchange_record = get(8150, f\"/present-proof/exchange/record?state=request_received&connection_id={connection[0]}&thread_id={issue_cred['thread_id']}\")"
   ]
  },
  {
   "cell_type": "code",
   "execution_count": 104,
   "metadata": {
    "scrolled": true
   },
   "outputs": [
    {
     "name": "stdout",
     "output_type": "stream",
     "text": [
      "'success, proof sent and exchange updated'\n"
     ]
    }
   ],
   "source": [
    "creds = get(8150, \"/credentials\")\n",
    "issue_cred = post(8150, '/present-proof/present', {\n",
    "  \"credential_id\": creds['results'][0]['id'],\n",
    "  \"exchange_record_id\": exchange_record[0]['presentation_exchange_id']\n",
    "})\n",
    "\n",
    "pp.pprint(issue_cred)"
   ]
  },
  {
   "cell_type": "markdown",
   "metadata": {
    "scrolled": false
   },
   "source": [
    "# Services"
   ]
  },
  {
   "cell_type": "code",
   "execution_count": 126,
   "metadata": {
    "scrolled": false
   },
   "outputs": [
    {
     "name": "stdout",
     "output_type": "stream",
     "text": [
      "{'service_schema': {'oca_schema_dri': 'string', 'oca_schema_namespace': 'string'}, 'created_at': '2020-11-30 09:46:30.833874Z', 'consent_schema': {'oca_schema_dri': 'fArVHJTQSKHu2CeXJocQmH3HHxzZXsuQD7kzyHJhQ49s', 'oca_schema_namespace': 'consent', 'data_dri': 'zQmcJf1w9bVpquGdzCp86pX4K21Zcn7bJBUtrBP1cr2NFuR'}, 'label': 'consent_test', 'updated_at': '2020-11-30 09:46:30.833874Z'}\n"
     ]
    }
   ],
   "source": [
    "data_dri = save_to_pds2({\"payload\": \"testing\"})\n",
    "add = post(8151, '/verifiable-services/add', {\n",
    "  \"label\": \"consent_test\",\n",
    "  \"service_schema\": {\n",
    "    \"oca_schema_namespace\": \"string\",\n",
    "    \"oca_schema_dri\": \"string\"\n",
    "  },\n",
    "  \"consent_schema\": {\n",
    "    \"oca_schema_namespace\": \"consent\",\n",
    "    \"oca_schema_dri\": \"fArVHJTQSKHu2CeXJocQmH3HHxzZXsuQD7kzyHJhQ49s\",\n",
    "    \"data_dri\": data_dri['payload_id'],\n",
    "  }\n",
    "})\n",
    "print(add)"
   ]
  },
  {
   "cell_type": "code",
   "execution_count": 127,
   "metadata": {
    "scrolled": false
   },
   "outputs": [
    {
     "name": "stdout",
     "output_type": "stream",
     "text": [
      "\"SUCCESS: request sent, expect a webhook notification\"\n",
      "<Response [200]>\n",
      "{'connection_id': '47ecfa5c-4109-431f-9a81-f7b7879069b3',\n",
      " 'created_at': '2020-11-30 09:41:02.180021Z',\n",
      " 'services': [{'consent_schema': {'data_dri': 'zQmcJf1w9bVpquGdzCp86pX4K21Zcn7bJBUtrBP1cr2NFuR',\n",
      "                                  'oca_schema_dri': 'fArVHJTQSKHu2CeXJocQmH3HHxzZXsuQD7kzyHJhQ49s',\n",
      "                                  'oca_schema_namespace': 'consent'},\n",
      "               'label': 'consent_test',\n",
      "               'service_id': '2995e49d-275c-452d-80e0-c1b699b0e5bb',\n",
      "               'service_schema': {'oca_schema_dri': 'string',\n",
      "                                  'oca_schema_namespace': 'string'}},\n",
      "              {'consent_schema': {'data_dri': 'zQmcJf1w9bVpquGdzCp86pX4K21Zcn7bJBUtrBP1cr2NFuR',\n",
      "                                  'oca_schema_dri': 'fArVHJTQSKHu2CeXJocQmH3HHxzZXsuQD7kzyHJhQ49s',\n",
      "                                  'oca_schema_namespace': 'consent'},\n",
      "               'label': 'consent_test',\n",
      "               'service_id': '4e415b03-75d2-454b-887e-b7278ab4b503',\n",
      "               'service_schema': {'oca_schema_dri': 'string',\n",
      "                                  'oca_schema_namespace': 'string'}}],\n",
      " 'updated_at': '2020-11-30 09:44:01.679499Z'}\n"
     ]
    }
   ],
   "source": [
    "service_list = requests.get('http://localhost:8150/verifiable-services/DEBUGrequest/' + connection[0])\n",
    "request_service_list = requests.get('http://localhost:8150/verifiable-services/request-service-list/' + connection[0])\n",
    "print(request_service_list.text)\n",
    "\n",
    "print(service_list)\n",
    "service_list = json.loads(service_list.text)\n",
    "pp.pprint(service_list)"
   ]
  },
  {
   "cell_type": "code",
   "execution_count": 128,
   "metadata": {
    "scrolled": true
   },
   "outputs": [
    {
     "name": "stdout",
     "output_type": "stream",
     "text": [
      "{'@type': 'did:sov:BzCbsNYhMrjHiqZDTUASHg;spec/verifiable-services/1.0/application', '@id': 'e70cb5f9-138c-4740-91ae-e8955f25a85e', 'exchange_id': '20d4bdd7-62ef-426f-8b39-324614157412', 'service_user_data': 'abckonoin', 'service_user_data_dri': 'zQmSnRDrp3sNzsB194RaKwqKWmFS7mbT8oiF7qMWUCoNGgQ', 'service_id': '2995e49d-275c-452d-80e0-c1b699b0e5bb', 'consent_credential': '{\"context\": [\"https://www.w3.org/2018/credentials/v1\", \"https://www.schema.org\"], \"type\": [\"VerifiableCredential\"], \"issuer\": \"Wc6p1JmuMp7MTDudULpCx9\", \"issuanceDate\": \"2020-11-30 09:46:32.731359Z\", \"credentialSubject\": {\"oca_schema_dri\": \"fArVHJTQSKHu2CeXJocQmH3HHxzZXsuQD7kzyHJhQ49s\", \"oca_schema_namespace\": \"consent\", \"data_dri\": \"zQmcJf1w9bVpquGdzCp86pX4K21Zcn7bJBUtrBP1cr2NFuR\", \"service_consent_match_id\": \"86144209-f8b8-4afe-a5f3-b351bdef7bc2\", \"id\": \"HDLnczx2HHX5qUBntRyDHS\"}, \"proof\": {\"jws\": \"Iq5dQEI_-MWM6Z5rSiNNjKPEycAyzsnYxFRLuKxKZb93pdxxDnBJ_hsM8KRVnz8zo7jlH5sWFTYASXqSz_ZvCA\", \"type\": \"Ed25519Signature2018\", \"created\": \"2020-11-30 09:46:32.751786Z\", \"proofPurpose\": \"assertionMethod\", \"verificationMethod\": \"kSy1DbByBxEHsfbVryRmrgDTnYtBCtUGTEZizjt4kPE\"}}', 'service_consent_match_id': '86144209-f8b8-4afe-a5f3-b351bdef7bc2'}\n"
     ]
    }
   ],
   "source": [
    "apply = requests.post('http://localhost:8150/verifiable-services/apply', json={\n",
    "  \"connection_id\": connection[0],\n",
    "  \"service_id\": service_list['services'][0]['service_id'],\n",
    "  \"user_data\": \"abckonoin\",\n",
    "  \"service\": service_list['services'][0],\n",
    "})\n",
    "apply = json.loads(apply.text)\n",
    "print(apply)"
   ]
  },
  {
   "cell_type": "code",
   "execution_count": 129,
   "metadata": {
    "scrolled": true
   },
   "outputs": [
    {
     "name": "stdout",
     "output_type": "stream",
     "text": [
      "<Response [200]>\n",
      "[{'author': 'other',\n",
      "  'connection_id': '90b2abec-c3f9-4da6-acb9-9f18dbae5e6f',\n",
      "  'consent_credential': \"{'context': \"\n",
      "                        \"['https://www.w3.org/2018/credentials/v1', \"\n",
      "                        \"'https://www.schema.org'], 'type': \"\n",
      "                        \"['VerifiableCredential'], 'issuer': \"\n",
      "                        \"'Wc6p1JmuMp7MTDudULpCx9', 'issuanceDate': '2020-11-30 \"\n",
      "                        \"09:46:32.731359Z', 'credentialSubject': \"\n",
      "                        \"{'oca_schema_dri': \"\n",
      "                        \"'fArVHJTQSKHu2CeXJocQmH3HHxzZXsuQD7kzyHJhQ49s', \"\n",
      "                        \"'oca_schema_namespace': 'consent', 'data_dri': \"\n",
      "                        \"'zQmcJf1w9bVpquGdzCp86pX4K21Zcn7bJBUtrBP1cr2NFuR', \"\n",
      "                        \"'service_consent_match_id': \"\n",
      "                        \"'86144209-f8b8-4afe-a5f3-b351bdef7bc2', 'id': \"\n",
      "                        \"'HDLnczx2HHX5qUBntRyDHS'}, 'proof': {'jws': \"\n",
      "                        \"'Iq5dQEI_-MWM6Z5rSiNNjKPEycAyzsnYxFRLuKxKZb93pdxxDnBJ_hsM8KRVnz8zo7jlH5sWFTYASXqSz_ZvCA', \"\n",
      "                        \"'type': 'Ed25519Signature2018', 'created': \"\n",
      "                        \"'2020-11-30 09:46:32.751786Z', 'proofPurpose': \"\n",
      "                        \"'assertionMethod', 'verificationMethod': \"\n",
      "                        \"'kSy1DbByBxEHsfbVryRmrgDTnYtBCtUGTEZizjt4kPE'}}\",\n",
      "  'consent_schema': '{\"oca_schema_namespace\": \"consent\", \"oca_schema_dri\": '\n",
      "                    '\"fArVHJTQSKHu2CeXJocQmH3HHxzZXsuQD7kzyHJhQ49s\", '\n",
      "                    '\"data_dri\": '\n",
      "                    '\"zQmcJf1w9bVpquGdzCp86pX4K21Zcn7bJBUtrBP1cr2NFuR\"}',\n",
      "  'created_at': '2020-11-30 09:46:32.825902Z',\n",
      "  'exchange_id': '20d4bdd7-62ef-426f-8b39-324614157412',\n",
      "  'issue_id': 'ba04951647b85860ea89c7ddc6d439cea5891c60e15035a170279edc1a92909c',\n",
      "  'label': 'consent_test',\n",
      "  'service_consent_match_id': '86144209-f8b8-4afe-a5f3-b351bdef7bc2',\n",
      "  'service_id': '2995e49d-275c-452d-80e0-c1b699b0e5bb',\n",
      "  'service_schema': '{\"oca_schema_namespace\": \"string\", \"oca_schema_dri\": '\n",
      "                    '\"string\"}',\n",
      "  'service_user_data': 'abckonoin',\n",
      "  'service_user_data_dri': 'zQmSnRDrp3sNzsB194RaKwqKWmFS7mbT8oiF7qMWUCoNGgQ',\n",
      "  'state': 'pending',\n",
      "  'updated_at': '2020-11-30 09:46:32.825902Z'}]\n"
     ]
    }
   ],
   "source": [
    "time.sleep(1)\n",
    "issue_self = requests.post('http://localhost:8151/verifiable-services/get-issue', json={\n",
    "    \"exchange_id\": apply['exchange_id'],\n",
    "})\n",
    "print(issue_self)\n",
    "issue_self = json.loads(issue_self.text)\n",
    "pp.pprint(issue_self)"
   ]
  },
  {
   "cell_type": "code",
   "execution_count": 130,
   "metadata": {
    "scrolled": true
   },
   "outputs": [
    {
     "name": "stdout",
     "output_type": "stream",
     "text": [
      "<Response [200]>\n",
      "{'connection_id': '90b2abec-c3f9-4da6-acb9-9f18dbae5e6f',\n",
      " 'issue_id': 'ba04951647b85860ea89c7ddc6d439cea5891c60e15035a170279edc1a92909c'}\n"
     ]
    }
   ],
   "source": [
    "issue_self = requests.post('http://localhost:8151/verifiable-services/process-application', json={\n",
    "    \"issue_id\": issue_self[0]['issue_id'],\n",
    "    \"decision\": \"accept\",\n",
    "})\n",
    "print(issue_self)\n",
    "issue_self = json.loads(issue_self.text)\n",
    "pp.pprint(issue_self)"
   ]
  },
  {
   "cell_type": "code",
   "execution_count": 131,
   "metadata": {
    "scrolled": true
   },
   "outputs": [
    {
     "name": "stdout",
     "output_type": "stream",
     "text": [
      "{'results': [{'credential': {'context': ['https://www.w3.org/2018/credentials/v1',\n",
      "                                         'https://www.schema.org'],\n",
      "                             'credentialSubject': {'data_dri': 'zQmSnRDrp3sNzsB194RaKwqKWmFS7mbT8oiF7qMWUCoNGgQ',\n",
      "                                                   'id': 'Wc6p1JmuMp7MTDudULpCx9',\n",
      "                                                   'oca_schema_dri': 'string',\n",
      "                                                   'oca_schema_namespace': 'string',\n",
      "                                                   'service_consent_match_id': '82b98928-806e-47fa-8142-0a9fb98cf110'},\n",
      "                             'issuanceDate': '2020-11-30 09:44:12.871269Z',\n",
      "                             'issuer': 'HDLnczx2HHX5qUBntRyDHS',\n",
      "                             'proof': {'created': '2020-11-30 09:44:12.890078Z',\n",
      "                                       'jws': 'PJiMlHB8oTXtf3uZjlA6JN2ZjyB2-FXqtWOwbctBkbo21RTB9lOxVl8NpegbK1LUn9Wlhfthg347tEXNGFT1Ag',\n",
      "                                       'proofPurpose': 'assertionMethod',\n",
      "                                       'type': 'Ed25519Signature2018',\n",
      "                                       'verificationMethod': 'iBLsrJgQ9RwosCY2MAwczMdESxtPPetWhkW79q6G7uq'},\n",
      "                             'type': ['VerifiableCredential']},\n",
      "              'id': '67a16e479c78455ea985d510a4055d8a'},\n",
      "             {'credential': {'context': ['https://www.w3.org/2018/credentials/v1',\n",
      "                                         'https://www.schema.org'],\n",
      "                             'credentialSubject': {'data_dri': 'zQmSnRDrp3sNzsB194RaKwqKWmFS7mbT8oiF7qMWUCoNGgQ',\n",
      "                                                   'id': 'Wc6p1JmuMp7MTDudULpCx9',\n",
      "                                                   'oca_schema_dri': 'string',\n",
      "                                                   'oca_schema_namespace': 'string',\n",
      "                                                   'service_consent_match_id': '86144209-f8b8-4afe-a5f3-b351bdef7bc2'},\n",
      "                             'issuanceDate': '2020-11-30 09:46:37.418219Z',\n",
      "                             'issuer': 'HDLnczx2HHX5qUBntRyDHS',\n",
      "                             'proof': {'created': '2020-11-30 09:46:37.441704Z',\n",
      "                                       'jws': 'jR6lhbXhV3AtyTAH8bWX4eKKe9XbyAvVt_2Kh1Cuq8S-l8Osncmz3QW625YlK6Fjwcpi4iEN9JMBojVYPcfKDg',\n",
      "                                       'proofPurpose': 'assertionMethod',\n",
      "                                       'type': 'Ed25519Signature2018',\n",
      "                                       'verificationMethod': '3HiteahuNyqsqdxcJwFBuSt9tVJSRenvk1YAHtRiWfEy'},\n",
      "                             'type': ['VerifiableCredential']},\n",
      "              'id': 'b1394b401809404198e4b2539fab95ff'}]}\n"
     ]
    }
   ],
   "source": [
    "credentials = requests.get('http://localhost:8150/credentials')\n",
    "credentials = json.loads(credentials.text) \n",
    "pp.pprint(credentials)"
   ]
  },
  {
   "cell_type": "code",
   "execution_count": 141,
   "metadata": {
    "scrolled": true
   },
   "outputs": [
    {
     "ename": "KeyError",
     "evalue": "'credential_definition_id'",
     "output_type": "error",
     "traceback": [
      "\u001b[0;31m---------------------------------------------------------------------------\u001b[0m",
      "\u001b[0;31mKeyError\u001b[0m                                  Traceback (most recent call last)",
      "\u001b[0;32m<ipython-input-141-fa6c5adae441>\u001b[0m in \u001b[0;36m<module>\u001b[0;34m\u001b[0m\n\u001b[1;32m     11\u001b[0m         \"restrictions\": [\n\u001b[1;32m     12\u001b[0m           {\n\u001b[0;32m---> 13\u001b[0;31m             \u001b[0;34m\"cred_def_id\"\u001b[0m\u001b[0;34m:\u001b[0m \u001b[0mapply\u001b[0m\u001b[0;34m[\u001b[0m\u001b[0;34m'credential_definition_id'\u001b[0m\u001b[0;34m]\u001b[0m\u001b[0;34m,\u001b[0m\u001b[0;34m\u001b[0m\u001b[0;34m\u001b[0m\u001b[0m\n\u001b[0m\u001b[1;32m     14\u001b[0m           }\n\u001b[1;32m     15\u001b[0m         ],\n",
      "\u001b[0;31mKeyError\u001b[0m: 'credential_definition_id'"
     ]
    }
   ],
   "source": [
    "proof_schema = {\n",
    "  \"proof_request\": {\n",
    "    \"version\": \"1.0\",\n",
    "    \"name\": \"Proof request\",\n",
    "    \"requested_attributes\": {\n",
    "      \"data_dri\": {\n",
    "        \"non_revoked\": {\n",
    "          \"from_epoch\": 1500000000,\n",
    "          \"to_epoch\": 1700758817\n",
    "        },\n",
    "        \"restrictions\": [\n",
    "          {\n",
    "            \"cred_def_id\": apply['credential_definition_id'],\n",
    "          }\n",
    "        ],\n",
    "        \"name\": \"data_dri\"\n",
    "      },\n",
    "    },\n",
    "    \"requested_predicates\": {\n",
    "    }\n",
    "  },\n",
    "  \"connection_id\": connection[1],\n",
    "#   \"trace\": True,\n",
    "  \"comment\": \"string\",\n",
    "  \"nonce\": \"1234567890\"\n",
    "}\n",
    "proof_json = json.dumps(proof_schema)\n",
    "\n",
    "proof = requests.post('http://localhost:8151/present-proof/send-request', json=proof_schema)\n",
    "print(proof.text)"
   ]
  },
  {
   "cell_type": "code",
   "execution_count": 359,
   "metadata": {
    "scrolled": false
   },
   "outputs": [
    {
     "name": "stdout",
     "output_type": "stream",
     "text": [
      "{'connection_id': '994ebd0f-14c2-428c-be53-e730bc3ca7a7',\n",
      " 'created_at': '2020-09-22 11:58:22.954779Z',\n",
      " 'initiator': 'external',\n",
      " 'presentation_exchange_id': '964c067c-46fb-4a4f-b30d-253029bf6d53',\n",
      " 'presentation_request': {'name': 'Proof request',\n",
      "                          'nonce': '236523038637111089936187',\n",
      "                          'requested_attributes': {'data_dri': {'name': 'data_dri',\n",
      "                                                                'non_revoked': {'from_epoch': 1500000000,\n",
      "                                                                                'to_epoch': 1700758817},\n",
      "                                                                'restrictions': [{'cred_def_id': 'WWZtMuY1V9hvFF1ezey2EM:3:CL:1175:Services'}]}},\n",
      "                          'requested_predicates': {},\n",
      "                          'version': '1.0'},\n",
      " 'role': 'prover',\n",
      " 'state': 'request_received',\n",
      " 'thread_id': 'aab467d6-30db-442a-a23e-354f77100467',\n",
      " 'trace': False,\n",
      " 'updated_at': '2020-09-22 11:58:22.954779Z'}\n"
     ]
    }
   ],
   "source": [
    "proof = requests.get('http://localhost:8150/present-proof/records')\n",
    "proof_requests = json.loads(proof.text)['results']\n",
    "proof_request = proof_requests[-4]\n",
    "pp.pprint(proof_request)"
   ]
  },
  {
   "cell_type": "code",
   "execution_count": 360,
   "metadata": {},
   "outputs": [
    {
     "name": "stdout",
     "output_type": "stream",
     "text": [
      "{'requested_attributes': {'data_dri': {'cred_id': '657ec1be-2d72-41ba-a1c2-725082d1c759', 'revealed': True}}, 'requested_predicates': {}, 'self_attested_attributes': {}}\n",
      "{\"initiator\": \"external\", \"presentation_exchange_id\": \"964c067c-46fb-4a4f-b30d-253029bf6d53\", \"created_at\": \"2020-09-22 11:58:22.954779Z\", \"trace\": false, \"state\": \"presentation_sent\", \"connection_id\": \"994ebd0f-14c2-428c-be53-e730bc3ca7a7\", \"presentation_request\": {\"version\": \"1.0\", \"name\": \"Proof request\", \"requested_attributes\": {\"data_dri\": {\"non_revoked\": {\"from_epoch\": 1500000000, \"to_epoch\": 1700758817}, \"restrictions\": [{\"cred_def_id\": \"WWZtMuY1V9hvFF1ezey2EM:3:CL:1175:Services\"}], \"name\": \"data_dri\"}}, \"requested_predicates\": {}, \"nonce\": \"236523038637111089936187\"}, \"thread_id\": \"aab467d6-30db-442a-a23e-354f77100467\", \"updated_at\": \"2020-09-22 11:58:42.143421Z\", \"presentation\": {\"proof\": {\"proofs\": [{\"primary_proof\": {\"eq_proof\": {\"revealed_attrs\": {\"data_dri\": \"46796680751272472783988362602137825638383598079504819093754394509164353886973\"}, \"a_prime\": \"42060925111681669636213334465461164575836194937273514079107094119770484811000923091931931784785962619845420855610272334622125682737405195884213715565867043509925472416542230863397669958480326702009362188549625307238027141923316901463241665948886510725396751211682976967537427315898409725423004977165973917577012397530091085459428313234742407572778673167976233810565597772593501428323674039588815331363333011131947563740565737374539566838030750665908985019265316116568987453545729637513283468515631444897559731280710185010390213929739834049875974694578153331367913238465099147764748757565809536821203716456575388378246\", \"e\": \"149744341664205744796154145307544248538889876675252530822112571443987546230915749702200658558420585713265123016013950977835969801053953057\", \"v\": \"611500275973716077638342134196143749269401777789295453477448952386694564754355219816896070280138046380597845313572924400039537614356550185345175519676886228534421522375059312418479172732704034125825285263726391463099804925326792955688994599264072888868147154086462088856576722420610251175390240393484212824859248095563277662182316048818404817752837750682311933776232565112156547542996673647885005252976628352266826262528613196337151779396744520955488617272922513173590890311138471331069250873591569080334336608211859065467889654065083576388358134177057657204175650203573670980280474111209661536613018013783943729771456848694997770331422735617853248555251590772247311074442108257482287847716201687135816676096040076847229708137930028637846719395420635293955991640151071282034453565406274539490046382548656941404839366363410458847362772078389209200362489367266760385226192321439164226416115778280460381338638837626371832277\", \"m\": {\"master_secret\": \"2386760805094402316301225455828598737852974810826183656609281403581400406381385357708002631450192597334737210900913783774065131278351010748381917449267988342221531930358518539593\", \"oca_schema_dri\": \"10467365126062225482220034266152025282119565305540774185894769593869521567039440403762918471710644463790938437383541425719509092454510052384855934169534701186169031533936996914208\", \"oca_schema_namespace\": \"5641039992783029118954033759931093315849431783850509706247083558761588336191455463479046583104389411550948521774966114533333848120198885113197917260032611884419343556216679868168\"}, \"m2\": \"9423589221175845988822465438365229099266331562855899050815504765507197913400318984512239410921352506129337243879571510767874922106901635484072542962230815225264781509213281129829\"}, \"ge_proofs\": []}, \"non_revoc_proof\": null}], \"aggregated_proof\": {\"c_hash\": \"13897483270767136334365162946375255520601393712161530796352281947775339896398\", \"c_list\": [[1, 77, 47, 204, 5, 97, 6, 60, 158, 55, 51, 65, 76, 154, 39, 86, 149, 244, 143, 41, 116, 94, 53, 141, 49, 38, 73, 51, 239, 187, 17, 43, 237, 113, 206, 6, 46, 213, 154, 195, 234, 33, 54, 144, 95, 132, 156, 147, 48, 125, 174, 17, 146, 107, 85, 227, 145, 206, 229, 246, 67, 191, 167, 65, 111, 24, 119, 26, 172, 132, 117, 244, 163, 236, 227, 155, 96, 23, 1, 213, 56, 25, 73, 110, 24, 150, 109, 194, 9, 117, 156, 97, 172, 96, 40, 127, 152, 155, 200, 129, 154, 125, 33, 159, 70, 11, 146, 191, 25, 96, 17, 197, 113, 193, 182, 252, 144, 235, 14, 238, 129, 214, 130, 131, 119, 162, 182, 242, 44, 158, 228, 57, 119, 93, 144, 200, 70, 234, 176, 146, 220, 47, 242, 70, 27, 19, 174, 161, 31, 85, 119, 241, 155, 46, 214, 170, 179, 127, 29, 3, 90, 188, 65, 169, 104, 181, 167, 129, 2, 227, 203, 148, 69, 145, 180, 255, 73, 135, 133, 76, 195, 230, 209, 158, 174, 249, 219, 148, 79, 88, 160, 250, 242, 28, 237, 234, 142, 75, 181, 105, 176, 70, 160, 222, 192, 225, 27, 17, 110, 58, 114, 69, 71, 6, 84, 55, 33, 180, 149, 173, 229, 5, 34, 120, 92, 220, 250, 55, 211, 152, 136, 2, 23, 11, 3, 232, 198, 94, 155, 57, 156, 157, 110, 162, 207, 172, 141, 175, 206, 120, 135, 218, 209, 204, 112, 100, 134]]}}, \"requested_proof\": {\"revealed_attrs\": {\"data_dri\": {\"sub_proof_index\": 0, \"raw\": \"7dfd716666994497926f8ca02e769257d36bba92f0c31e4fe91ccba9f4311f86\", \"encoded\": \"46796680751272472783988362602137825638383598079504819093754394509164353886973\"}}, \"self_attested_attrs\": {}, \"unrevealed_attrs\": {}, \"predicates\": {}}, \"identifiers\": [{\"schema_id\": \"WWZtMuY1V9hvFF1ezey2EM:2:consent_test:1.0\", \"cred_def_id\": \"WWZtMuY1V9hvFF1ezey2EM:3:CL:1175:Services\", \"rev_reg_id\": null, \"timestamp\": null}]}, \"role\": \"prover\"}\n"
     ]
    }
   ],
   "source": [
    "url = 'http://localhost:8150/present-proof/records/' + \\\n",
    "       proof_request['presentation_exchange_id'] + \\\n",
    "       '/send-presentation'\n",
    "\n",
    "presentation_schema = {\n",
    "  \"requested_attributes\": {\n",
    "    \"data_dri\": {\n",
    "      \"cred_id\": credentials['results'][0]['referent'],\n",
    "        \"revealed\": True\n",
    "    },\n",
    "  },\n",
    "   \"requested_predicates\": {\n",
    "  },\n",
    "  \"self_attested_attributes\": {\n",
    "  }\n",
    "}\n",
    "print(presentation_schema)\n",
    "present = requests.post(url, json=presentation_schema)\n",
    "\n",
    "print(present.text)"
   ]
  },
  {
   "cell_type": "code",
   "execution_count": 55,
   "metadata": {
    "scrolled": true
   },
   "outputs": [
    {
     "name": "stdout",
     "output_type": "stream",
     "text": [
      "{\"hash_id\": \"ddd\", \"connection_id\": \"a361d994-aaea-4f5c-9bf4-9644a774de2b\", \"record_id\": \"1e61b917-946b-4a56-8810-5b48081f79e6\", \"exchange_id\": \"c5f71769-b806-49fe-8861-15f49ffad9e3\", \"state\": \"pending\"}\n"
     ]
    }
   ],
   "source": [
    "print(send.text)"
   ]
  }
 ],
 "metadata": {
  "kernelspec": {
   "display_name": "Python 3",
   "language": "python",
   "name": "python3"
  },
  "language_info": {
   "codemirror_mode": {
    "name": "ipython",
    "version": 3
   },
   "file_extension": ".py",
   "mimetype": "text/x-python",
   "name": "python",
   "nbconvert_exporter": "python",
   "pygments_lexer": "ipython3",
   "version": "3.7.5"
  }
 },
 "nbformat": 4,
 "nbformat_minor": 4
}

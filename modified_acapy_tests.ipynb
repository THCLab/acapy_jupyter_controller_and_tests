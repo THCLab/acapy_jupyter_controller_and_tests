{
 "cells": [
  {
   "cell_type": "code",
   "execution_count": 4,
   "metadata": {
    "scrolled": true
   },
   "outputs": [],
   "source": [
    "import requests \n",
    "import json\n",
    "import pprint as pp # pretty print\n",
    "\n",
    "import aries_cloudagent.wallet.crypto as crypto\n",
    "import base64\n",
    "import base58\n",
    "import uuid\n",
    "import hashlib\n",
    "import time\n",
    "import jupyter_util as util\n",
    "from importlib import reload\n",
    "reload(util)\n",
    "\n",
    "def wait_till_not_none(variable):\n",
    "    while variable == None:\n",
    "        time.sleep(0.1)\n",
    "        \n",
    "def assert_status_code_is_200(response_object):\n",
    "    get = response_object\n",
    "    if get.status_code != 200:\n",
    "        print(\"status_code: \" + str(get.status_code) + \"  value: \" + str(get.text))\n",
    "        assert get.status_code == 200, \"status_code is not 200\""
   ]
  },
  {
   "cell_type": "code",
   "execution_count": 5,
   "metadata": {
    "scrolled": true
   },
   "outputs": [
    {
     "data": {
      "text/plain": [
       "['{\"active\": \"own_your_data, default\", \"types\": [\"local\", \"data_vault\", \"own_your_data\"]}',\n",
       " '{\"active\": \"own_your_data, default\", \"types\": [\"local\", \"data_vault\", \"own_your_data\"]}']"
      ]
     },
     "execution_count": 5,
     "metadata": {},
     "output_type": "execute_result"
    }
   ],
   "source": [
    "def save_to_pds(some_json):\n",
    "    add = requests.post('http://localhost:8150/pds/save', json=some_json)\n",
    "    assert_status_code_is_200(add)\n",
    "    \n",
    "    add = json.loads(add.text)\n",
    "    return add\n",
    "\n",
    "def save_to_pds2(some_json):\n",
    "    add = requests.post('http://localhost:8151/pds/save', json=some_json)\n",
    "    assert_status_code_is_200(add)\n",
    "    \n",
    "    add = json.loads(add.text)\n",
    "    return add\n",
    "\n",
    "def get_from_pds(some_id):\n",
    "    get = requests.get('http://localhost:8150/pds/' + some_id)\n",
    "    assert_status_code_is_200(get)    \n",
    "        \n",
    "    get = json.loads(get.text)\n",
    "    return get\n",
    "\n",
    "def get_from_pds2(some_id):\n",
    "    get = requests.get('http://localhost:8150/pds/' + some_id)\n",
    "    assert_status_code_is_200(get)    \n",
    "        \n",
    "    get = json.loads(get.text)\n",
    "    return get\n",
    "\n",
    "def save_and_retrieve(optional_test_string = \"\"):\n",
    "    payload = {\"payload\": \"testing\" + \" \" + optional_test_string}\n",
    "    id = save_to_pds(payload)\n",
    "    content = get_from_pds(str(id['payload_id']))\n",
    "    \n",
    "    assert payload == content, f\"initial payload not equal to return value from pds {payload, content}\"\n",
    "    \n",
    "    return id['payload_id']\n",
    "\n",
    "def get_pdses():\n",
    "    get1 = requests.get('http://localhost:8150/pds')\n",
    "    get2 = requests.get('http://localhost:8151/pds')\n",
    "    \n",
    "    assert get1.text != None and get2.text != None\n",
    "    assert_status_code_is_200(get1)\n",
    "    assert_status_code_is_200(get2)\n",
    "    \n",
    "    return [get1.text, get2.text]\n",
    "        \n",
    "        \n",
    "def set_pds_config(pds_type, settings = {}, instance_name = \"default\"):\n",
    "    if settings != {}:\n",
    "        settings.update({\"optional_instance_name\": instance_name})\n",
    "        config = requests.post('http://localhost:8150/pds/settings', json={\n",
    "          \"settings\": {\n",
    "              pds_type: settings\n",
    "          }\n",
    "        })\n",
    "        assert_status_code_is_200(config)    \n",
    "        \n",
    "    config = requests.post('http://localhost:8150/pds/activate?type=' + pds_type + '&optional_name=' + instance_name)\n",
    "    assert_status_code_is_200(config)   \n",
    "    \n",
    "    if settings != {}:\n",
    "        settings.update({\"optional_instance_name\": instance_name})\n",
    "        config = requests.post('http://localhost:8151/pds/settings', json={\n",
    "          \"settings\": {\n",
    "              pds_type: settings\n",
    "          }\n",
    "        })\n",
    "        assert_status_code_is_200(config)    \n",
    "        \n",
    "    config = requests.post('http://localhost:8151/pds/activate?type=' + pds_type + '&optional_name=' + instance_name)\n",
    "    assert_status_code_is_200(config) \n",
    "    \n",
    "    \n",
    "def set_own_your_data():\n",
    "    set_pds_config(\"own_your_data\", {\n",
    "        \"client_id\": \"8SX1-RBazhic9ftG4HyG2XegrQ2kdLGu0hd-Ty3IZnE\", \n",
    "        \"client_secret\": \"gEg9_tTh2V1ZK6piL9tZ38YO-1xqXLDXCccJS4uQUJg\"\n",
    "    })\n",
    "    \n",
    "def activate_pds_both_agents(pds_type, instance_name = 'default'):\n",
    "    config = requests.post('http://localhost:8150/pds/activate?type=' + pds_type + '&optional_name=' + instance_name)\n",
    "    assert_status_code_is_200(config)   \n",
    "    config = requests.post('http://localhost:8151/pds/activate?type=' + pds_type + '&optional_name=' + instance_name)\n",
    "    assert_status_code_is_200(config) \n",
    "    \n",
    "def test_pds_return_same_id():\n",
    "    set_own_your_data()\n",
    "    id1 = save_to_pds({\"payload\": \"testing\"})\n",
    "    set_pds_config(\"local\")\n",
    "    id2 = save_to_pds({\"payload\": \"testing\"})\n",
    "    \n",
    "    assert id1['payload_id'] == id2['payload_id'], \"own_your_data and local return different ids\"\n",
    "    \n",
    "    set_pds_config(\"local\")\n",
    "    id1 = save_to_pds({\"payload\": \"testing\"})\n",
    "    set_pds_config(\"data_vault\", {\"host\": \"http://ocadatavault\"})\n",
    "    id2 = save_to_pds({\"payload\": \"testing\"})\n",
    "    \n",
    "    assert id1['payload_id'] == id2['payload_id'], \"local and data_vault return different ids\"\n",
    "\n",
    "    return [id1, id2]\n",
    "    \n",
    "    \n",
    "test_pds_return_same_id()\n",
    "set_pds_config(\"local\")\n",
    "save_and_retrieve(\"local\")\n",
    "set_pds_config(\"data_vault\", {\"host\": \"http://ocadatavault\"})\n",
    "save_and_retrieve(\"data_vault_thcf\")\n",
    "set_pds_config(\"data_vault\", {\"host\": \"http://ocadatavault\"}, \"vault2\")\n",
    "save_and_retrieve(\"data_vault_thcf_2\")\n",
    "set_own_your_data()\n",
    "payload_id = save_and_retrieve(\"own_your_data\")\n",
    "get_pdses()\n",
    "\n"
   ]
  },
  {
   "cell_type": "code",
   "execution_count": 6,
   "metadata": {},
   "outputs": [],
   "source": [
    "## TEST that Settings are persistent! \n",
    "# activate_pds_both_agents(\"data_vault\")\n",
    "# save_and_retrieve(\"data_vault_thcf\")\n",
    "# activate_pds_both_agents(\"data_vault\", \"vault2\")\n",
    "# save_and_retrieve(\"data_vault_thcf_2\")\n",
    "# activate_pds_both_agents(\"own_your_data\")\n",
    "# payload_id = save_and_retrieve(\"own_your_data\")"
   ]
  },
  {
   "cell_type": "markdown",
   "metadata": {},
   "source": [
    "## Enter Invite Url:"
   ]
  },
  {
   "cell_type": "code",
   "execution_count": 7,
   "metadata": {
    "scrolled": false
   },
   "outputs": [
    {
     "name": "stdout",
     "output_type": "stream",
     "text": [
      "http://agent1.localhost?c_i=eyJAdHlwZSI6ICJkaWQ6c292OkJ6Q2JzTlloTXJqSGlxWkRUVUFTSGc7c3BlYy9jb25uZWN0aW9ucy8xLjAvaW52aXRhdGlvbiIsICJAaWQiOiAiZTk4NWQ1NmQtZjA4NC00YjNjLTk3OTctMmE4ZmIwNTVhNjVjIiwgImxhYmVsIjogIk1haW4gKGFkbWluKSIsICJzZXJ2aWNlRW5kcG9pbnQiOiAiaHR0cDovL2FnZW50MS5sb2NhbGhvc3QiLCAicmVjaXBpZW50S2V5cyI6IFsiNXY1Q1FxZHV4MXZ6QTJzQWZlNTVUSGhVWGFldUJvTmE5MU5RWGRZc3hONHAiXX0=\n"
     ]
    }
   ],
   "source": [
    "agent1 = {}\n",
    "plugin = {}\n",
    "endpoint = \"http://localhost:8150/connections/create-admin-invitation-url\"\n",
    "adminInvitationResponse = requests.post(endpoint)\n",
    "adminInvitationResponse = adminInvitationResponse.text\n",
    "agent1['url'] = json.loads(adminInvitationResponse)['invitation_url']\n",
    "print(agent1['url'])"
   ]
  },
  {
   "cell_type": "code",
   "execution_count": 8,
   "metadata": {
    "scrolled": false
   },
   "outputs": [
    {
     "name": "stdout",
     "output_type": "stream",
     "text": [
      "http://agent2.localhost?c_i=eyJAdHlwZSI6ICJkaWQ6c292OkJ6Q2JzTlloTXJqSGlxWkRUVUFTSGc7c3BlYy9jb25uZWN0aW9ucy8xLjAvaW52aXRhdGlvbiIsICJAaWQiOiAiMjdiNWM0YTAtNmNiNC00NWEwLWE0NWUtMTU3MjQ1YTI4NWQwIiwgInNlcnZpY2VFbmRwb2ludCI6ICJodHRwOi8vYWdlbnQyLmxvY2FsaG9zdCIsICJyZWNpcGllbnRLZXlzIjogWyJlZ1hUQWZxZXVEQk1UeXEyWWUxelE2dFd3dktIVk5VbkF5c1hGaFBmMUEyIl0sICJsYWJlbCI6ICJDbGllbnQgKGFkbWluKSJ9\n"
     ]
    }
   ],
   "source": [
    "agent2 = {}\n",
    "endpoint = \"http://localhost:8151/connections/create-admin-invitation-url\"\n",
    "adminInvitationResponse = requests.post(endpoint)\n",
    "adminInvitationResponse = adminInvitationResponse.text\n",
    "agent2['url'] = json.loads(adminInvitationResponse)['invitation_url']\n",
    "print(agent2['url'])"
   ]
  },
  {
   "cell_type": "code",
   "execution_count": 9,
   "metadata": {
    "scrolled": true
   },
   "outputs": [
    {
     "name": "stdout",
     "output_type": "stream",
     "text": [
      "Decoded invitation:\n",
      "\n",
      "{'@id': '27b5c4a0-6cb4-45a0-a45e-157245a285d0',\n",
      " '@type': 'did:sov:BzCbsNYhMrjHiqZDTUASHg;spec/connections/1.0/invitation',\n",
      " 'label': 'Client (admin)',\n",
      " 'recipientKeys': ['egXTAfqeuDBMTyq2Ye1zQ6tWwvKHVNUnAysXFhPf1A2'],\n",
      " 'serviceEndpoint': 'http://agent2.localhost'}\n"
     ]
    }
   ],
   "source": [
    "agent1 = util.processInviteUrl(agent1['url'])\n",
    "agent2 = util.processInviteUrl(agent2['url'])\n",
    "print(\"Decoded invitation:\\n\")\n",
    "pp.pprint(agent2['invite'])"
   ]
  },
  {
   "cell_type": "code",
   "execution_count": 10,
   "metadata": {
    "scrolled": true
   },
   "outputs": [
    {
     "name": "stdout",
     "output_type": "stream",
     "text": [
      "Private key: \n",
      " 4jP8BMimt4koNWwXAYawJerCaYL97RApfBHdzLTBym9nUYMQxf28BstfjjShJPyBmwULgVHT7mvJFDgXLycH7w3i\n",
      "\n",
      "Public key: \n",
      " CKkbs3n1RBcR7avJn3tBc76mzV61x4YPcr7b65wWUfq6\n"
     ]
    }
   ],
   "source": [
    "### Generating a did key using aries crypto module\n",
    "# Create a key pair with random seed \n",
    "# Order: 0 - public key, 1 - secret / pritvate key\n",
    "plugin['keypair'] = crypto.create_keypair()\n",
    "# it seems to me that did is an encoded sub string of public key\n",
    "# or maybe just some arbitrary random number\n",
    "did = plugin['keypair'][0][:16]\n",
    "# final version of our did\n",
    "plugin['did'] = base58.b58encode(did).decode(\"ascii\")\n",
    "# encoding keys to base58\n",
    "plugin['public_key_b58'] = \\\n",
    "    base58.b58encode(plugin['keypair'][0]).decode(\"ascii\")\n",
    "plugin['private_key_b58'] = \\\n",
    "    base58.b58encode(plugin['keypair'][1]).decode(\"ascii\")\n",
    "\n",
    "print(\"Private key: \\n\", plugin['private_key_b58'])\n",
    "print(\"\\nPublic key: \\n\", plugin['public_key_b58'])"
   ]
  },
  {
   "cell_type": "markdown",
   "metadata": {},
   "source": [
    "**Sending a connection request to acapy**"
   ]
  },
  {
   "cell_type": "code",
   "execution_count": 11,
   "metadata": {
    "scrolled": true
   },
   "outputs": [],
   "source": [
    "agent1['connection'] = util.connectWithAcapy(agent1, plugin)\n",
    "agent2['connection'] = util.connectWithAcapy(agent2, plugin)\n",
    "# print(\"Decoded acapy response: \\n\")\n",
    "# pp.pprint(agent1['conn'])"
   ]
  },
  {
   "cell_type": "markdown",
   "metadata": {},
   "source": [
    "**Unpacking connection data embedded in the response**"
   ]
  },
  {
   "cell_type": "code",
   "execution_count": 12,
   "metadata": {
    "scrolled": true
   },
   "outputs": [],
   "source": [
    "agent1['connection_details'] = util.decodeConnectionDetails(agent1['connection'])\n",
    "agent2['connection_details'] = util.decodeConnectionDetails(agent2['connection'])"
   ]
  },
  {
   "cell_type": "markdown",
   "metadata": {},
   "source": [
    "**Adding the connection to connection list**"
   ]
  },
  {
   "cell_type": "code",
   "execution_count": 13,
   "metadata": {
    "scrolled": true
   },
   "outputs": [],
   "source": [
    "agents = [\n",
    "    {\n",
    "        \"label\": agent1['invite']['label'],\n",
    "        \"DIDDoc\": agent1['connection_details']['DIDDoc'],\n",
    "        \"myKey\": plugin['keypair'][1]\n",
    "    },\n",
    "    {\n",
    "        \"label\": agent2['invite']['label'],\n",
    "        \"DIDDoc\": agent2['connection_details']['DIDDoc'],\n",
    "        \"myKey\": plugin['keypair'][1]\n",
    "    },\n",
    "]\n",
    "\n",
    "# pp.pprint(connections)"
   ]
  },
  {
   "cell_type": "code",
   "execution_count": 14,
   "metadata": {
    "scrolled": true
   },
   "outputs": [
    {
     "name": "stdout",
     "output_type": "stream",
     "text": [
      "7f6d7866-af9c-4284-adf9-1df94d47f209 \n",
      " 9220547b-f8cb-47e8-af5b-f17c2aa1dcc3\n"
     ]
    }
   ],
   "source": [
    "connection = util.connectAgents(agents[0], agents[1])\n",
    "connection[1] = connection[1]['raw_repr']['connection_id']\n",
    "connection[0] = connection[0]['connection_id']\n",
    "print(connection[0], \"\\n\", connection[1])"
   ]
  },
  {
   "cell_type": "code",
   "execution_count": 15,
   "metadata": {
    "scrolled": false
   },
   "outputs": [
    {
     "name": "stdout",
     "output_type": "stream",
     "text": [
      "{\"message_sent\": \"success\"}\n",
      "{\"payload\": \"testing own_your_data1234\"} {\"payload\": \"testing own_your_data1234\"}\n"
     ]
    }
   ],
   "source": [
    "time.sleep(0.2)\n",
    "\n",
    "add = requests.post(f'http://localhost:8151/pds/get_from?connection_id={connection[1]}&payload_id={1234}')\n",
    "print(add.text)\n",
    "\n",
    "set_pds_config(\"own_your_data\", {\n",
    "    \"client_id\": \"8SX1-RBazhic9ftG4HyG2XegrQ2kdLGu0hd-Ty3IZnE\", \n",
    "    \"client_secret\": \"gEg9_tTh2V1ZK6piL9tZ38YO-1xqXLDXCccJS4uQUJg\"\n",
    "})\n",
    "payload_id = save_and_retrieve(\"own_your_data1234\")\n",
    "add = requests.post(f'http://localhost:8151/pds/get_from?connection_id={connection[1]}&payload_id={payload_id}')\n",
    "assert '{\"message_sent\": \"success\"}' == add.text\n",
    "\n",
    "time.sleep(1)\n",
    "get1 = requests.get('http://localhost:8150/pds/' + str(payload_id))\n",
    "get2 = requests.get('http://localhost:8151/pds/' + str(payload_id))\n",
    "print(get1.text, get2.text)\n",
    "assert get1.status_code == get2.status_code, f\"status codes are not equal {get1.status_code, get2.status_code}\"\n",
    "assert get1.text == get2.text, \"exchanged data with get_from is not equal\"\n",
    "set_pds_config(\"data_vault\", {\"host\": \"http://ocadatavault\"})"
   ]
  },
  {
   "cell_type": "markdown",
   "metadata": {},
   "source": [
    "### FEATURE DISCOVERY"
   ]
  },
  {
   "cell_type": "code",
   "execution_count": 16,
   "metadata": {
    "scrolled": true
   },
   "outputs": [
    {
     "name": "stdout",
     "output_type": "stream",
     "text": [
      "{\"created_at\": \"2020-10-23 11:17:25.475980Z\", \"label\": \"consent_test\", \"service_schema\": {\"oca_schema_namespace\": \"string\", \"oca_schema_dri\": \"string\"}, \"consent_schema\": {\"oca_schema_namespace\": \"consent\", \"data_dri\": \"zQmcJf1w9bVpquGdzCp86pX4K21Zcn7bJBUtrBP1cr2NFuR\", \"oca_schema_dri\": \"fArVHJTQSKHu2CeXJocQmH3HHxzZXsuQD7kzyHJhQ49s\"}, \"updated_at\": \"2020-10-23 11:17:25.475980Z\"}\n"
     ]
    }
   ],
   "source": [
    "data_dri = save_to_pds2({\"payload\": \"testing\"})\n",
    "add = requests.post('http://localhost:8151/verifiable-services/add', json={\n",
    "  \"label\": \"consent_test\",\n",
    "  \"service_schema\": {\n",
    "    \"oca_schema_namespace\": \"string\",\n",
    "    \"oca_schema_dri\": \"string\"\n",
    "  },\n",
    "  \"consent_schema\": {\n",
    "    \"oca_schema_namespace\": \"consent\",\n",
    "    \"oca_schema_dri\": \"fArVHJTQSKHu2CeXJocQmH3HHxzZXsuQD7kzyHJhQ49s\",\n",
    "    \"data_dri\": data_dri['payload_id'],\n",
    "  }\n",
    "})\n",
    "print(add.text)\n",
    "add = json.loads(add.text)"
   ]
  },
  {
   "cell_type": "code",
   "execution_count": 17,
   "metadata": {
    "scrolled": false
   },
   "outputs": [
    {
     "data": {
      "text/plain": [
       "{'@type': 'did:sov:BzCbsNYhMrjHiqZDTUASHg;spec/admin-dids/0.1/did',\n",
       " '@id': '5ba5a299-629a-4474-be50-782eec48837a',\n",
       " '~thread': {'thid': '482b0ec8-216e-42c5-9eea-6be9e8be1727'},\n",
       " 'result': {'verkey': 'CEvT4wb9i3LETypzqZvrioBYgRWvyg9Fs1cZcD7XqWgF',\n",
       "  'metadata': {'public': True, 'posted': True},\n",
       "  'did': 'Md7UpneRbuRLr1n7KcHNRZ'}}"
      ]
     },
     "execution_count": 17,
     "metadata": {},
     "output_type": "execute_result"
    }
   ],
   "source": [
    "newDid1 = util.createDid(agents[1])\n",
    "newDid0 = util.createDid(agents[0])\n",
    "\n",
    "try:\n",
    "    util.registerDidOnLedger(agents[1], newDid1['result']['did'], newDid1['result']['verkey'])\n",
    "except:\n",
    "    pass\n",
    "try:\n",
    "    util.registerDidOnLedger(agents[0], newDid0['result']['did'], newDid0['result']['verkey'])\n",
    "except:\n",
    "    pass\n",
    "\n",
    "util.setPublicDid(agents[1], newDid1['result']['did'])\n",
    "util.setPublicDid(agents[0], newDid0['result']['did'])"
   ]
  },
  {
   "cell_type": "code",
   "execution_count": 27,
   "metadata": {
    "scrolled": true
   },
   "outputs": [
    {
     "name": "stdout",
     "output_type": "stream",
     "text": [
      "\"SUCCESS: request sent, expect a webhook notification\"\n",
      "<Response [200]>\n",
      "{'connection_id': '7f6d7866-af9c-4284-adf9-1df94d47f209',\n",
      " 'created_at': '2020-10-23 11:17:30.789643Z',\n",
      " 'services': [{'consent_schema': {'data_dri': 'zQmcJf1w9bVpquGdzCp86pX4K21Zcn7bJBUtrBP1cr2NFuR',\n",
      "                                  'oca_schema_dri': 'fArVHJTQSKHu2CeXJocQmH3HHxzZXsuQD7kzyHJhQ49s',\n",
      "                                  'oca_schema_namespace': 'consent'},\n",
      "               'label': 'consent_test',\n",
      "               'service_id': '26ae0cb7-0e0b-4813-8bdd-e31768e10397',\n",
      "               'service_schema': {'oca_schema_dri': 'string',\n",
      "                                  'oca_schema_namespace': 'string'}}],\n",
      " 'updated_at': '2020-10-23 11:17:58.498251Z'}\n"
     ]
    }
   ],
   "source": [
    "service_list = requests.get('http://localhost:8150/verifiable-services/DEBUGrequest/' + connection[0])\n",
    "request_service_list = requests.get('http://localhost:8150/verifiable-services/request-service-list/' + connection[0])\n",
    "print(request_service_list.text)\n",
    "\n",
    "print(service_list)\n",
    "service_list = json.loads(service_list.text)\n",
    "pp.pprint(service_list)"
   ]
  },
  {
   "cell_type": "code",
   "execution_count": 28,
   "metadata": {
    "scrolled": false
   },
   "outputs": [
    {
     "name": "stdout",
     "output_type": "stream",
     "text": [
      "{'@type': 'did:sov:BzCbsNYhMrjHiqZDTUASHg;spec/verifiable-services/1.0/application', '@id': '08d06048-2a00-4583-8aa4-360ad21fc436', 'exchange_id': '8ef1be29-d9d7-453a-a21e-0d897a9c54c2', 'service_id': '26ae0cb7-0e0b-4813-8bdd-e31768e10397', 'service_consent_match_id': 'a031aea7-f463-4881-bda5-cbdbcbce7373', 'credential_definition_id': 'Md7UpneRbuRLr1n7KcHNRZ:3:CL:1531:consent_schema', 'data_dri': '646d55f2f66101ab517f5874a17219f9021fcc199bdb4924e5b0cf41f5e30915'}\n"
     ]
    }
   ],
   "source": [
    "apply = requests.post('http://localhost:8150/verifiable-services/apply', json={\n",
    "  \"connection_id\": connection[0],\n",
    "  \"service_id\": service_list['services'][0]['service_id'],\n",
    "  \"payload\": \"abc\",\n",
    "  \"service\": service_list['services'][0],\n",
    "})\n",
    "apply = json.loads(apply.text)\n",
    "print(apply)"
   ]
  },
  {
   "cell_type": "code",
   "execution_count": 29,
   "metadata": {
    "scrolled": true
   },
   "outputs": [
    {
     "name": "stdout",
     "output_type": "stream",
     "text": [
      "<Response [200]>\n",
      "[{'author': 'other',\n",
      "  'connection_id': '9220547b-f8cb-47e8-af5b-f17c2aa1dcc3',\n",
      "  'consent_schema': '{\"oca_schema_namespace\": \"consent\", \"oca_schema_dri\": '\n",
      "                    '\"fArVHJTQSKHu2CeXJocQmH3HHxzZXsuQD7kzyHJhQ49s\", '\n",
      "                    '\"data_dri\": '\n",
      "                    '\"zQmcJf1w9bVpquGdzCp86pX4K21Zcn7bJBUtrBP1cr2NFuR\"}',\n",
      "  'created_at': '2020-10-23 11:18:25.051913Z',\n",
      "  'exchange_id': '8ef1be29-d9d7-453a-a21e-0d897a9c54c2',\n",
      "  'issue_id': '540ce48458c762ad5a71eb390ca9f5fc3e3116e85c9a7edf83baf366bc53397f',\n",
      "  'label': 'consent_test',\n",
      "  'payload': None,\n",
      "  'service_consent_match_id': 'a031aea7-f463-4881-bda5-cbdbcbce7373',\n",
      "  'service_id': '26ae0cb7-0e0b-4813-8bdd-e31768e10397',\n",
      "  'service_schema': '{\"oca_schema_namespace\": \"string\", \"oca_schema_dri\": '\n",
      "                    '\"string\"}',\n",
      "  'state': 'pending',\n",
      "  'updated_at': '2020-10-23 11:18:25.051913Z'}]\n"
     ]
    }
   ],
   "source": [
    "time.sleep(0.4)\n",
    "issue_self = requests.post('http://localhost:8151/verifiable-services/get-issue-self', json={\n",
    "    \"exchange_id\": apply['exchange_id'],\n",
    "})\n",
    "print(issue_self)\n",
    "issue_self = json.loads(issue_self.text)\n",
    "pp.pprint(issue_self)"
   ]
  },
  {
   "cell_type": "code",
   "execution_count": 30,
   "metadata": {
    "scrolled": true
   },
   "outputs": [
    {
     "name": "stdout",
     "output_type": "stream",
     "text": [
      "<Response [200]>\n",
      "{'credential_exchange_record': {'auto_issue': True,\n",
      "                                'auto_offer': False,\n",
      "                                'auto_remove': False,\n",
      "                                'connection_id': '9220547b-f8cb-47e8-af5b-f17c2aa1dcc3',\n",
      "                                'created_at': '2020-10-23 11:18:29.292447Z',\n",
      "                                'credential_definition_id': 'Mk4my5F8TP5aMDQK8HDrnC:3:CL:1533:Services',\n",
      "                                'credential_exchange_id': '8e149326-4fec-4dcd-ae17-0de2ddab80e1',\n",
      "                                'credential_offer': {'cred_def_id': 'Mk4my5F8TP5aMDQK8HDrnC:3:CL:1533:Services',\n",
      "                                                     'key_correctness_proof': {'c': '114677749307228509787005954537008249133788646154641292333858490193909643363719',\n",
      "                                                                               'xr_cap': [['service_consent_match_id',\n",
      "                                                                                           '2896938415614798668314468971613707741819532812039457443794223863991359449405310587899067555093335257686292961977710312580667564848424609720056746178109847094114653749194619129770407587645140420965531004348926406033089756818031791382296573622064000861955093122221190587646757968698903384613185866973811977036110587639075568124008018579079081775408514944939702740122631505084297314119590004666112677010724312117759371721179073941021119416705042148576378517678720768177614264690032985237969155240308531463056449918844986444254593025967029671982645913963250057029612733844923516589150844764520378838035277619041550199088180157455154693487344673717080700898426639946464214844164055343941967469982885'],\n",
      "                                                                                          ['oca_schema_dri',\n",
      "                                                                                           '2435855023964069784694531719753023433174720909341051248733042209055556193840909961954283318100297615550099276083098391542334425310534555147722598423063266875540597107190582261346632629217151454597150665252462574661270609837677232647314714889520067749250514219001853571534648894173885691885373554319032645034508557134752206564243610305692976758300275818254862997891044635153802378496390208725370128963008153025118017073926631659261050916848726375170612606412518117699331821038397082010145252159875465657745284127706449047741410543075905098209502762174326035567225996221145852353580703396503088671600939410033075148651687877578659321620988571706181064454867528018494181525803362077962469945418883'],\n",
      "                                                                                          ['data_dri',\n",
      "                                                                                           '2641883519645009384035950921466338806294270259117482978931299548088114992692987769097153658662824428505438399779723202149545704323570278566459810356710413758688525785012916404482666396871813751138860593320054440629642240424722291568015947812737120748054329938609884939679776095947452067202764362354224715163399832657679015089804119936571323796689770599069925633606850628486095409750308720224833577301817807978247432943673439081811599415562612022134218783322763501532109378107750137259000094431177725221564769708361879753740779859545017534998022789635851131631310643503681151875617259424227998265735842845187518154957079088928010790691889182188740618595644101221683561133068720272085182831870560'],\n",
      "                                                                                          ['oca_schema_namespace',\n",
      "                                                                                           '981944531918536826138357194540721213772718447678630459096362325609679571654317265480012435332635074747121699415305143998433378689927074901552227320781104048789095925437150017333756910026044281077573984593733881678439202394694095775353317263054857753262325227091535711159006769858333524201418573416805720808160780143229070887767794610379327411822880204873044903494099476709505526658327635419627254096208538272320830667617150900923773408208398990834902504900339814028300605301609473405156016998033198404682163880592127785966927434934819491620534882293022699299676281909900564055538722570562669189356174108170456905990885017448110318947716050590305822059424661487673308381549185433317032147136137'],\n",
      "                                                                                          ['master_secret',\n",
      "                                                                                           '2715316620254994834839989152173750099780697362884475010135122725867837727773644811301132080776735420609664628070172934401589402433020588872063120344716376977550794380718482195665165438236224167099182010552739488637852739548255346767997688080919880706585661125782408714361409890693705619359473464031984878941210467680022756162188016713978633446000497375785589756065115502566214989251582915224799057533134082887382347176076648450403277160809024193596373063007077052917440189114420954341602267274926781070764762969447724272225646942504045302293950250169608728450617359733011610330849472468557553037334105845907416425412111440906629846621703533237603436998561881641739953932984605870418116017012530']],\n",
      "                                                                               'xz_cap': '2437913539389285706553357749204627508393373112758008850526301565438031599408805832098635351140750731328016605185760845466651502048267656234026915367633270083152441237523035688558429094738702785388983499853347536526614287688812609816764785493533877872340034480680489708251795474287649986401208873609615903077899501749836201351180045654210014225322529919354082930210740250539935066295958924280488311357086606127269381976767392701959098921902841558704151926087165468330247536734391531739064573060250632234008469257816967346714160247261142968669848448624236465638557500068174002183217962456427943191166458474628699367877572736913764869164147881236389673824496706294492764221723540852722536746402870'},\n",
      "                                                     'nonce': '21189946259159491965363',\n",
      "                                                     'schema_id': 'Mk4my5F8TP5aMDQK8HDrnC:2:consent_test:1.0'},\n",
      "                                'credential_offer_dict': {'@id': 'b9ddd5bc-562b-437c-89b6-4afdef0306e2',\n",
      "                                                          '@type': 'did:sov:BzCbsNYhMrjHiqZDTUASHg;spec/issue-credential/1.0/offer-credential',\n",
      "                                                          'credential_preview': {'@type': 'did:sov:BzCbsNYhMrjHiqZDTUASHg;spec/issue-credential/1.0/credential-preview',\n",
      "                                                                                 'attributes': [{'mime-type': 'application/json',\n",
      "                                                                                                 'name': 'oca_schema_dri',\n",
      "                                                                                                 'value': 'string'},\n",
      "                                                                                                {'mime-type': 'application/json',\n",
      "                                                                                                 'name': 'data_dri',\n",
      "                                                                                                 'value': 'zQmatYkNGZnELf8cAGdyJpUca2PyY4szai3RHyyWofNY1pY'},\n",
      "                                                                                                {'mime-type': 'application/json',\n",
      "                                                                                                 'name': 'oca_schema_namespace',\n",
      "                                                                                                 'value': 'string'},\n",
      "                                                                                                {'mime-type': 'application/json',\n",
      "                                                                                                 'name': 'service_consent_match_id',\n",
      "                                                                                                 'value': 'a031aea7-f463-4881-bda5-cbdbcbce7373'}]},\n",
      "                                                          'offers~attach': [{'@id': 'libindy-cred-offer-0',\n",
      "                                                                             'data': {'base64': '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'},\n",
      "                                                                             'mime-type': 'application/json'}],\n",
      "                                                          '~thread': {}},\n",
      "                                'credential_proposal_dict': {'@id': '7fe0d81f-ff53-4359-9a95-9b3549897f41',\n",
      "                                                             '@type': 'did:sov:BzCbsNYhMrjHiqZDTUASHg;spec/issue-credential/1.0/propose-credential',\n",
      "                                                             'cred_def_id': 'Mk4my5F8TP5aMDQK8HDrnC:3:CL:1533:Services',\n",
      "                                                             'credential_proposal': {'@type': 'did:sov:BzCbsNYhMrjHiqZDTUASHg;spec/issue-credential/1.0/credential-preview',\n",
      "                                                                                     'attributes': [{'mime-type': 'application/json',\n",
      "                                                                                                     'name': 'oca_schema_dri',\n",
      "                                                                                                     'value': 'string'},\n",
      "                                                                                                    {'mime-type': 'application/json',\n",
      "                                                                                                     'name': 'data_dri',\n",
      "                                                                                                     'value': 'zQmatYkNGZnELf8cAGdyJpUca2PyY4szai3RHyyWofNY1pY'},\n",
      "                                                                                                    {'mime-type': 'application/json',\n",
      "                                                                                                     'name': 'oca_schema_namespace',\n",
      "                                                                                                     'value': 'string'},\n",
      "                                                                                                    {'mime-type': 'application/json',\n",
      "                                                                                                     'name': 'service_consent_match_id',\n",
      "                                                                                                     'value': 'a031aea7-f463-4881-bda5-cbdbcbce7373'}]}},\n",
      "                                'initiator': 'self',\n",
      "                                'schema_id': 'Mk4my5F8TP5aMDQK8HDrnC:2:consent_test:1.0',\n",
      "                                'state': 'offer_sent',\n",
      "                                'thread_id': 'b9ddd5bc-562b-437c-89b6-4afdef0306e2',\n",
      "                                'updated_at': '2020-10-23 11:18:29.292447Z'},\n",
      " 'issue': {'author': 'other',\n",
      "           'connection_id': '9220547b-f8cb-47e8-af5b-f17c2aa1dcc3',\n",
      "           'created_at': '2020-10-23 11:18:25.051913Z',\n",
      "           'exchange_id': '8ef1be29-d9d7-453a-a21e-0d897a9c54c2',\n",
      "           'label': 'consent_test',\n",
      "           'service_consent_match_id': 'a031aea7-f463-4881-bda5-cbdbcbce7373',\n",
      "           'service_id': '26ae0cb7-0e0b-4813-8bdd-e31768e10397',\n",
      "           'state': 'accepted',\n",
      "           'updated_at': '2020-10-23 11:18:29.302599Z'}}\n"
     ]
    }
   ],
   "source": [
    "issue_self = requests.post('http://localhost:8151/verifiable-services/process-application', json={\n",
    "    \"issue_id\": issue_self[0]['issue_id'],\n",
    "    \"decision\": \"accept\",\n",
    "})\n",
    "print(issue_self)\n",
    "issue_self = json.loads(issue_self.text)\n",
    "pp.pprint(issue_self)"
   ]
  },
  {
   "cell_type": "code",
   "execution_count": 32,
   "metadata": {
    "scrolled": false
   },
   "outputs": [
    {
     "name": "stdout",
     "output_type": "stream",
     "text": [
      "{'results': []}\n"
     ]
    }
   ],
   "source": [
    "credentials = requests.get('http://localhost:8150/credentials')\n",
    "credentials = json.loads(credentials.text) \n",
    "pp.pprint(credentials)"
   ]
  },
  {
   "cell_type": "code",
   "execution_count": null,
   "metadata": {
    "scrolled": true
   },
   "outputs": [],
   "source": [
    "proof_schema = {\n",
    "  \"proof_request\": {\n",
    "    \"version\": \"1.0\",\n",
    "    \"name\": \"Proof request\",\n",
    "    \"requested_attributes\": {\n",
    "      \"data_dri\": {\n",
    "        \"non_revoked\": {\n",
    "          \"from_epoch\": 1500000000,\n",
    "          \"to_epoch\": 1700758817\n",
    "        },\n",
    "        \"restrictions\": [\n",
    "          {\n",
    "            \"cred_def_id\": apply['credential_definition_id'],\n",
    "          }\n",
    "        ],\n",
    "        \"name\": \"data_dri\"\n",
    "      },\n",
    "    },\n",
    "    \"requested_predicates\": {\n",
    "    }\n",
    "  },\n",
    "  \"connection_id\": connection[1],\n",
    "#   \"trace\": True,\n",
    "  \"comment\": \"string\",\n",
    "  \"nonce\": \"1234567890\"\n",
    "}\n",
    "proof_json = json.dumps(proof_schema)\n",
    "\n",
    "proof = requests.post('http://localhost:8151/present-proof/send-request', json=proof_schema)\n",
    "print(proof.text)"
   ]
  },
  {
   "cell_type": "code",
   "execution_count": 359,
   "metadata": {
    "scrolled": false
   },
   "outputs": [
    {
     "name": "stdout",
     "output_type": "stream",
     "text": [
      "{'connection_id': '994ebd0f-14c2-428c-be53-e730bc3ca7a7',\n",
      " 'created_at': '2020-09-22 11:58:22.954779Z',\n",
      " 'initiator': 'external',\n",
      " 'presentation_exchange_id': '964c067c-46fb-4a4f-b30d-253029bf6d53',\n",
      " 'presentation_request': {'name': 'Proof request',\n",
      "                          'nonce': '236523038637111089936187',\n",
      "                          'requested_attributes': {'data_dri': {'name': 'data_dri',\n",
      "                                                                'non_revoked': {'from_epoch': 1500000000,\n",
      "                                                                                'to_epoch': 1700758817},\n",
      "                                                                'restrictions': [{'cred_def_id': 'WWZtMuY1V9hvFF1ezey2EM:3:CL:1175:Services'}]}},\n",
      "                          'requested_predicates': {},\n",
      "                          'version': '1.0'},\n",
      " 'role': 'prover',\n",
      " 'state': 'request_received',\n",
      " 'thread_id': 'aab467d6-30db-442a-a23e-354f77100467',\n",
      " 'trace': False,\n",
      " 'updated_at': '2020-09-22 11:58:22.954779Z'}\n"
     ]
    }
   ],
   "source": [
    "proof = requests.get('http://localhost:8150/present-proof/records')\n",
    "proof_requests = json.loads(proof.text)['results']\n",
    "proof_request = proof_requests[-4]\n",
    "pp.pprint(proof_request)"
   ]
  },
  {
   "cell_type": "code",
   "execution_count": 360,
   "metadata": {},
   "outputs": [
    {
     "name": "stdout",
     "output_type": "stream",
     "text": [
      "{'requested_attributes': {'data_dri': {'cred_id': '657ec1be-2d72-41ba-a1c2-725082d1c759', 'revealed': True}}, 'requested_predicates': {}, 'self_attested_attributes': {}}\n",
      "{\"initiator\": \"external\", \"presentation_exchange_id\": \"964c067c-46fb-4a4f-b30d-253029bf6d53\", \"created_at\": \"2020-09-22 11:58:22.954779Z\", \"trace\": false, \"state\": \"presentation_sent\", \"connection_id\": \"994ebd0f-14c2-428c-be53-e730bc3ca7a7\", \"presentation_request\": {\"version\": \"1.0\", \"name\": \"Proof request\", \"requested_attributes\": {\"data_dri\": {\"non_revoked\": {\"from_epoch\": 1500000000, \"to_epoch\": 1700758817}, \"restrictions\": [{\"cred_def_id\": \"WWZtMuY1V9hvFF1ezey2EM:3:CL:1175:Services\"}], \"name\": \"data_dri\"}}, \"requested_predicates\": {}, \"nonce\": \"236523038637111089936187\"}, \"thread_id\": \"aab467d6-30db-442a-a23e-354f77100467\", \"updated_at\": \"2020-09-22 11:58:42.143421Z\", \"presentation\": {\"proof\": {\"proofs\": [{\"primary_proof\": {\"eq_proof\": {\"revealed_attrs\": {\"data_dri\": \"46796680751272472783988362602137825638383598079504819093754394509164353886973\"}, \"a_prime\": \"42060925111681669636213334465461164575836194937273514079107094119770484811000923091931931784785962619845420855610272334622125682737405195884213715565867043509925472416542230863397669958480326702009362188549625307238027141923316901463241665948886510725396751211682976967537427315898409725423004977165973917577012397530091085459428313234742407572778673167976233810565597772593501428323674039588815331363333011131947563740565737374539566838030750665908985019265316116568987453545729637513283468515631444897559731280710185010390213929739834049875974694578153331367913238465099147764748757565809536821203716456575388378246\", \"e\": \"149744341664205744796154145307544248538889876675252530822112571443987546230915749702200658558420585713265123016013950977835969801053953057\", \"v\": \"611500275973716077638342134196143749269401777789295453477448952386694564754355219816896070280138046380597845313572924400039537614356550185345175519676886228534421522375059312418479172732704034125825285263726391463099804925326792955688994599264072888868147154086462088856576722420610251175390240393484212824859248095563277662182316048818404817752837750682311933776232565112156547542996673647885005252976628352266826262528613196337151779396744520955488617272922513173590890311138471331069250873591569080334336608211859065467889654065083576388358134177057657204175650203573670980280474111209661536613018013783943729771456848694997770331422735617853248555251590772247311074442108257482287847716201687135816676096040076847229708137930028637846719395420635293955991640151071282034453565406274539490046382548656941404839366363410458847362772078389209200362489367266760385226192321439164226416115778280460381338638837626371832277\", \"m\": {\"master_secret\": \"2386760805094402316301225455828598737852974810826183656609281403581400406381385357708002631450192597334737210900913783774065131278351010748381917449267988342221531930358518539593\", \"oca_schema_dri\": \"10467365126062225482220034266152025282119565305540774185894769593869521567039440403762918471710644463790938437383541425719509092454510052384855934169534701186169031533936996914208\", \"oca_schema_namespace\": \"5641039992783029118954033759931093315849431783850509706247083558761588336191455463479046583104389411550948521774966114533333848120198885113197917260032611884419343556216679868168\"}, \"m2\": \"9423589221175845988822465438365229099266331562855899050815504765507197913400318984512239410921352506129337243879571510767874922106901635484072542962230815225264781509213281129829\"}, \"ge_proofs\": []}, \"non_revoc_proof\": null}], \"aggregated_proof\": {\"c_hash\": \"13897483270767136334365162946375255520601393712161530796352281947775339896398\", \"c_list\": [[1, 77, 47, 204, 5, 97, 6, 60, 158, 55, 51, 65, 76, 154, 39, 86, 149, 244, 143, 41, 116, 94, 53, 141, 49, 38, 73, 51, 239, 187, 17, 43, 237, 113, 206, 6, 46, 213, 154, 195, 234, 33, 54, 144, 95, 132, 156, 147, 48, 125, 174, 17, 146, 107, 85, 227, 145, 206, 229, 246, 67, 191, 167, 65, 111, 24, 119, 26, 172, 132, 117, 244, 163, 236, 227, 155, 96, 23, 1, 213, 56, 25, 73, 110, 24, 150, 109, 194, 9, 117, 156, 97, 172, 96, 40, 127, 152, 155, 200, 129, 154, 125, 33, 159, 70, 11, 146, 191, 25, 96, 17, 197, 113, 193, 182, 252, 144, 235, 14, 238, 129, 214, 130, 131, 119, 162, 182, 242, 44, 158, 228, 57, 119, 93, 144, 200, 70, 234, 176, 146, 220, 47, 242, 70, 27, 19, 174, 161, 31, 85, 119, 241, 155, 46, 214, 170, 179, 127, 29, 3, 90, 188, 65, 169, 104, 181, 167, 129, 2, 227, 203, 148, 69, 145, 180, 255, 73, 135, 133, 76, 195, 230, 209, 158, 174, 249, 219, 148, 79, 88, 160, 250, 242, 28, 237, 234, 142, 75, 181, 105, 176, 70, 160, 222, 192, 225, 27, 17, 110, 58, 114, 69, 71, 6, 84, 55, 33, 180, 149, 173, 229, 5, 34, 120, 92, 220, 250, 55, 211, 152, 136, 2, 23, 11, 3, 232, 198, 94, 155, 57, 156, 157, 110, 162, 207, 172, 141, 175, 206, 120, 135, 218, 209, 204, 112, 100, 134]]}}, \"requested_proof\": {\"revealed_attrs\": {\"data_dri\": {\"sub_proof_index\": 0, \"raw\": \"7dfd716666994497926f8ca02e769257d36bba92f0c31e4fe91ccba9f4311f86\", \"encoded\": \"46796680751272472783988362602137825638383598079504819093754394509164353886973\"}}, \"self_attested_attrs\": {}, \"unrevealed_attrs\": {}, \"predicates\": {}}, \"identifiers\": [{\"schema_id\": \"WWZtMuY1V9hvFF1ezey2EM:2:consent_test:1.0\", \"cred_def_id\": \"WWZtMuY1V9hvFF1ezey2EM:3:CL:1175:Services\", \"rev_reg_id\": null, \"timestamp\": null}]}, \"role\": \"prover\"}\n"
     ]
    }
   ],
   "source": [
    "url = 'http://localhost:8150/present-proof/records/' + \\\n",
    "       proof_request['presentation_exchange_id'] + \\\n",
    "       '/send-presentation'\n",
    "\n",
    "presentation_schema = {\n",
    "  \"requested_attributes\": {\n",
    "    \"data_dri\": {\n",
    "      \"cred_id\": credentials['results'][0]['referent'],\n",
    "        \"revealed\": True\n",
    "    },\n",
    "  },\n",
    "   \"requested_predicates\": {\n",
    "  },\n",
    "  \"self_attested_attributes\": {\n",
    "  }\n",
    "}\n",
    "print(presentation_schema)\n",
    "present = requests.post(url, json=presentation_schema)\n",
    "\n",
    "print(present.text)"
   ]
  },
  {
   "cell_type": "code",
   "execution_count": 53,
   "metadata": {},
   "outputs": [],
   "source": [
    "send = requests.post('http://localhost:8151/schema-exchange/request-schema', json={\n",
    "  \"hash_id\": add['hash_id'],\n",
    "  \"connection_id\": connection[1]\n",
    "})"
   ]
  },
  {
   "cell_type": "code",
   "execution_count": 54,
   "metadata": {},
   "outputs": [],
   "source": [
    "send = requests.post('http://localhost:8151/schema-exchange/request-schema', json={\n",
    "  \"hash_id\": \"ddd\",\n",
    "  \"connection_id\": connection[1]\n",
    "})"
   ]
  },
  {
   "cell_type": "code",
   "execution_count": 55,
   "metadata": {
    "scrolled": true
   },
   "outputs": [
    {
     "name": "stdout",
     "output_type": "stream",
     "text": [
      "{\"hash_id\": \"ddd\", \"connection_id\": \"a361d994-aaea-4f5c-9bf4-9644a774de2b\", \"record_id\": \"1e61b917-946b-4a56-8810-5b48081f79e6\", \"exchange_id\": \"c5f71769-b806-49fe-8861-15f49ffad9e3\", \"state\": \"pending\"}\n"
     ]
    }
   ],
   "source": [
    "print(send.text)"
   ]
  },
  {
   "cell_type": "markdown",
   "metadata": {},
   "source": [
    "### GET Request By RECORD_ID"
   ]
  },
  {
   "cell_type": "markdown",
   "metadata": {},
   "source": [
    "### GET Request List and filter by state and author"
   ]
  },
  {
   "cell_type": "code",
   "execution_count": 56,
   "metadata": {
    "scrolled": true
   },
   "outputs": [
    {
     "name": "stdout",
     "output_type": "stream",
     "text": [
      "Agent1:\n",
      "[{'author': 'other',\n",
      "  'connection_id': '844f6e7f-c13e-4ef8-b018-754fc5205445',\n",
      "  'created_at': '2020-07-16 09:09:17.991960Z',\n",
      "  'exchange_id': 'c5f71769-b806-49fe-8861-15f49ffad9e3',\n",
      "  'payload': 'ddd',\n",
      "  'state': 'failed to find the record',\n",
      "  'updated_at': '2020-07-16 09:09:17.991960Z'},\n",
      " {'author': 'other',\n",
      "  'connection_id': '844f6e7f-c13e-4ef8-b018-754fc5205445',\n",
      "  'created_at': '2020-07-16 09:09:16.748526Z',\n",
      "  'exchange_id': 'f51e4a06-2214-4b9e-a28a-d4c336258f66',\n",
      "  'payload': '9f86d081884c7d659a2feaa0c55ad015a3bf4f1b2b0b822cd15d6c15b0f00a08',\n",
      "  'state': 'approved',\n",
      "  'updated_at': '2020-07-16 09:09:16.748526Z'}]\n",
      "\n",
      "Agent2:\n",
      "[{'author': 'self',\n",
      "  'connection_id': 'a361d994-aaea-4f5c-9bf4-9644a774de2b',\n",
      "  'created_at': '2020-07-16 09:09:17.950785Z',\n",
      "  'exchange_id': 'c5f71769-b806-49fe-8861-15f49ffad9e3',\n",
      "  'payload': 'ddd',\n",
      "  'state': 'failed to find the record',\n",
      "  'updated_at': '2020-07-16 09:09:18.029400Z'},\n",
      " {'author': 'self',\n",
      "  'connection_id': 'a361d994-aaea-4f5c-9bf4-9644a774de2b',\n",
      "  'created_at': '2020-07-16 09:09:16.720869Z',\n",
      "  'exchange_id': 'f51e4a06-2214-4b9e-a28a-d4c336258f66',\n",
      "  'payload': '9f86d081884c7d659a2feaa0c55ad015a3bf4f1b2b0b822cd15d6c15b0f00a08',\n",
      "  'state': 'approved',\n",
      "  'updated_at': '2020-07-16 09:09:16.780856Z'}]\n"
     ]
    }
   ],
   "source": [
    "request_list = requests.post('http://localhost:8150/schema-storage/debug/request/list', json={})\n",
    "request_list = json.loads(request_list.text)\n",
    "print(\"Agent1:\", )\n",
    "pp.pprint(request_list)\n",
    "request_list = requests.post('http://localhost:8151/schema-storage/debug/request/list', json={})\n",
    "request_list = json.loads(request_list.text)\n",
    "print(\"\\nAgent2:\")\n",
    "pp.pprint(request_list)"
   ]
  },
  {
   "cell_type": "markdown",
   "metadata": {},
   "source": [
    "### GET RECORD LIST"
   ]
  },
  {
   "cell_type": "code",
   "execution_count": 57,
   "metadata": {
    "scrolled": true
   },
   "outputs": [
    {
     "name": "stdout",
     "output_type": "stream",
     "text": [
      "Agent1: \n",
      "[{'author': 'self',\n",
      "  'created_at': '2020-07-16 09:09:15.407083Z',\n",
      "  'hash_id': '9f86d081884c7d659a2feaa0c55ad015a3bf4f1b2b0b822cd15d6c15b0f00a08',\n",
      "  'payload': 'test',\n",
      "  'updated_at': '2020-07-16 09:09:15.407083Z'}]\n",
      "Agent2: \n",
      "[{'author': 'a361d994-aaea-4f5c-9bf4-9644a774de2b',\n",
      "  'created_at': '2020-07-16 09:09:16.808608Z',\n",
      "  'hash_id': '9f86d081884c7d659a2feaa0c55ad015a3bf4f1b2b0b822cd15d6c15b0f00a08',\n",
      "  'payload': 'test',\n",
      "  'updated_at': '2020-07-16 09:09:16.808608Z'}]\n"
     ]
    }
   ],
   "source": [
    "getRequests = requests.post('http://localhost:8150/schema-storage/list')\n",
    "record_list = json.loads(getRequests.text)\n",
    "print(\"Agent1: \")\n",
    "pp.pprint(record_list)\n",
    "\n",
    "getRequests = requests.post('http://localhost:8151/schema-storage/list')\n",
    "record_list = json.loads(getRequests.text)\n",
    "print(\"Agent2: \")\n",
    "pp.pprint(record_list)"
   ]
  },
  {
   "cell_type": "code",
   "execution_count": null,
   "metadata": {},
   "outputs": [],
   "source": [
    "\n",
    "# message = util.buildMessage(\n",
    "#         'https://didcomm.org/issue-credential/1.0/propose-credential'\n",
    "#     )\n",
    "# testing = util.sendMessage(message, agents[0])\n",
    "# pp.pprint(testing)"
   ]
  },
  {
   "cell_type": "code",
   "execution_count": null,
   "metadata": {},
   "outputs": [],
   "source": [
    "# pp.pprint(util.sendSchema(agents[0], \"schesssdddvd\", \"1.0\", [\"memesssaaaaaaa\"]))"
   ]
  },
  {
   "cell_type": "code",
   "execution_count": null,
   "metadata": {},
   "outputs": [],
   "source": [
    "# result = util.schemaGetList(agents[0])\n",
    "# last_schema_id = result['results'][-1]['schema_id']\n",
    "# print(result)"
   ]
  },
  {
   "cell_type": "code",
   "execution_count": null,
   "metadata": {},
   "outputs": [],
   "source": [
    "# util.schemaGet(agents[0], last_schema_id)"
   ]
  }
 ],
 "metadata": {
  "kernelspec": {
   "display_name": "Python 3",
   "language": "python",
   "name": "python3"
  },
  "language_info": {
   "codemirror_mode": {
    "name": "ipython",
    "version": 3
   },
   "file_extension": ".py",
   "mimetype": "text/x-python",
   "name": "python",
   "nbconvert_exporter": "python",
   "pygments_lexer": "ipython3",
   "version": "3.7.5"
  }
 },
 "nbformat": 4,
 "nbformat_minor": 4
}

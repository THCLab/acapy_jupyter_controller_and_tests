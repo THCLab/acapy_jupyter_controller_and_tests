{
 "cells": [
  {
   "cell_type": "code",
   "execution_count": 2,
   "metadata": {
    "scrolled": false
   },
   "outputs": [],
   "source": [
    "import requests\n",
    "import json\n",
    "import pprint\n",
    "from aiohttp import ClientSession, FormData\n",
    "import base58\n",
    "import random"
   ]
  },
  {
   "cell_type": "code",
   "execution_count": 43,
   "metadata": {},
   "outputs": [
    {
     "name": "stdout",
     "output_type": "stream",
     "text": [
      "{\"access_token\":\"xHCtsZEjIRbzjlPDV-G8Nj1EiPAtj3Tk7xKWYw266kI\",\"token_type\":\"Bearer\",\"expires_in\":7200,\"created_at\":1611231499,\"username\":\"nice_username_1\"}\n"
     ]
    }
   ],
   "source": [
    "GET = 1\n",
    "POST = 0\n",
    "PUT = 2\n",
    "base_url = \"https://data-vault.eu\"\n",
    "async with ClientSession() as session:\n",
    "    result = await session.post(\"https://data-vault.eu/oauth/token\", json={\n",
    "        \"client_id\": \"-s2bdkM_cv7KYDF5xg_Lj6vil1ZJaLQJ79duOW7J9g4\",\n",
    "        \"client_secret\": \"s_dR8dzbVES_vvc1-nyb1O_cuzyCz2_bRd3Lr12s4ug\",\n",
    "        \"grant_type\": \"client_credentials\"\n",
    "    })\n",
    "    assert(result.status == 200)\n",
    "    result = await result.text()\n",
    "    token = json.loads(result)\n",
    "    print(result)\n",
    "    \n",
    "async def r(request_type, url, json={}):\n",
    "    url = base_url + url\n",
    "    print(url)\n",
    "    async with ClientSession() as session:\n",
    "        if request_type == POST:\n",
    "            result = await session.post(url, headers={\n",
    "                \"Authorization\": \"Bearer \" + token['access_token']\n",
    "            }, json=json)\n",
    "        elif request_type == GET:\n",
    "            result = await session.get(url, headers={\n",
    "                \"Authorization\": \"Bearer \" + token['access_token']\n",
    "            })\n",
    "        elif request_type == PUT:\n",
    "            result = await session.put(url, headers={\n",
    "                \"Authorization\": \"Bearer \" + token['access_token']\n",
    "            }, json = json)\n",
    "            \n",
    "        if result.status != 200:\n",
    "            print(result.status)\n",
    "            assert(result.status == 200), \"not 200\"\n",
    "            \n",
    "        result = await result.text()\n",
    "        try:\n",
    "            load = json.loads(result)\n",
    "        except Exception:\n",
    "            return result\n",
    "        return load"
   ]
  },
  {
   "cell_type": "code",
   "execution_count": 84,
   "metadata": {
    "scrolled": true
   },
   "outputs": [
    {
     "name": "stdout",
     "output_type": "stream",
     "text": [
      "https://data-vault.eu/api/data?schema_dri=123&f=plain\n",
      "https://data-vault.eu/api/data?table=dip.data.test.a.b&f=plain\n"
     ]
    },
    {
     "data": {
      "text/plain": [
       "'[{\"ab\":\"cd\"},{\"ab\":\"cd\"},{\"ab\":\"cd\"},{\"ab\":\"cd\"},{\"ab\":\"cd\"},{\"ab\":\"cd\"},{\"ab\":\"cd\"},{\"ab\":\"cd\"},{\"ab\":\"cd\"},{\"ab\":\"cd\"},{\"ab\":\"cd\"},{\"ab\":\"cd\"},{\"ab\":\"cd\"},{\"ab\":\"cd\"},{\"ab\":\"cd\"},{\"ab\":\"cd\"},{\"ab\":\"cd\"},{\"ab\":\"cd\"},{\"ab\":\"cd\"},{\"ab\":\"cd\"}]'"
      ]
     },
     "execution_count": 84,
     "metadata": {},
     "output_type": "execute_result"
    }
   ],
   "source": [
    "# dri = random.randint(1, 1000000)\n",
    "# schema_dri = random.randint(1, 1000000)  \n",
    "# await r(POST, \"/api/data\", {\n",
    "#       \"content\": {\"ab\": \"cd\"},\n",
    "#       \"dri\": dri,\n",
    "#       \"schema_dri\": schema_dri,\n",
    "#       \"mime_type\": \"application/json\",\n",
    "#       \"table_name\": \"dip.data.test.a.b\"\n",
    "# })\n",
    "        \n",
    "       \n",
    "await r(GET, f\"/api/data?schema_dri={123}&f=plain\")\n",
    "await r(GET, f\"/api/data?table=dip.data.test.a.b&f=plain\")"
   ]
  }
 ],
 "metadata": {
  "kernelspec": {
   "display_name": "Python 3",
   "language": "python",
   "name": "python3"
  },
  "language_info": {
   "codemirror_mode": {
    "name": "ipython",
    "version": 3
   },
   "file_extension": ".py",
   "mimetype": "text/x-python",
   "name": "python",
   "nbconvert_exporter": "python",
   "pygments_lexer": "ipython3",
   "version": "3.7.5"
  }
 },
 "nbformat": 4,
 "nbformat_minor": 4
}

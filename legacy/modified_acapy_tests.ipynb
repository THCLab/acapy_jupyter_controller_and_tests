{
 "cells": [
  {
   "cell_type": "code",
   "execution_count": 1,
   "metadata": {
    "scrolled": false
   },
   "outputs": [],
   "source": [
    "import requests \n",
    "import json\n",
    "import pprint as pp # pretty print\n",
    "\n",
    "import aries_cloudagent.wallet.crypto as crypto\n",
    "import base64\n",
    "import base58\n",
    "import uuid\n",
    "import hashlib\n",
    "import time\n",
    "from jupyter_util import *\n",
    "from importlib import reload"
   ]
  },
  {
   "cell_type": "code",
   "execution_count": 2,
   "metadata": {
    "scrolled": true
   },
   "outputs": [],
   "source": [
    "# Connect agents\n",
    "agents = [8150,8151]\n",
    "connection = [1,2]\n",
    "inv = [0,1]\n",
    "get_index = lambda x: 1 if x == 0 else 0\n",
    "\n",
    "for i in range(len(connection)):\n",
    "    inv[i] = post(agents[i], \"/connections/create-invitation?alias=agent_connection&auto_accept=true&multi_use=true\")\n",
    "    # Create then register DIDS \n",
    "    resp = post(agents[i],  \"/wallet/did/create\")\n",
    "    dids = requests.post(\"http://localhost:9000/register\", json={\n",
    "        \"did\": resp['result']['did'], \n",
    "        \"verkey\":resp['result']['verkey'], \n",
    "        \"alias\": \"BOB\"+str(agents[i]), \n",
    "        \"role\": \"ENDORSER\"\n",
    "    })\n",
    "    resp = post(agents[i], \"/wallet/did/public?did=\" + resp['result']['did'])\n",
    "\n",
    "for i in range(len(connection)):\n",
    "    connection[i] = post(agents[i], \"/connections/receive-invitation?auto_accept=true\", {\n",
    "        \"label\": \"Bob\",\n",
    "        \"recipientKeys\": inv[get_index(i)]['invitation']['recipientKeys'],\n",
    "        \"serviceEndpoint\": inv[get_index(i)]['invitation']['serviceEndpoint'],\n",
    "    })['connection_id']"
   ]
  },
  {
   "cell_type": "markdown",
   "metadata": {
    "scrolled": false
   },
   "source": [
    "# Services"
   ]
  },
  {
   "cell_type": "code",
   "execution_count": 3,
   "metadata": {
    "scrolled": false
   },
   "outputs": [
    {
     "name": "stdout",
     "output_type": "stream",
     "text": [
      "{\"success\": \"True\", \"status\": {\"own_your_data\": {\"connected\": true}}}\n",
      "{\"success\": \"True\", \"status\": {\"own_your_data\": {\"connected\": true}}}\n"
     ]
    }
   ],
   "source": [
    "set_pds_config_agent1(\n",
    "    \"own_your_data\",\n",
    "    {\n",
    "        \"client_id\": \"gVQJTSabNK8DxNzu3PeGWQwBtXSb2Iv7FgYlbzBEbfg\",\n",
    "        \"client_secret\": \"9yBmtiyO2YwhtHA9btSrYensVZZ9DLNY1Vq5D-EjxwQ\",\n",
    "        \"api_url\": \"https://data-vault.eu\",\n",
    "    },\n",
    ")\n",
    "\n",
    "set_pds_config_agent2(\n",
    "    \"own_your_data\",\n",
    "    {\n",
    "        \"client_id\": \"nM8p2yYuxqGWvbJ50t8ODifjyFZfi-yOm2HoE6AZaW0\",\n",
    "        \"client_secret\": \"X6WBjmMylTQ3BdbBRKkBir3uVz79RgADetw5tl7Tgyo\",\n",
    "        \"api_url\": \"https://data-vault.eu\",\n",
    "    },\n",
    ")\n",
    "\n",
    "# set_pds_config_agent2(\n",
    "#     \"own_your_data\",\n",
    "#     { \"scope\": \"admin\", \"client_id\": \"50c67447e28eeb5ac56bd8bc3fbfbc5916f817603eb3f117f01e84d52e36afb7\", \"client_secret\": \"6f20318f0a451b24a9c4aaa00214626d6e0f6b15d18957acd11a085c4d7b2dbd\", \"api_url\": \"https://dip-officer.data-container.net\" }\n",
    "# )\n"
   ]
  },
  {
   "cell_type": "code",
   "execution_count": 4,
   "metadata": {},
   "outputs": [],
   "source": [
    "import random\n",
    "add_consent = post(8151, \"/verifiable-services/consents\", {\n",
    "    \"label\": \"test_\" + str(random.randint(1, 100000000)),\n",
    "    \"oca_schema_namespace\": \"consent\",\n",
    "    \"oca_schema_dri\": \"fArVHJTQSKHu2CeXJocQmH3HHxzZXsuQD7kzyHJhQ49s\",\n",
    "    \"oca_data\": {\n",
    "        \"expiration\": \"7200\",\n",
    "        \"limitation\": \"7200\",\n",
    "        \"dictatedBy\": \"test\",\n",
    "        \"validityTTL\": \"7200\",\n",
    "    }\n",
    "})\n",
    "get_consents_provider = get(8151, \"/verifiable-services/consents\")\n",
    "get_consents_user = get(8150, \"/verifiable-services/consents\")\n",
    "\n",
    "save_data_to_pds = post(8151, \"/pds/save\", {\"payload\": json.dumps({\n",
    "        \"associatedReportID\": \"Text12\",\n",
    "        \"uniqueNumericIDHash\": \"Text\",\n",
    "        \"disease\": \"Text\",\n",
    "        \"vaccineDescription\": \"Text\",\n",
    "        \"atcCode\": \"Text\",\n",
    "        \"certificateIssuer\": \"Text\",\n",
    "        \"certificateNumber\": \"Text\",\n",
    "        \"certificateValidFrom\": \"Date\",\n",
    "        \"certificateValidTo\": \"Date\",\n",
    "        \"formVersion\": \"Text\",\n",
    "    }), \"oca_schema_dri\": \"dip.data.tda.oca_chunks.predefined.9GdWoQwth9299oYj8HfdgRZjtSxW9sTVyy1RnfhQ35yA\"\n",
    "})"
   ]
  },
  {
   "cell_type": "code",
   "execution_count": 5,
   "metadata": {
    "scrolled": false
   },
   "outputs": [],
   "source": [
    "add = post(8151, '/verifiable-services/add', {\n",
    "  \"label\": \"consent_test\",\n",
    "  \"service_schema\": {\n",
    "    \"oca_schema_namespace\": \"string\",\n",
    "    \"oca_schema_dri\": \"12345\"\n",
    "  },\n",
    "  \"certificate_schema\": {\n",
    "    \"oca_schema_namespace\": \"string\",\n",
    "    \"oca_schema_dri\": \"9GdWoQwth9299oYj8HfdgRZjtSxW9sTVyy1RnfhQ35yA\"\n",
    "  },\n",
    "  \"consent_id\": add_consent['consent_id']\n",
    "})"
   ]
  },
  {
   "cell_type": "code",
   "execution_count": 6,
   "metadata": {
    "scrolled": false
   },
   "outputs": [],
   "source": [
    "service_list = get(8150, '/verifiable-services/DEBUGrequest/' + connection[0])\n",
    "webhook_service_list = get(8150, '/verifiable-services/request-service-list/' + connection[0])"
   ]
  },
  {
   "cell_type": "code",
   "execution_count": 7,
   "metadata": {},
   "outputs": [],
   "source": [
    "service = service_list['result']['services'][-1]"
   ]
  },
  {
   "cell_type": "code",
   "execution_count": 8,
   "metadata": {},
   "outputs": [],
   "source": [
    "# service = None\n",
    "# services = service_list['result']['services']\n",
    "# for i in services:\n",
    "#     if i['service_id'] == add['service_id']:\n",
    "#         service = i\n",
    "# assert service == add['service_id']"
   ]
  },
  {
   "cell_type": "code",
   "execution_count": 9,
   "metadata": {
    "scrolled": true
   },
   "outputs": [
    {
     "name": "stdout",
     "output_type": "stream",
     "text": [
      "{'success': True, 'exchange_id': 'f1f93903-4c2e-46e1-b243-4a69bc0eafa0'}\n"
     ]
    }
   ],
   "source": [
    "service = service_list['result']['services'][0]\n",
    "service.pop(\"policy_validation\", None)\n",
    "apply = post(8150, '/verifiable-services/apply', {\n",
    "  \"connection_id\": connection[0],\n",
    "  \"user_data\": '{\"memes\": \"films\"}',\n",
    "  \"service\": service,\n",
    "})\n",
    "print(apply)"
   ]
  },
  {
   "cell_type": "code",
   "execution_count": 10,
   "metadata": {
    "scrolled": false
   },
   "outputs": [],
   "source": [
    "time.sleep(1)\n",
    "issue_self = requests.post('http://localhost:8151/verifiable-services/get-issue', json={\n",
    "    \"exchange_id\": apply['exchange_id'],\n",
    "})\n",
    "issue_self = json.loads(issue_self.text)\n",
    "issue_self = issue_self['result']"
   ]
  },
  {
   "cell_type": "code",
   "execution_count": 11,
   "metadata": {
    "scrolled": true
   },
   "outputs": [],
   "source": [
    "process_application = post(8151, '/verifiable-services/process-application', {\n",
    "    \"issue_id\": issue_self[0]['issue_id'],\n",
    "    \"decision\": \"accept\",\n",
    "    \"data\": {\n",
    "        \"test\": \"certificate\"\n",
    "    }\n",
    "})\n"
   ]
  },
  {
   "cell_type": "code",
   "execution_count": 12,
   "metadata": {
    "scrolled": true
   },
   "outputs": [
    {
     "name": "stdout",
     "output_type": "stream",
     "text": [
      "accepted\n"
     ]
    }
   ],
   "source": [
    "issue_self = post(8151, '/verifiable-services/get-issue', {\n",
    "    \"exchange_id\": apply['exchange_id'],\n",
    "})['result'][0]\n",
    "issue_self['consent_schema'].pop(\"usage_policy\")\n",
    "print(issue_self['state'])"
   ]
  },
  {
   "cell_type": "code",
   "execution_count": 15,
   "metadata": {
    "scrolled": true
   },
   "outputs": [
    {
     "name": "stdout",
     "output_type": "stream",
     "text": [
      "credential_received\n"
     ]
    }
   ],
   "source": [
    "issue_self = post(8150, '/verifiable-services/get-issue', {\n",
    "    \"exchange_id\": apply['exchange_id'],\n",
    "})['result']\n",
    "print(issue_self[0][\"state\"])"
   ]
  },
  {
   "cell_type": "code",
   "execution_count": 16,
   "metadata": {},
   "outputs": [],
   "source": [
    "cred = get(8151, \"/pds/\" + issue_self[0][\"credential_id\"])\n",
    "user_data = get(8151, \"/pds/\" + issue_self[0][\"service_user_data_dri\"])\n",
    "consent = get(8151, \"/pds/\" + issue_self[0][\"user_consent_credential_dri\"])\n",
    "report = get(8151, \"/pds/\" + issue_self[0][\"report_data_dri\"])\n",
    "cred_content = get(8151, \"/pds/\" + cred['payload']['credentialSubject']['oca_data_dri'])\n",
    "report = get(8151, \"/verifiable-services/report/\" + cred_content['payload']['associatedReportID'])"
   ]
  },
  {
   "cell_type": "code",
   "execution_count": 17,
   "metadata": {
    "scrolled": true
   },
   "outputs": [],
   "source": [
    "cred = get(8150, \"/pds/\" + issue_self[0][\"credential_id\"])\n",
    "user_data = get(8150, \"/pds/\" + issue_self[0][\"service_user_data_dri\"])\n",
    "consent = get(8150, \"/pds/\" + issue_self[0][\"user_consent_credential_dri\"])\n",
    "report = get(8150, \"/pds/\" + issue_self[0][\"report_data_dri\"])\n",
    "cred_content = get(8150, \"/pds/\" + cred['payload']['credentialSubject']['oca_data_dri'])\n",
    "report = get(8150, \"/verifiable-services/report/\" + cred_content['payload']['associatedReportID'])"
   ]
  },
  {
   "cell_type": "code",
   "execution_count": 18,
   "metadata": {
    "scrolled": false
   },
   "outputs": [
    {
     "name": "stdout",
     "output_type": "stream",
     "text": [
      "{'result': [{'content': {'context': ['https://www.w3.org/2018/credentials/v1',\n",
      "                                     'https://www.schema.org'],\n",
      "                         'credentialSubject': {'oca_data_dri': 'zQmeJXcPVVh9A3uw5Hm3QN2TwV5tnzJgFDSErDSttrXtzci',\n",
      "                                               'oca_schema_dri': '9GdWoQwth9299oYj8HfdgRZjtSxW9sTVyy1RnfhQ35yA',\n",
      "                                               'oca_schema_namespace': 'string',\n",
      "                                               'service_consent_match_id': '75b35a9a-6e40-47d0-bd30-dd2fbb6ac5ef',\n",
      "                                               'subject_id': 'F5v83yGrTLb5i3WsifSpDF'},\n",
      "                         'issuanceDate': '2021-05-09 09:26:21.999383Z',\n",
      "                         'issuer': 'DrXfjiPYrqLdwwY95XSXhr',\n",
      "                         'proof': {'created': '2021-05-09 09:26:22.005656Z',\n",
      "                                   'jws': 'dCWhEto4k2QrLcnY193SzxJ3Nloxm-9mbo8ke0vpfZ5HTAT-kQjsVf5FBvcs1FA_lEq1gWBdIBYc4x8syPvABw',\n",
      "                                   'proofPurpose': 'assertionMethod',\n",
      "                                   'type': 'Ed25519Signature2018',\n",
      "                                   'verificationMethod': '51PNxsyQFq9S29M4yNJzaLxbAwPv6f3kKbn3QY4N6grS'},\n",
      "                         'type': ['VerifiableCredential']},\n",
      "             'dri': 'zQmUCiSkzdbBkZqtHg13SdRsrVKFoKzSioxi7q8yzoEd49s',\n",
      "             'timestamp': 1620552383292},\n",
      "            {'content': {'context': ['https://www.w3.org/2018/credentials/v1',\n",
      "                                     'https://www.schema.org'],\n",
      "                         'credentialSubject': {'oca_data_dri': 'zQmYTVsehbKqYQnmdULjhEBzHQPg1ERTRBw4GYzjFyqRWXK',\n",
      "                                               'oca_schema_dri': '9GdWoQwth9299oYj8HfdgRZjtSxW9sTVyy1RnfhQ35yA',\n",
      "                                               'oca_schema_namespace': 'string',\n",
      "                                               'service_consent_match_id': '9b3e4b8e-7dc2-4436-8cda-0cc3fb0ef0cd',\n",
      "                                               'subject_id': 'Dk44JhXADdzc8t5JS1mj2a'},\n",
      "                         'issuanceDate': '2021-05-12 10:47:48.535030Z',\n",
      "                         'issuer': '4kbqJ5u32YvD5hRDT7T61G',\n",
      "                         'proof': {'created': '2021-05-12 10:47:48.541429Z',\n",
      "                                   'jws': 'H_twMmvgP7s493Tg5CPfcdWce5SEQIXJ6fjbQCN4w5uHjdiaq5x7BE1LAMHSFcpSzAEAidt9KvnhDUOd08A3Bw',\n",
      "                                   'proofPurpose': 'assertionMethod',\n",
      "                                   'type': 'Ed25519Signature2018',\n",
      "                                   'verificationMethod': 'EWgHwsFUXdTpDg6nTCGCeeS4fS1PFLrmRvtnmgkxWPQT'},\n",
      "                         'type': ['VerifiableCredential']},\n",
      "             'dri': 'zQme3NvBxLUbZq2mpzMLvNi2d8Gjv38JMKpHKE4hYr8WSzL',\n",
      "             'timestamp': 1620816469772},\n",
      "            {'content': {'context': ['https://www.w3.org/2018/credentials/v1',\n",
      "                                     'https://www.schema.org'],\n",
      "                         'credentialSubject': {'oca_data_dri': 'zQmT5xhkWavzHajLN6pGwk7WH9eVxBHjCFDa8C1rcEHheWu',\n",
      "                                               'oca_schema_dri': '9GdWoQwth9299oYj8HfdgRZjtSxW9sTVyy1RnfhQ35yA',\n",
      "                                               'oca_schema_namespace': 'string',\n",
      "                                               'service_consent_match_id': 'f5ae82f7-1536-4aa6-aaaa-702bf6f58e5b',\n",
      "                                               'subject_id': 'JcsaprS8G2ACN7jrQYdQdb'},\n",
      "                         'issuanceDate': '2021-05-07 10:57:39.927342Z',\n",
      "                         'issuer': 'KPrFzPBnahcVcjR4pGdp8f',\n",
      "                         'proof': {'created': '2021-05-07 10:57:39.932962Z',\n",
      "                                   'jws': 'Mpw2kVipTzPz3pm6A-PuGnKKzgXDOF3w0doQU7QwqvGWA5GrciHYpm6AQqR7rb27T63aeNTMiaKCkeG3T_EQAA',\n",
      "                                   'proofPurpose': 'assertionMethod',\n",
      "                                   'type': 'Ed25519Signature2018',\n",
      "                                   'verificationMethod': 'EhiWQUzEmkY8kRgPfK3gypXjwHZLbooWsYQGqihQzLhz'},\n",
      "                         'type': ['VerifiableCredential']},\n",
      "             'dri': 'zQmNYBW44DdSisoacg4bfe6gNpmemXicBuKDmgEFMmHAQFf',\n",
      "             'timestamp': 1620385061148},\n",
      "            {'content': {'context': ['https://www.w3.org/2018/credentials/v1',\n",
      "                                     'https://www.schema.org'],\n",
      "                         'credentialSubject': {'oca_data_dri': 'zQmauWkbofmM5qgTXyMxUcsSTKtgtWZDdd21U63PCLfPfbm',\n",
      "                                               'oca_schema_dri': '9GdWoQwth9299oYj8HfdgRZjtSxW9sTVyy1RnfhQ35yA',\n",
      "                                               'oca_schema_namespace': 'string',\n",
      "                                               'service_consent_match_id': '89ee96f3-5998-47f4-a799-928887c07b22',\n",
      "                                               'subject_id': 'JcsaprS8G2ACN7jrQYdQdb'},\n",
      "                         'issuanceDate': '2021-05-07 13:22:31.606243Z',\n",
      "                         'issuer': 'KPrFzPBnahcVcjR4pGdp8f',\n",
      "                         'proof': {'created': '2021-05-07 13:22:31.612943Z',\n",
      "                                   'jws': 'gsbZMTwrJss1lLgKFhCWXPecir1h0f8QTdC38IgBrGPnt3aVoe3rBcM1rzd7ZN_XYDOdakHEOIjVzFeCE8b3Cg',\n",
      "                                   'proofPurpose': 'assertionMethod',\n",
      "                                   'type': 'Ed25519Signature2018',\n",
      "                                   'verificationMethod': '4ieBi7PiwgWLDtw5ZxA87x5NcC9XWYa8f1gpJnxzdQv1'},\n",
      "                         'type': ['VerifiableCredential']},\n",
      "             'dri': 'zQmTRnGyxcyTfBtawd8DcPseK6DbM1M1B7CSuuBxY9PG2jt',\n",
      "             'timestamp': 1620393752832},\n",
      "            {'content': {'context': ['https://www.w3.org/2018/credentials/v1',\n",
      "                                     'https://www.schema.org'],\n",
      "                         'credentialSubject': {'oca_data_dri': 'zQmePTMBKPV2FZRDn3gUNMrthjHtyNejzfKso4FKez4GFeF',\n",
      "                                               'oca_schema_dri': '9GdWoQwth9299oYj8HfdgRZjtSxW9sTVyy1RnfhQ35yA',\n",
      "                                               'oca_schema_namespace': 'string',\n",
      "                                               'service_consent_match_id': '1daacd81-247e-48d7-8a7f-e30aa3c8c03a',\n",
      "                                               'subject_id': 'JcsaprS8G2ACN7jrQYdQdb'},\n",
      "                         'issuanceDate': '2021-05-07 13:17:33.006259Z',\n",
      "                         'issuer': 'KPrFzPBnahcVcjR4pGdp8f',\n",
      "                         'proof': {'created': '2021-05-07 13:17:33.012556Z',\n",
      "                                   'jws': '95BSyAxz7w6gNgiawtilNlzNVPz2j-VdaaEx2MhSAmk0iFwFbaLKFkDg8LzDQVwR49rRKm1sRP49_0-saeIPAw',\n",
      "                                   'proofPurpose': 'assertionMethod',\n",
      "                                   'type': 'Ed25519Signature2018',\n",
      "                                   'verificationMethod': '3st1zywF7BPPHXv4WerdYSVrrveD8N5eyKrzZ9wyRCah'},\n",
      "                         'type': ['VerifiableCredential']},\n",
      "             'dri': 'zQmcnXET1ugUkGtrtsfqpNuURRvkkfnjNsfBAuovBoFD7Zp',\n",
      "             'timestamp': 1620393454295},\n",
      "            {'content': {'context': ['https://www.w3.org/2018/credentials/v1',\n",
      "                                     'https://www.schema.org'],\n",
      "                         'credentialSubject': {'oca_data_dri': 'zQmR2vnbWKQv5u9dc3Z19VufpdMJmdwMYMLxL6L9AAz9CKS',\n",
      "                                               'oca_schema_dri': '9GdWoQwth9299oYj8HfdgRZjtSxW9sTVyy1RnfhQ35yA',\n",
      "                                               'oca_schema_namespace': 'string',\n",
      "                                               'service_consent_match_id': '57e1064d-bfe7-4b3b-a914-b23a44a676a0',\n",
      "                                               'subject_id': 'JcsaprS8G2ACN7jrQYdQdb'},\n",
      "                         'issuanceDate': '2021-05-07 13:22:57.647378Z',\n",
      "                         'issuer': 'KPrFzPBnahcVcjR4pGdp8f',\n",
      "                         'proof': {'created': '2021-05-07 13:22:57.653540Z',\n",
      "                                   'jws': 'Lri61xVSM0Ppsdz-tJoD2sBp4MQQndogE0IjkaD2uDfWmPKiNTRj6CwysICUgFnyWl1QvG9kWGM-pfR2N_siAQ',\n",
      "                                   'proofPurpose': 'assertionMethod',\n",
      "                                   'type': 'Ed25519Signature2018',\n",
      "                                   'verificationMethod': '2fvaUmE8iAndahjUazqm8CjrRU8psYSDoDURuNhUaFX2'},\n",
      "                         'type': ['VerifiableCredential']},\n",
      "             'dri': 'zQmcxpcrKrfKAouejSt7XTHCa9LwcvuMAnU23q5XQ41YvjX',\n",
      "             'timestamp': 1620393778877},\n",
      "            {'content': {'context': ['https://www.w3.org/2018/credentials/v1',\n",
      "                                     'https://www.schema.org'],\n",
      "                         'credentialSubject': {'oca_data_dri': 'zQmXqCUA2CgcLhV2Sv5LH3aZUGU9p4vNxHHM6jhZ4Q8LNno',\n",
      "                                               'oca_schema_dri': '9GdWoQwth9299oYj8HfdgRZjtSxW9sTVyy1RnfhQ35yA',\n",
      "                                               'oca_schema_namespace': 'string',\n",
      "                                               'service_consent_match_id': '247b198c-b1b8-4431-ab03-4eb6c7aa9747',\n",
      "                                               'subject_id': 'JcsaprS8G2ACN7jrQYdQdb'},\n",
      "                         'issuanceDate': '2021-05-07 13:22:07.394057Z',\n",
      "                         'issuer': 'KPrFzPBnahcVcjR4pGdp8f',\n",
      "                         'proof': {'created': '2021-05-07 13:22:07.400718Z',\n",
      "                                   'jws': 'heNvePo1F3C6PfIfgIryXdEBa6bFZQCJUkxTU3utVsQKoVxUaXnG91pjBscYc1uNNONz-cbCBZ3tTzM0yJZRAw',\n",
      "                                   'proofPurpose': 'assertionMethod',\n",
      "                                   'type': 'Ed25519Signature2018',\n",
      "                                   'verificationMethod': 'Dhqv1HWF7hueTdG1bf31Ko6SaNaohuBTLxRzjS5D7JX9'},\n",
      "                         'type': ['VerifiableCredential']},\n",
      "             'dri': 'zQmZQPisgzib8sX5xcZ2T4zuJLfc9mtdVhSWwxxPFtQoqEH',\n",
      "             'timestamp': 1620393728679},\n",
      "            {'content': {'context': ['https://www.w3.org/2018/credentials/v1',\n",
      "                                     'https://www.schema.org'],\n",
      "                         'credentialSubject': {'oca_data_dri': 'zQmZdKmrQyCUyGmNLK7J8dHyVZSw8JcZ6k41QdzWEA85Cpq',\n",
      "                                               'oca_schema_dri': '9GdWoQwth9299oYj8HfdgRZjtSxW9sTVyy1RnfhQ35yA',\n",
      "                                               'oca_schema_namespace': 'string',\n",
      "                                               'service_consent_match_id': '4fb34f90-2375-4f5a-b451-841f4d2c618c',\n",
      "                                               'subject_id': 'JcsaprS8G2ACN7jrQYdQdb'},\n",
      "                         'issuanceDate': '2021-05-07 13:22:18.988758Z',\n",
      "                         'issuer': 'KPrFzPBnahcVcjR4pGdp8f',\n",
      "                         'proof': {'created': '2021-05-07 13:22:18.996085Z',\n",
      "                                   'jws': 'Ychx4c_GaOPrG-Qb4b1EkjMGLAn-zpobzagyEf4ynSae-lNXHWWJfvupFyhfdht6hvanFObwEE6_nbYQGzgqCw',\n",
      "                                   'proofPurpose': 'assertionMethod',\n",
      "                                   'type': 'Ed25519Signature2018',\n",
      "                                   'verificationMethod': 'D6ccfzMipK7LZe2tfM2Hi5oYKYVoDtF8KxtruyTvNn9n'},\n",
      "                         'type': ['VerifiableCredential']},\n",
      "             'dri': 'zQmeGBwq4VgKXfoWngbuQ7bTa2jb62pLG26P8npmioUaBZD',\n",
      "             'timestamp': 1620393740231},\n",
      "            {'content': {'context': ['https://www.w3.org/2018/credentials/v1',\n",
      "                                     'https://www.schema.org'],\n",
      "                         'credentialSubject': {'oca_data_dri': 'zQmV9ow2boAhDiV92daQftMff9D3mFWoXnMUMpt4d4URSUa',\n",
      "                                               'oca_schema_dri': '9GdWoQwth9299oYj8HfdgRZjtSxW9sTVyy1RnfhQ35yA',\n",
      "                                               'oca_schema_namespace': 'string',\n",
      "                                               'service_consent_match_id': 'b2bb5dc6-b416-4edb-9628-be993b287183',\n",
      "                                               'subject_id': 'JcsaprS8G2ACN7jrQYdQdb'},\n",
      "                         'issuanceDate': '2021-05-07 13:24:40.689481Z',\n",
      "                         'issuer': 'KPrFzPBnahcVcjR4pGdp8f',\n",
      "                         'proof': {'created': '2021-05-07 13:24:40.694567Z',\n",
      "                                   'jws': '4JQIgI72RPYgxm6hIf97_1Rv_X5mNxJhhCqskx5oE8UxtBlqYmja0zTV-mhpbTjN7EtPfkpiO5y6fu-CdmCiDw',\n",
      "                                   'proofPurpose': 'assertionMethod',\n",
      "                                   'type': 'Ed25519Signature2018',\n",
      "                                   'verificationMethod': 'AznEf2Th3eNJr9gGRmLwoe5cr49KPjSst861bt3rFY8m'},\n",
      "                         'type': ['VerifiableCredential']},\n",
      "             'dri': 'zQmTcG2VHEVQeje3QrTj48bEpGzW2Bu5mzv3c4AVNxU7Jyq',\n",
      "             'timestamp': 1620393881965},\n",
      "            {'content': {'context': ['https://www.w3.org/2018/credentials/v1',\n",
      "                                     'https://www.schema.org'],\n",
      "                         'credentialSubject': {'oca_data_dri': 'zQmfHsaRKprMzse78LgfmdvXMSj4cJAn46oYfYDPzmz1fWG',\n",
      "                                               'oca_schema_dri': '9GdWoQwth9299oYj8HfdgRZjtSxW9sTVyy1RnfhQ35yA',\n",
      "                                               'oca_schema_namespace': 'string',\n",
      "                                               'service_consent_match_id': '69f51d49-7425-446b-a11e-008416167f02',\n",
      "                                               'subject_id': 'JcsaprS8G2ACN7jrQYdQdb'},\n",
      "                         'issuanceDate': '2021-05-07 13:25:49.506325Z',\n",
      "                         'issuer': 'KPrFzPBnahcVcjR4pGdp8f',\n",
      "                         'proof': {'created': '2021-05-07 13:25:49.511695Z',\n",
      "                                   'jws': 'ygkSv2pXZRQUn_6rddfnd1BUK0y6CDX5jPr1DwkDekWZlQVe5-3OyRhHLhJnftdLgINZ6UqZlnhJOscFgjkrCQ',\n",
      "                                   'proofPurpose': 'assertionMethod',\n",
      "                                   'type': 'Ed25519Signature2018',\n",
      "                                   'verificationMethod': 'J1vtghdP6RkDYM6KsXXxDCNi8jB2ViUSqSDKUwfHKYxH'},\n",
      "                         'type': ['VerifiableCredential']},\n",
      "             'dri': 'zQmSzbFU44udEgANJwaQBPs8T81TRSK4gDFWVk2usaNC2y2',\n",
      "             'timestamp': 1620393950776},\n",
      "            {'content': {'context': ['https://www.w3.org/2018/credentials/v1',\n",
      "                                     'https://www.schema.org'],\n",
      "                         'credentialSubject': {'oca_data_dri': 'zQmevH4JrsQ79AYetdETB3omELM7DQJmdwwg3idF9C72NrS',\n",
      "                                               'oca_schema_dri': '9GdWoQwth9299oYj8HfdgRZjtSxW9sTVyy1RnfhQ35yA',\n",
      "                                               'oca_schema_namespace': 'string',\n",
      "                                               'service_consent_match_id': '275f23cc-2b22-4faa-acde-349c02620aca',\n",
      "                                               'subject_id': 'JcsaprS8G2ACN7jrQYdQdb'},\n",
      "                         'issuanceDate': '2021-05-07 13:21:07.877192Z',\n",
      "                         'issuer': 'KPrFzPBnahcVcjR4pGdp8f',\n",
      "                         'proof': {'created': '2021-05-07 13:21:07.883405Z',\n",
      "                                   'jws': 'Iuuhmx1mrT84foeWR0hZnvpA4CXzfZzaZQuF6KT6PZ_rMPb5FviHF9bAezV74Zi9kgmzJJEfwirEZywaQmTKBg',\n",
      "                                   'proofPurpose': 'assertionMethod',\n",
      "                                   'type': 'Ed25519Signature2018',\n",
      "                                   'verificationMethod': 'Hz5qZGtwv1R2qv1ZVLMEGGz66rQbpFxgiUCaFsaLrtCy'},\n",
      "                         'type': ['VerifiableCredential']},\n",
      "             'dri': 'zQmNxLrVeX7Tt3CmiXVto2PaQCGwS1rLJJ6v94D915Zf7qR',\n",
      "             'timestamp': 1620393669119},\n",
      "            {'content': {'context': ['https://www.w3.org/2018/credentials/v1',\n",
      "                                     'https://www.schema.org'],\n",
      "                         'credentialSubject': {'oca_data_dri': 'zQmZjTam93mMbcDsk6HpeFsUnFgji4bp4o3hkt8JfpCjqD1',\n",
      "                                               'oca_schema_dri': '9GdWoQwth9299oYj8HfdgRZjtSxW9sTVyy1RnfhQ35yA',\n",
      "                                               'oca_schema_namespace': 'string',\n",
      "                                               'service_consent_match_id': '45074ad8-ecd0-4cf4-bb1c-cbb69470ede7',\n",
      "                                               'subject_id': 'JcsaprS8G2ACN7jrQYdQdb'},\n",
      "                         'issuanceDate': '2021-05-07 13:20:58.430847Z',\n",
      "                         'issuer': 'KPrFzPBnahcVcjR4pGdp8f',\n",
      "                         'proof': {'created': '2021-05-07 13:20:58.438476Z',\n",
      "                                   'jws': 'Xn9-YS50ACl7VpQ7khoO3yRN7fL-TzRp6QFvFoF1_M602AbKyK2PcFnm7Npx3RqPppSYyEafT74m8Q4MdoQ3Cw',\n",
      "                                   'proofPurpose': 'assertionMethod',\n",
      "                                   'type': 'Ed25519Signature2018',\n",
      "                                   'verificationMethod': '8XbdPfx1LD6aEWkriL96ccDePxTWhRB3MfvzRwKwaSvV'},\n",
      "                         'type': ['VerifiableCredential']},\n",
      "             'dri': 'zQmewvvSb58UqbwEgt4qiai5UnH5iheqWjebU4nMzEXFLzi',\n",
      "             'timestamp': 1620393659581},\n",
      "            {'content': {'context': ['https://www.w3.org/2018/credentials/v1',\n",
      "                                     'https://www.schema.org'],\n",
      "                         'credentialSubject': {'oca_data_dri': 'zQmPS5qGRqyzCTXNhHa4wdr1oB8Efjk7xXpmmPe6s231wHK',\n",
      "                                               'oca_schema_dri': '9GdWoQwth9299oYj8HfdgRZjtSxW9sTVyy1RnfhQ35yA',\n",
      "                                               'oca_schema_namespace': 'string',\n",
      "                                               'service_consent_match_id': 'af1668e5-6b91-43ca-a70d-eefea19f1474',\n",
      "                                               'subject_id': 'JcsaprS8G2ACN7jrQYdQdb'},\n",
      "                         'issuanceDate': '2021-05-07 13:21:33.885935Z',\n",
      "                         'issuer': 'KPrFzPBnahcVcjR4pGdp8f',\n",
      "                         'proof': {'created': '2021-05-07 13:21:33.891295Z',\n",
      "                                   'jws': 'jVAm4AWG-SEUK8zaixY1r-HqQbOwQT-m7ZhOLtGlcrBfQ9Sejf2C51ufgB_44_25ddsgN5gqHWAMiAFFm9HzAw',\n",
      "                                   'proofPurpose': 'assertionMethod',\n",
      "                                   'type': 'Ed25519Signature2018',\n",
      "                                   'verificationMethod': '35VwXnPW85CexzfGuDvgCVW7PEJ2eer17dKiTy2gb843'},\n",
      "                         'type': ['VerifiableCredential']},\n",
      "             'dri': 'zQmX83YwQp2b5G7jW1ZH5U5CZA8fq2eHEwrAuFNyquh9aHh',\n",
      "             'timestamp': 1620393695138},\n",
      "            {'content': {'context': ['https://www.w3.org/2018/credentials/v1',\n",
      "                                     'https://www.schema.org'],\n",
      "                         'credentialSubject': {'oca_data_dri': 'zQmVz9wuH2kHkSWjVM3HESn9FW76heMbd1j2dxSjh4atqcX',\n",
      "                                               'oca_schema_dri': '9GdWoQwth9299oYj8HfdgRZjtSxW9sTVyy1RnfhQ35yA',\n",
      "                                               'oca_schema_namespace': 'string',\n",
      "                                               'service_consent_match_id': '4615f617-2d12-437e-9d15-34183977f6ba',\n",
      "                                               'subject_id': 'JcsaprS8G2ACN7jrQYdQdb'},\n",
      "                         'issuanceDate': '2021-05-07 13:22:44.557634Z',\n",
      "                         'issuer': 'KPrFzPBnahcVcjR4pGdp8f',\n",
      "                         'proof': {'created': '2021-05-07 13:22:44.563230Z',\n",
      "                                   'jws': '1YmY8efXi2OU-ju6nqNm8495YsITH2TDQjObqf5ylOIh-Or4CEGf3EaLFi4Ph94kq1_g4bJzMPScB7aHOC6ZDg',\n",
      "                                   'proofPurpose': 'assertionMethod',\n",
      "                                   'type': 'Ed25519Signature2018',\n",
      "                                   'verificationMethod': '7dWZPyNkwS8AEh76vSaGJosB7YhZsmBqUTSMUPJWs7gp'},\n",
      "                         'type': ['VerifiableCredential']},\n",
      "             'dri': 'zQmaQbTixPptkxBX4VLUGg2oKWbUNF2phKnHUBe94uxKnde',\n",
      "             'timestamp': 1620393765796},\n",
      "            {'content': {'context': ['https://www.w3.org/2018/credentials/v1',\n",
      "                                     'https://www.schema.org'],\n",
      "                         'credentialSubject': {'oca_data_dri': 'zQmeSowzFxZkTFXnJWTvVsd4KjiPWaKQxRdQPGXtnNxoAqT',\n",
      "                                               'oca_schema_dri': '9GdWoQwth9299oYj8HfdgRZjtSxW9sTVyy1RnfhQ35yA',\n",
      "                                               'oca_schema_namespace': 'string',\n",
      "                                               'service_consent_match_id': 'a18a8d21-cf4e-4deb-a849-2dafa4bcb7d6',\n",
      "                                               'subject_id': 'JcsaprS8G2ACN7jrQYdQdb'},\n",
      "                         'issuanceDate': '2021-05-07 13:26:25.481282Z',\n",
      "                         'issuer': 'KPrFzPBnahcVcjR4pGdp8f',\n",
      "                         'proof': {'created': '2021-05-07 13:26:25.487358Z',\n",
      "                                   'jws': 'WNNC27a8_uWVvBkeqRgirAis9LCyYhtvJLZJhNdD7kA4beVMIqslmBo2yeSahP53j8czcsGscIaztieCOmnzAA',\n",
      "                                   'proofPurpose': 'assertionMethod',\n",
      "                                   'type': 'Ed25519Signature2018',\n",
      "                                   'verificationMethod': '8THsqwgJr5DJH3SPSENgZCwv54J8VwrySXrn5WjVJ4rY'},\n",
      "                         'type': ['VerifiableCredential']},\n",
      "             'dri': 'zQmdmqF5tjaz9Uxkw7WYWYvgHLkMV7p3mN3juc6scFYbqPg',\n",
      "             'timestamp': 1620393986758},\n",
      "            {'content': {'context': ['https://www.w3.org/2018/credentials/v1',\n",
      "                                     'https://www.schema.org'],\n",
      "                         'credentialSubject': {'oca_data_dri': 'zQmTa2oTjULYYqedMzcJ6prvDFUHskQ6GMp6fjHdALtMude',\n",
      "                                               'oca_schema_dri': '9GdWoQwth9299oYj8HfdgRZjtSxW9sTVyy1RnfhQ35yA',\n",
      "                                               'oca_schema_namespace': 'string',\n",
      "                                               'service_consent_match_id': 'c617d769-f7ad-4088-a2e1-b05c1e0e7403',\n",
      "                                               'subject_id': 'JcsaprS8G2ACN7jrQYdQdb'},\n",
      "                         'issuanceDate': '2021-05-07 13:34:30.406388Z',\n",
      "                         'issuer': 'KPrFzPBnahcVcjR4pGdp8f',\n",
      "                         'proof': {'created': '2021-05-07 13:34:30.411399Z',\n",
      "                                   'jws': '_jutw-BnweeHNdzhfjPzPh6kX1DW5fgHn2mE8z5eFVic9SxQ_5byFeFADJFLVoV311hAhxrrYwAFOYt-4AhpCg',\n",
      "                                   'proofPurpose': 'assertionMethod',\n",
      "                                   'type': 'Ed25519Signature2018',\n",
      "                                   'verificationMethod': 'Hz7wWpZEEsiB8xoEg7v9SS2grtUUNRtVReRcJGeSva63'},\n",
      "                         'type': ['VerifiableCredential']},\n",
      "             'dri': 'zQmcySFKyt9s3mjDL9bQ6NosyzRJNb2RU8ZvuHcJPKKCvJS',\n",
      "             'timestamp': 1620394471639},\n",
      "            {'content': {'context': ['https://www.w3.org/2018/credentials/v1',\n",
      "                                     'https://www.schema.org'],\n",
      "                         'credentialSubject': {'oca_data_dri': 'zQma9dyntxdPxakxH1EighUMin6bc6cUNHADKVi4AcHDtVa',\n",
      "                                               'oca_schema_dri': '9GdWoQwth9299oYj8HfdgRZjtSxW9sTVyy1RnfhQ35yA',\n",
      "                                               'oca_schema_namespace': 'string',\n",
      "                                               'service_consent_match_id': 'e0c0b6d5-0def-48a7-8b8c-09714abada31',\n",
      "                                               'subject_id': 'JcsaprS8G2ACN7jrQYdQdb'},\n",
      "                         'issuanceDate': '2021-05-07 13:37:24.697891Z',\n",
      "                         'issuer': 'KPrFzPBnahcVcjR4pGdp8f',\n",
      "                         'proof': {'created': '2021-05-07 13:37:24.703189Z',\n",
      "                                   'jws': 'ch_6iIeCag7-qgx6uwYQ6s_7H7hdMuXdz9D_Mj34-ULX6bokiIbwPti8EKLSaqNBwWvY8G8MxbyJGJ8451RfAg',\n",
      "                                   'proofPurpose': 'assertionMethod',\n",
      "                                   'type': 'Ed25519Signature2018',\n",
      "                                   'verificationMethod': 'HfBneo3tDDRiv2V2kQ6MktXyLKzcuh6yheLTxxiTj9Pv'},\n",
      "                         'type': ['VerifiableCredential']},\n",
      "             'dri': 'zQmT4bA3Fbm9Hoxos1TAgmhyMoocVxDMgWiz5PeoTngAWPk',\n",
      "             'timestamp': 1620394646003},\n",
      "            {'content': {'context': ['https://www.w3.org/2018/credentials/v1',\n",
      "                                     'https://www.schema.org'],\n",
      "                         'credentialSubject': {'oca_data_dri': 'zQmaBUrmfMUrHy9Qxtc89mrPRR2BL4wHewJeAyfQjbequhn',\n",
      "                                               'oca_schema_dri': '9GdWoQwth9299oYj8HfdgRZjtSxW9sTVyy1RnfhQ35yA',\n",
      "                                               'oca_schema_namespace': 'string',\n",
      "                                               'service_consent_match_id': 'a84445f5-f491-40ae-bdfd-6291723e5df2',\n",
      "                                               'subject_id': 'JcsaprS8G2ACN7jrQYdQdb'},\n",
      "                         'issuanceDate': '2021-05-07 13:23:39.765110Z',\n",
      "                         'issuer': 'KPrFzPBnahcVcjR4pGdp8f',\n",
      "                         'proof': {'created': '2021-05-07 13:23:39.771358Z',\n",
      "                                   'jws': 'MIgOtzChlllFc1EkUC-ua1pGEiDo3Uy6hyXbbpJxAVrBT26NNwCHLguu5QkXYQu8_7XDn3ZLE-tuNvkpuMlaBw',\n",
      "                                   'proofPurpose': 'assertionMethod',\n",
      "                                   'type': 'Ed25519Signature2018',\n",
      "                                   'verificationMethod': '8tz3jQfXffYqKy9DZqjoWnVY8UeyeQh97gntcPTHxjV2'},\n",
      "                         'type': ['VerifiableCredential']},\n",
      "             'dri': 'zQmWee8KfsbedmsJfBsAjz1RLgPhsg2sU8HqZD8KjeKbYAd',\n",
      "             'timestamp': 1620393820975},\n",
      "            {'content': {'context': ['https://www.w3.org/2018/credentials/v1',\n",
      "                                     'https://www.schema.org'],\n",
      "                         'credentialSubject': {'oca_data_dri': 'zQmRuo1hSu1DzXwQFufrLasRy4XbLa4nkYSqSTS21U5RhDG',\n",
      "                                               'oca_schema_dri': '9GdWoQwth9299oYj8HfdgRZjtSxW9sTVyy1RnfhQ35yA',\n",
      "                                               'oca_schema_namespace': 'string',\n",
      "                                               'service_consent_match_id': '04c0899a-818d-437a-bf61-a17ccb51b5a0',\n",
      "                                               'subject_id': 'JcsaprS8G2ACN7jrQYdQdb'},\n",
      "                         'issuanceDate': '2021-05-07 13:23:54.598837Z',\n",
      "                         'issuer': 'KPrFzPBnahcVcjR4pGdp8f',\n",
      "                         'proof': {'created': '2021-05-07 13:23:54.604262Z',\n",
      "                                   'jws': '6Fen_XTTDYwZWGZfZc-CuxutBHd4tRvG43b9xeZXdjSoKQWk7ebXiL34MWM3ved6HZvaDGDi_cCF62n2qpnLCA',\n",
      "                                   'proofPurpose': 'assertionMethod',\n",
      "                                   'type': 'Ed25519Signature2018',\n",
      "                                   'verificationMethod': '6GCGED37xeVmMC3ohVCMLuS3KqkHwQj5fR5XKL3Q742w'},\n",
      "                         'type': ['VerifiableCredential']},\n",
      "             'dri': 'zQmQ7WUpjtVYJgKM95QdQR9WHTN2JiDNXpeCohFsMiaz4vV',\n",
      "             'timestamp': 1620393835889},\n",
      "            {'content': {'context': ['https://www.w3.org/2018/credentials/v1',\n",
      "                                     'https://www.schema.org'],\n",
      "                         'credentialSubject': {'oca_data_dri': 'zQmUkf3sfmDQLzfrkL7DGeEkRqUxBzbRM2Tmbwz4tjhKN2d',\n",
      "                                               'oca_schema_dri': '9GdWoQwth9299oYj8HfdgRZjtSxW9sTVyy1RnfhQ35yA',\n",
      "                                               'oca_schema_namespace': 'string',\n",
      "                                               'service_consent_match_id': '4fbc4956-b25f-49c8-a92b-4bcc68a2de39',\n",
      "                                               'subject_id': 'JcsaprS8G2ACN7jrQYdQdb'},\n",
      "                         'issuanceDate': '2021-05-07 13:24:25.150937Z',\n",
      "                         'issuer': 'KPrFzPBnahcVcjR4pGdp8f',\n",
      "                         'proof': {'created': '2021-05-07 13:24:25.156023Z',\n",
      "                                   'jws': 'Dc6gwhSp1YphTalmzPMqAH6mKi4EevyXo3RkjIIIdzKKiNbQIM9sqRHGaPVwIqaznz8RuTn3FPdMf6k0moVCBg',\n",
      "                                   'proofPurpose': 'assertionMethod',\n",
      "                                   'type': 'Ed25519Signature2018',\n",
      "                                   'verificationMethod': 'FwpfpoHjh6kPcYs8vtC5mv2gXgYmtzVoNVF3xVw7u7Ca'},\n",
      "                         'type': ['VerifiableCredential']},\n",
      "             'dri': 'zQmVhf8h55oQVsDpCkRDcwYXYzLfasDTBAbMzfRSiPuC1Ha',\n",
      "             'timestamp': 1620393866402}],\n",
      " 'success': True}\n"
     ]
    }
   ],
   "source": [
    "credentials = requests.get('http://localhost:8150/credentials')\n",
    "credentials = json.loads(credentials.text) \n",
    "pp.pprint(credentials)"
   ]
  },
  {
   "cell_type": "code",
   "execution_count": 19,
   "metadata": {
    "scrolled": true
   },
   "outputs": [
    {
     "name": "stdout",
     "output_type": "stream",
     "text": [
      "9GdWoQwth9299oYj8HfdgRZjtSxW9sTVyy1RnfhQ35yA\n"
     ]
    }
   ],
   "source": [
    "credential = credentials['result'][-2]['content']\n",
    "print(credential['credentialSubject']['oca_schema_dri'])"
   ]
  },
  {
   "cell_type": "code",
   "execution_count": 21,
   "metadata": {},
   "outputs": [
    {
     "data": {
      "text/plain": [
       "{'success': True,\n",
       " 'message': 'ack sent and exchange record updated',\n",
       " 'exchange_record_id': '15aeb748-8f94-48ee-9e66-799688f1ee85',\n",
       " 'ack_credential_dri': 'zQmWmrd596ea5woqUob9BGLnsgSZAUWxxZM2CkKyPMQrWqJ'}"
      ]
     },
     "execution_count": 21,
     "metadata": {},
     "output_type": "execute_result"
    }
   ],
   "source": [
    "request_proof = post(\n",
    "    8151,\n",
    "    \"/present-proof/request\",\n",
    "    {\n",
    "        \"connection_id\": connection[1],\n",
    "        \"schema_base_dri\": credential['credentialSubject']['oca_schema_dri'],\n",
    "        \"requested_attributes\": [\"address\"],\n",
    "        \"issuer_did\": \"123145\",\n",
    "    },\n",
    ")\n",
    "exchange_id_agent2 = request_proof[\"exchange_id\"]\n",
    "exchange_record = {\"result\": []}\n",
    "while exchange_record.get(\"result\") == []:\n",
    "    exchange_record = get(\n",
    "        8150,\n",
    "        f\"/present-proof/exchange/record?state=request_received\",\n",
    "    )\n",
    "\n",
    "# # FETCH CREDENTIALS (1)\n",
    "creds = get(8150, \"/credentials\")\n",
    "\n",
    "# # PRESENT PROOF (1)\n",
    "present = post(\n",
    "    8150,\n",
    "    \"/present-proof/present\",\n",
    "    {\n",
    "        \"credential_id\": creds[\"result\"][0][\"dri\"],\n",
    "        \"exchange_record_id\": exchange_record[\"result\"][0][\n",
    "            \"presentation_exchange_id\"\n",
    "        ],\n",
    "    },\n",
    ")\n",
    "\n",
    "exchange_record = get(\n",
    "    8151,\n",
    "    f\"/present-proof/exchange/record?connection_id={connection[1]}&thread_id={request_proof['thread_id']}\",\n",
    ")\n",
    "\n",
    "time.sleep(1)\n",
    "exchange_record = get(\n",
    "    8151,\n",
    "    f\"/present-proof/exchange/record?state=presentation_received\",\n",
    ")\n",
    "\n",
    "post(\n",
    "    8151,\n",
    "    f\"/present-proof/acknowledge?status=true&exchange_record_id={exchange_record['result'][0]['presentation_exchange_id']}&person_id=123fqef9yu\",\n",
    ")\n"
   ]
  },
  {
   "cell_type": "code",
   "execution_count": 23,
   "metadata": {},
   "outputs": [
    {
     "data": {
      "text/plain": [
       "{'exchange_id': 'ba598f43-3cf1-4e57-a837-a121995e2211'}"
      ]
     },
     "execution_count": 23,
     "metadata": {},
     "output_type": "execute_result"
    }
   ],
   "source": [
    "request_proof = post(\n",
    "    8151,\n",
    "    \"/present-proof/request\",\n",
    "    {\n",
    "        \"connection_id\": connection[1],\n",
    "        \"schema_base_dri\": credential['credentialSubject']['oca_schema_dri'],\n",
    "        \"requested_attributes\": [\"address\"],\n",
    "        \"issuer_did\": \"123145\",\n",
    "    },\n",
    ")\n",
    "exchange_id_agent2 = request_proof[\"exchange_id\"]\n",
    "exchange_record = {\"result\": []}\n",
    "while exchange_record.get(\"result\") == []:\n",
    "    exchange_record = get(\n",
    "        8150,\n",
    "        f\"/present-proof/exchange/record?state=request_received\")\n",
    "post(\n",
    "    8150,\n",
    "    \"/present-proof/reject\",\n",
    "    {\n",
    "        \"exchange_record_id\": exchange_record[\"result\"][0][\n",
    "            \"presentation_exchange_id\"\n",
    "        ],\n",
    "    },\n",
    ")"
   ]
  },
  {
   "cell_type": "code",
   "execution_count": null,
   "metadata": {},
   "outputs": [],
   "source": [
    "connection[0]"
   ]
  }
 ],
 "metadata": {
  "kernelspec": {
   "display_name": "Python 3",
   "language": "python",
   "name": "python3"
  },
  "language_info": {
   "codemirror_mode": {
    "name": "ipython",
    "version": 3
   },
   "file_extension": ".py",
   "mimetype": "text/x-python",
   "name": "python",
   "nbconvert_exporter": "python",
   "pygments_lexer": "ipython3",
   "version": "3.8.5"
  }
 },
 "nbformat": 4,
 "nbformat_minor": 4
}

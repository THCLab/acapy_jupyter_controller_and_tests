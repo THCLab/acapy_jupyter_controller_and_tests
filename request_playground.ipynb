{
 "cells": [
  {
   "cell_type": "code",
   "execution_count": 3,
   "metadata": {
    "scrolled": false
   },
   "outputs": [],
   "source": [
    "import requests\n",
    "import json\n",
    "import pprint\n",
    "from aiohttp import ClientSession, FormData\n",
    "import base58"
   ]
  },
  {
   "cell_type": "code",
   "execution_count": 2,
   "metadata": {
    "scrolled": true
   },
   "outputs": [
    {
     "name": "stdout",
     "output_type": "stream",
     "text": [
      "b'zQmWvQxTqbG2Z9HPJgG57jjwR154cKhbtJenbyYTWkjgF3e'\n",
      "<class 'bytes'>\n",
      "sha2-256\n"
     ]
    }
   ],
   "source": [
    ">>> import hashlib\n",
    ">>> import multihash\n",
    ">>> from multibase import encode, decode\n",
    ">>> m = hashlib.sha256()\n",
    ">>> m.update(b\"Hello World!\")\n",
    ">>> multi = multihash.encode(m.digest(), 'sha2-256')\n",
    ">>> mem = encode('base58btc', multi)\n",
    "print(mem)\n",
    "b'zQmWvQxTqbG2Z9HPJgG57jjwR154cKhbtJenbyYTWkjgF3e' \n",
    "print(type(mem))\n",
    "\n",
    "decode_base = decode(mem)\n",
    "decode_hash = multihash.decode(decode_base)\n",
    "hashed = decode_hash[3]\n",
    "algo = decode_hash[1]\n",
    "print(decode_hash[1])"
   ]
  },
  {
   "cell_type": "code",
   "execution_count": 8,
   "metadata": {},
   "outputs": [
    {
     "data": {
      "text/plain": [
       "139743949484224"
      ]
     },
     "execution_count": 8,
     "metadata": {},
     "output_type": "execute_result"
    }
   ],
   "source": [
    "id(m)"
   ]
  },
  {
   "cell_type": "code",
   "execution_count": 20,
   "metadata": {},
   "outputs": [
    {
     "name": "stdout",
     "output_type": "stream",
     "text": [
      "<class 'int'>\n",
      "{\"access_token\":\"hiHunSAlxwSiF_MIsCeKJ4oJaFcN3x2iXRLTiha4DcA\",\"token_type\":\"Bearer\",\"expires_in\":7200,\"created_at\":1606907441,\"username\":\"Karol\"}\n"
     ]
    }
   ],
   "source": [
    "async with ClientSession() as session:\n",
    "            result = await session.post(\"https://data-vault.eu/oauth/token\", json={\n",
    "                \"client_id\": \"8SX1-RBazhic9ftG4HyG2XegrQ2kdLGu0hd-Ty3IZnE\", \n",
    "                \"client_secret\": \"gEg9_tTh2V1ZK6piL9tZ38YO-1xqXLDXCccJS4uQUJg\",\n",
    "                \"grant_type\": \"client_credentials\"\n",
    "            })\n",
    "            print(type(result.status))\n",
    "            result = await result.text()\n",
    "            token = json.loads(result)\n",
    "            print(result)"
   ]
  },
  {
   "cell_type": "code",
   "execution_count": 7,
   "metadata": {},
   "outputs": [
    {
     "name": "stdout",
     "output_type": "stream",
     "text": [
      "{\"id\":1716575}\n"
     ]
    }
   ],
   "source": [
    "async with ClientSession() as session:\n",
    "    result = await session.post(\"https://data-vault.eu/api/repos/dip.data/items\", json={\n",
    "        \"test\": \"data\"\n",
    "    }, headers={\n",
    "        \"Authorization\": \"Bearer \" + token['access_token']\n",
    "    })\n",
    "\n",
    "    result = await result.text()\n",
    "    save = json.loads(result)\n",
    "    print(result)"
   ]
  },
  {
   "cell_type": "code",
   "execution_count": 25,
   "metadata": {},
   "outputs": [
    {
     "ename": "ClientConnectorError",
     "evalue": "Cannot connect to host data-vault.eu:443 ssl:default [Connect call failed ('45.157.176.15', 443)]",
     "output_type": "error",
     "traceback": [
      "\u001b[0;31m---------------------------------------------------------------------------\u001b[0m",
      "\u001b[0;31mOSError\u001b[0m                                   Traceback (most recent call last)",
      "\u001b[0;32m~/.local/lib/python3.7/site-packages/aiohttp/connector.py\u001b[0m in \u001b[0;36m_wrap_create_connection\u001b[0;34m(self, req, timeout, client_error, *args, **kwargs)\u001b[0m\n\u001b[1;32m    935\u001b[0m             \u001b[0;32mwith\u001b[0m \u001b[0mCeilTimeout\u001b[0m\u001b[0;34m(\u001b[0m\u001b[0mtimeout\u001b[0m\u001b[0;34m.\u001b[0m\u001b[0msock_connect\u001b[0m\u001b[0;34m)\u001b[0m\u001b[0;34m:\u001b[0m\u001b[0;34m\u001b[0m\u001b[0;34m\u001b[0m\u001b[0m\n\u001b[0;32m--> 936\u001b[0;31m                 \u001b[0;32mreturn\u001b[0m \u001b[0;32mawait\u001b[0m \u001b[0mself\u001b[0m\u001b[0;34m.\u001b[0m\u001b[0m_loop\u001b[0m\u001b[0;34m.\u001b[0m\u001b[0mcreate_connection\u001b[0m\u001b[0;34m(\u001b[0m\u001b[0;34m*\u001b[0m\u001b[0margs\u001b[0m\u001b[0;34m,\u001b[0m \u001b[0;34m**\u001b[0m\u001b[0mkwargs\u001b[0m\u001b[0;34m)\u001b[0m  \u001b[0;31m# type: ignore  # noqa\u001b[0m\u001b[0;34m\u001b[0m\u001b[0;34m\u001b[0m\u001b[0m\n\u001b[0m\u001b[1;32m    937\u001b[0m         \u001b[0;32mexcept\u001b[0m \u001b[0mcert_errors\u001b[0m \u001b[0;32mas\u001b[0m \u001b[0mexc\u001b[0m\u001b[0;34m:\u001b[0m\u001b[0;34m\u001b[0m\u001b[0;34m\u001b[0m\u001b[0m\n",
      "\u001b[0;32m/usr/lib/python3.7/asyncio/base_events.py\u001b[0m in \u001b[0;36mcreate_connection\u001b[0;34m(self, protocol_factory, host, port, ssl, family, proto, flags, sock, local_addr, server_hostname, ssl_handshake_timeout)\u001b[0m\n\u001b[1;32m    953\u001b[0m                 \u001b[0;32mif\u001b[0m \u001b[0mlen\u001b[0m\u001b[0;34m(\u001b[0m\u001b[0mexceptions\u001b[0m\u001b[0;34m)\u001b[0m \u001b[0;34m==\u001b[0m \u001b[0;36m1\u001b[0m\u001b[0;34m:\u001b[0m\u001b[0;34m\u001b[0m\u001b[0;34m\u001b[0m\u001b[0m\n\u001b[0;32m--> 954\u001b[0;31m                     \u001b[0;32mraise\u001b[0m \u001b[0mexceptions\u001b[0m\u001b[0;34m[\u001b[0m\u001b[0;36m0\u001b[0m\u001b[0;34m]\u001b[0m\u001b[0;34m\u001b[0m\u001b[0;34m\u001b[0m\u001b[0m\n\u001b[0m\u001b[1;32m    955\u001b[0m                 \u001b[0;32melse\u001b[0m\u001b[0;34m:\u001b[0m\u001b[0;34m\u001b[0m\u001b[0;34m\u001b[0m\u001b[0m\n",
      "\u001b[0;32m/usr/lib/python3.7/asyncio/base_events.py\u001b[0m in \u001b[0;36mcreate_connection\u001b[0;34m(self, protocol_factory, host, port, ssl, family, proto, flags, sock, local_addr, server_hostname, ssl_handshake_timeout)\u001b[0m\n\u001b[1;32m    940\u001b[0m                         \u001b[0mlogger\u001b[0m\u001b[0;34m.\u001b[0m\u001b[0mdebug\u001b[0m\u001b[0;34m(\u001b[0m\u001b[0;34m\"connect %r to %r\"\u001b[0m\u001b[0;34m,\u001b[0m \u001b[0msock\u001b[0m\u001b[0;34m,\u001b[0m \u001b[0maddress\u001b[0m\u001b[0;34m)\u001b[0m\u001b[0;34m\u001b[0m\u001b[0;34m\u001b[0m\u001b[0m\n\u001b[0;32m--> 941\u001b[0;31m                     \u001b[0;32mawait\u001b[0m \u001b[0mself\u001b[0m\u001b[0;34m.\u001b[0m\u001b[0msock_connect\u001b[0m\u001b[0;34m(\u001b[0m\u001b[0msock\u001b[0m\u001b[0;34m,\u001b[0m \u001b[0maddress\u001b[0m\u001b[0;34m)\u001b[0m\u001b[0;34m\u001b[0m\u001b[0;34m\u001b[0m\u001b[0m\n\u001b[0m\u001b[1;32m    942\u001b[0m                 \u001b[0;32mexcept\u001b[0m \u001b[0mOSError\u001b[0m \u001b[0;32mas\u001b[0m \u001b[0mexc\u001b[0m\u001b[0;34m:\u001b[0m\u001b[0;34m\u001b[0m\u001b[0;34m\u001b[0m\u001b[0m\n",
      "\u001b[0;32m/usr/lib/python3.7/asyncio/selector_events.py\u001b[0m in \u001b[0;36msock_connect\u001b[0;34m(self, sock, address)\u001b[0m\n\u001b[1;32m    463\u001b[0m         \u001b[0mself\u001b[0m\u001b[0;34m.\u001b[0m\u001b[0m_sock_connect\u001b[0m\u001b[0;34m(\u001b[0m\u001b[0mfut\u001b[0m\u001b[0;34m,\u001b[0m \u001b[0msock\u001b[0m\u001b[0;34m,\u001b[0m \u001b[0maddress\u001b[0m\u001b[0;34m)\u001b[0m\u001b[0;34m\u001b[0m\u001b[0;34m\u001b[0m\u001b[0m\n\u001b[0;32m--> 464\u001b[0;31m         \u001b[0;32mreturn\u001b[0m \u001b[0;32mawait\u001b[0m \u001b[0mfut\u001b[0m\u001b[0;34m\u001b[0m\u001b[0;34m\u001b[0m\u001b[0m\n\u001b[0m\u001b[1;32m    465\u001b[0m \u001b[0;34m\u001b[0m\u001b[0m\n",
      "\u001b[0;32m/usr/lib/python3.7/asyncio/selector_events.py\u001b[0m in \u001b[0;36m_sock_connect_cb\u001b[0;34m(self, fut, sock, address)\u001b[0m\n\u001b[1;32m    493\u001b[0m                 \u001b[0;31m# Jump to any except clause below.\u001b[0m\u001b[0;34m\u001b[0m\u001b[0;34m\u001b[0m\u001b[0;34m\u001b[0m\u001b[0m\n\u001b[0;32m--> 494\u001b[0;31m                 \u001b[0;32mraise\u001b[0m \u001b[0mOSError\u001b[0m\u001b[0;34m(\u001b[0m\u001b[0merr\u001b[0m\u001b[0;34m,\u001b[0m \u001b[0;34mf'Connect call failed {address}'\u001b[0m\u001b[0;34m)\u001b[0m\u001b[0;34m\u001b[0m\u001b[0;34m\u001b[0m\u001b[0m\n\u001b[0m\u001b[1;32m    495\u001b[0m         \u001b[0;32mexcept\u001b[0m \u001b[0;34m(\u001b[0m\u001b[0mBlockingIOError\u001b[0m\u001b[0;34m,\u001b[0m \u001b[0mInterruptedError\u001b[0m\u001b[0;34m)\u001b[0m\u001b[0;34m:\u001b[0m\u001b[0;34m\u001b[0m\u001b[0;34m\u001b[0m\u001b[0m\n",
      "\u001b[0;31mOSError\u001b[0m: [Errno 101] Connect call failed ('45.157.176.15', 443)",
      "\nThe above exception was the direct cause of the following exception:\n",
      "\u001b[0;31mClientConnectorError\u001b[0m                      Traceback (most recent call last)",
      "\u001b[0;32m<ipython-input-25-43c70dba00d1>\u001b[0m in \u001b[0;36masync-def-wrapper\u001b[0;34m()\u001b[0m\n\u001b[1;32m      4\u001b[0m     })\n\u001b[1;32m      5\u001b[0m \u001b[0;34m\u001b[0m\u001b[0m\n\u001b[0;32m----> 6\u001b[0;31m     \u001b[0mresult\u001b[0m \u001b[0;34m=\u001b[0m \u001b[0;32mawait\u001b[0m \u001b[0mresult\u001b[0m\u001b[0;34m.\u001b[0m\u001b[0mtext\u001b[0m\u001b[0;34m(\u001b[0m\u001b[0;34m)\u001b[0m\u001b[0;34m\u001b[0m\u001b[0;34m\u001b[0m\u001b[0m\n\u001b[0m\u001b[1;32m      7\u001b[0m     \u001b[0mprint\u001b[0m\u001b[0;34m(\u001b[0m\u001b[0mresult\u001b[0m\u001b[0;34m)\u001b[0m\u001b[0;34m\u001b[0m\u001b[0;34m\u001b[0m\u001b[0m\n",
      "\u001b[0;32m~/.local/lib/python3.7/site-packages/aiohttp/client.py\u001b[0m in \u001b[0;36m_request\u001b[0;34m(self, method, str_or_url, params, data, json, cookies, headers, skip_auto_headers, auth, allow_redirects, max_redirects, compress, chunked, expect100, raise_for_status, read_until_eof, proxy, proxy_auth, timeout, verify_ssl, fingerprint, ssl_context, ssl, proxy_headers, trace_request_ctx)\u001b[0m\n\u001b[1;32m    481\u001b[0m                                 \u001b[0mreq\u001b[0m\u001b[0;34m,\u001b[0m\u001b[0;34m\u001b[0m\u001b[0;34m\u001b[0m\u001b[0m\n\u001b[1;32m    482\u001b[0m                                 \u001b[0mtraces\u001b[0m\u001b[0;34m=\u001b[0m\u001b[0mtraces\u001b[0m\u001b[0;34m,\u001b[0m\u001b[0;34m\u001b[0m\u001b[0;34m\u001b[0m\u001b[0m\n\u001b[0;32m--> 483\u001b[0;31m                                 \u001b[0mtimeout\u001b[0m\u001b[0;34m=\u001b[0m\u001b[0mreal_timeout\u001b[0m\u001b[0;34m\u001b[0m\u001b[0;34m\u001b[0m\u001b[0m\n\u001b[0m\u001b[1;32m    484\u001b[0m                             )\n\u001b[1;32m    485\u001b[0m                     \u001b[0;32mexcept\u001b[0m \u001b[0masyncio\u001b[0m\u001b[0;34m.\u001b[0m\u001b[0mTimeoutError\u001b[0m \u001b[0;32mas\u001b[0m \u001b[0mexc\u001b[0m\u001b[0;34m:\u001b[0m\u001b[0;34m\u001b[0m\u001b[0;34m\u001b[0m\u001b[0m\n",
      "\u001b[0;32m~/.local/lib/python3.7/site-packages/aiohttp/connector.py\u001b[0m in \u001b[0;36mconnect\u001b[0;34m(self, req, traces, timeout)\u001b[0m\n\u001b[1;32m    521\u001b[0m \u001b[0;34m\u001b[0m\u001b[0m\n\u001b[1;32m    522\u001b[0m             \u001b[0;32mtry\u001b[0m\u001b[0;34m:\u001b[0m\u001b[0;34m\u001b[0m\u001b[0;34m\u001b[0m\u001b[0m\n\u001b[0;32m--> 523\u001b[0;31m                 \u001b[0mproto\u001b[0m \u001b[0;34m=\u001b[0m \u001b[0;32mawait\u001b[0m \u001b[0mself\u001b[0m\u001b[0;34m.\u001b[0m\u001b[0m_create_connection\u001b[0m\u001b[0;34m(\u001b[0m\u001b[0mreq\u001b[0m\u001b[0;34m,\u001b[0m \u001b[0mtraces\u001b[0m\u001b[0;34m,\u001b[0m \u001b[0mtimeout\u001b[0m\u001b[0;34m)\u001b[0m\u001b[0;34m\u001b[0m\u001b[0;34m\u001b[0m\u001b[0m\n\u001b[0m\u001b[1;32m    524\u001b[0m                 \u001b[0;32mif\u001b[0m \u001b[0mself\u001b[0m\u001b[0;34m.\u001b[0m\u001b[0m_closed\u001b[0m\u001b[0;34m:\u001b[0m\u001b[0;34m\u001b[0m\u001b[0;34m\u001b[0m\u001b[0m\n\u001b[1;32m    525\u001b[0m                     \u001b[0mproto\u001b[0m\u001b[0;34m.\u001b[0m\u001b[0mclose\u001b[0m\u001b[0;34m(\u001b[0m\u001b[0;34m)\u001b[0m\u001b[0;34m\u001b[0m\u001b[0;34m\u001b[0m\u001b[0m\n",
      "\u001b[0;32m~/.local/lib/python3.7/site-packages/aiohttp/connector.py\u001b[0m in \u001b[0;36m_create_connection\u001b[0;34m(self, req, traces, timeout)\u001b[0m\n\u001b[1;32m    857\u001b[0m         \u001b[0;32melse\u001b[0m\u001b[0;34m:\u001b[0m\u001b[0;34m\u001b[0m\u001b[0;34m\u001b[0m\u001b[0m\n\u001b[1;32m    858\u001b[0m             _, proto = await self._create_direct_connection(\n\u001b[0;32m--> 859\u001b[0;31m                 req, traces, timeout)\n\u001b[0m\u001b[1;32m    860\u001b[0m \u001b[0;34m\u001b[0m\u001b[0m\n\u001b[1;32m    861\u001b[0m         \u001b[0;32mreturn\u001b[0m \u001b[0mproto\u001b[0m\u001b[0;34m\u001b[0m\u001b[0;34m\u001b[0m\u001b[0m\n",
      "\u001b[0;32m~/.local/lib/python3.7/site-packages/aiohttp/connector.py\u001b[0m in \u001b[0;36m_create_direct_connection\u001b[0;34m(self, req, traces, timeout, client_error)\u001b[0m\n\u001b[1;32m   1002\u001b[0m         \u001b[0;32melse\u001b[0m\u001b[0;34m:\u001b[0m\u001b[0;34m\u001b[0m\u001b[0;34m\u001b[0m\u001b[0m\n\u001b[1;32m   1003\u001b[0m             \u001b[0;32massert\u001b[0m \u001b[0mlast_exc\u001b[0m \u001b[0;32mis\u001b[0m \u001b[0;32mnot\u001b[0m \u001b[0;32mNone\u001b[0m\u001b[0;34m\u001b[0m\u001b[0;34m\u001b[0m\u001b[0m\n\u001b[0;32m-> 1004\u001b[0;31m             \u001b[0;32mraise\u001b[0m \u001b[0mlast_exc\u001b[0m\u001b[0;34m\u001b[0m\u001b[0;34m\u001b[0m\u001b[0m\n\u001b[0m\u001b[1;32m   1005\u001b[0m \u001b[0;34m\u001b[0m\u001b[0m\n\u001b[1;32m   1006\u001b[0m     async def _create_proxy_connection(\n",
      "\u001b[0;32m~/.local/lib/python3.7/site-packages/aiohttp/connector.py\u001b[0m in \u001b[0;36m_create_direct_connection\u001b[0;34m(self, req, traces, timeout, client_error)\u001b[0m\n\u001b[1;32m    984\u001b[0m                     \u001b[0mserver_hostname\u001b[0m\u001b[0;34m=\u001b[0m\u001b[0mhinfo\u001b[0m\u001b[0;34m[\u001b[0m\u001b[0;34m'hostname'\u001b[0m\u001b[0;34m]\u001b[0m \u001b[0;32mif\u001b[0m \u001b[0msslcontext\u001b[0m \u001b[0;32melse\u001b[0m \u001b[0;32mNone\u001b[0m\u001b[0;34m,\u001b[0m\u001b[0;34m\u001b[0m\u001b[0;34m\u001b[0m\u001b[0m\n\u001b[1;32m    985\u001b[0m                     \u001b[0mlocal_addr\u001b[0m\u001b[0;34m=\u001b[0m\u001b[0mself\u001b[0m\u001b[0;34m.\u001b[0m\u001b[0m_local_addr\u001b[0m\u001b[0;34m,\u001b[0m\u001b[0;34m\u001b[0m\u001b[0;34m\u001b[0m\u001b[0m\n\u001b[0;32m--> 986\u001b[0;31m                     req=req, client_error=client_error)\n\u001b[0m\u001b[1;32m    987\u001b[0m             \u001b[0;32mexcept\u001b[0m \u001b[0mClientConnectorError\u001b[0m \u001b[0;32mas\u001b[0m \u001b[0mexc\u001b[0m\u001b[0;34m:\u001b[0m\u001b[0;34m\u001b[0m\u001b[0;34m\u001b[0m\u001b[0m\n\u001b[1;32m    988\u001b[0m                 \u001b[0mlast_exc\u001b[0m \u001b[0;34m=\u001b[0m \u001b[0mexc\u001b[0m\u001b[0;34m\u001b[0m\u001b[0;34m\u001b[0m\u001b[0m\n",
      "\u001b[0;32m~/.local/lib/python3.7/site-packages/aiohttp/connector.py\u001b[0m in \u001b[0;36m_wrap_create_connection\u001b[0;34m(self, req, timeout, client_error, *args, **kwargs)\u001b[0m\n\u001b[1;32m    941\u001b[0m             \u001b[0;32mraise\u001b[0m \u001b[0mClientConnectorSSLError\u001b[0m\u001b[0;34m(\u001b[0m\u001b[0mreq\u001b[0m\u001b[0;34m.\u001b[0m\u001b[0mconnection_key\u001b[0m\u001b[0;34m,\u001b[0m \u001b[0mexc\u001b[0m\u001b[0;34m)\u001b[0m \u001b[0;32mfrom\u001b[0m \u001b[0mexc\u001b[0m\u001b[0;34m\u001b[0m\u001b[0;34m\u001b[0m\u001b[0m\n\u001b[1;32m    942\u001b[0m         \u001b[0;32mexcept\u001b[0m \u001b[0mOSError\u001b[0m \u001b[0;32mas\u001b[0m \u001b[0mexc\u001b[0m\u001b[0;34m:\u001b[0m\u001b[0;34m\u001b[0m\u001b[0;34m\u001b[0m\u001b[0m\n\u001b[0;32m--> 943\u001b[0;31m             \u001b[0;32mraise\u001b[0m \u001b[0mclient_error\u001b[0m\u001b[0;34m(\u001b[0m\u001b[0mreq\u001b[0m\u001b[0;34m.\u001b[0m\u001b[0mconnection_key\u001b[0m\u001b[0;34m,\u001b[0m \u001b[0mexc\u001b[0m\u001b[0;34m)\u001b[0m \u001b[0;32mfrom\u001b[0m \u001b[0mexc\u001b[0m\u001b[0;34m\u001b[0m\u001b[0;34m\u001b[0m\u001b[0m\n\u001b[0m\u001b[1;32m    944\u001b[0m \u001b[0;34m\u001b[0m\u001b[0m\n\u001b[1;32m    945\u001b[0m     async def _create_direct_connection(\n",
      "\u001b[0;31mClientConnectorError\u001b[0m: Cannot connect to host data-vault.eu:443 ssl:default [Connect call failed ('45.157.176.15', 443)]"
     ]
    }
   ],
   "source": [
    "async with ClientSession() as session:\n",
    "    result = await session.get(\"https://data-vault.eu/api/meta/usage\", headers={\n",
    "        \"Authorization\": \"Bearer \" + token['access_token']\n",
    "    })\n",
    "    \n",
    "    result = await result.text()\n",
    "    print(result)\n"
   ]
  },
  {
   "cell_type": "code",
   "execution_count": 8,
   "metadata": {
    "scrolled": true
   },
   "outputs": [
    {
     "name": "stdout",
     "output_type": "stream",
     "text": [
      "https://data-vault.eu/api/items/1716575/details\n",
      "{\"id\":1716575,\"repo_id\":5785,\"merkle_id\":null,\"value\":\"{\\\"test\\\":\\\"data\\\",\\\"id\\\":1716575}\",\"oyd_hash\":null,\"created_at\":\"2020-12-02T10:54:23.640Z\",\"updated_at\":\"2020-12-02T10:54:23.676Z\",\"oyd_source_pile_id\":null,\"dri\":null,\"schema_dri\":null,\"mime_type\":null,\"repo_name\":\"dip.data\",\"access_count\":18}\n"
     ]
    }
   ],
   "source": [
    "url = \"https://data-vault.eu/api/items/\"+str(save[\"id\"])+\"/details\"\n",
    "print(url)\n",
    "async with ClientSession() as session:\n",
    "            result = await session.get(url, headers={\n",
    "                \"Authorization\": \"Bearer \" + token['access_token']\n",
    "            })\n",
    "            result = await result.text()\n",
    "            load = json.loads(result)\n",
    "            print(result)"
   ]
  },
  {
   "cell_type": "code",
   "execution_count": 9,
   "metadata": {},
   "outputs": [
    {
     "name": "stdout",
     "output_type": "stream",
     "text": [
      "{\"item_id\":1716575}\n"
     ]
    }
   ],
   "source": [
    "url = \"https://data-vault.eu/api/repos/dip.data/items/\" + str(load['id'])\n",
    "async with ClientSession() as session:\n",
    "            result = await session.put(url, json={\n",
    "                \"change\": \"data\"\n",
    "            }, headers={\n",
    "                \"Authorization\": \"Bearer \" + token['access_token']\n",
    "            })\n",
    "            \n",
    "            result = await result.text()\n",
    "            update = json.loads(result)\n",
    "            print(result)"
   ]
  },
  {
   "cell_type": "code",
   "execution_count": 10,
   "metadata": {},
   "outputs": [
    {
     "name": "stdout",
     "output_type": "stream",
     "text": [
      "https://data-vault.eu/api/items/1716575/details\n",
      "{\"id\":1716575,\"repo_id\":5785,\"merkle_id\":null,\"value\":\"{\\\"change\\\":\\\"data\\\",\\\"id\\\":\\\"1716575\\\"}\",\"oyd_hash\":null,\"created_at\":\"2020-12-02T10:54:23.640Z\",\"updated_at\":\"2020-12-02T10:54:46.904Z\",\"oyd_source_pile_id\":null,\"dri\":null,\"schema_dri\":null,\"mime_type\":null,\"repo_name\":\"dip.data\",\"access_count\":20}\n"
     ]
    }
   ],
   "source": [
    "url = \"https://data-vault.eu/api/items/\"+str(update['item_id'])+\"/details\"\n",
    "print(url)\n",
    "async with ClientSession() as session:\n",
    "            result = await session.get(url, headers={\n",
    "                \"Authorization\": \"Bearer \" + token['access_token']\n",
    "            })\n",
    "            result = await result.text()\n",
    "            load = json.loads(result)\n",
    "            print(result)\n",
    "\n",
    "dri_value = 262462624234\n",
    "dri_schema_value = 1616442423"
   ]
  },
  {
   "cell_type": "code",
   "execution_count": 12,
   "metadata": {
    "scrolled": true
   },
   "outputs": [
    {
     "name": "stdout",
     "output_type": "stream",
     "text": [
      "https://data-vault.eu/api/data\n",
      "{\"processed\":1,\"responses\":[{\"id\":1625181,\"status\":200}]}\n"
     ]
    }
   ],
   "source": [
    "url = \"https://data-vault.eu/api/data\"\n",
    "print(url)\n",
    "async with ClientSession() as session:\n",
    "            result = await session.post(url, headers={\n",
    "                \"Authorization\": \"Bearer \" + token['access_token']\n",
    "            }, json={\n",
    "              \"content\": {\"abs\": \"test asdasd\"},\n",
    "              \"dri\": dri_value,\n",
    "              \"schema_dri\": dri_schema_value,\n",
    "              \"mime_type\": \"application/json\",\n",
    "              \"table_name\": \"dip.dataa\"\n",
    "            })\n",
    "            result = await result.text()\n",
    "            load = json.loads(result)\n",
    "            print(result)"
   ]
  },
  {
   "cell_type": "code",
   "execution_count": 13,
   "metadata": {},
   "outputs": [
    {
     "name": "stdout",
     "output_type": "stream",
     "text": [
      "{\"data\":[{\"content\":{\"content\":{\"abs\":\"test asdasd\"}},\"id\":1625181,\"dri\":\"262462624234\",\"schema_dri\":\"1616442423\"}],\"usage-policy\":\"\\u003chttp://w3id.org/semcon/ns/ontology#ContainerPolicy\\u003e a \\u003chttp://www.w3.org/2002/07/owl#Class\\u003e;\\n    \\u003chttp://www.w3.org/2002/07/owl#equivalentClass\\u003e [\\n    a \\u003chttp://www.w3.org/2002/07/owl#Class\\u003e;\\n    \\u003chttp://www.w3.org/2002/07/owl#intersectionOf\\u003e ([\\n    a \\u003chttp://www.w3.org/2002/07/owl#Restriction\\u003e;\\n    \\u003chttp://www.w3.org/2002/07/owl#onProperty\\u003e \\u003chttp://www.specialprivacy.eu/langs/usage-policy#hasData\\u003e;\\n    \\u003chttp://www.w3.org/2002/07/owl#someValuesFrom\\u003e \\u003chttp://www.specialprivacy.eu/langs/usage-policy#AnyData\\u003e\\n    ] [\\n    a \\u003chttp://www.w3.org/2002/07/owl#Restriction\\u003e;\\n    \\u003chttp://www.w3.org/2002/07/owl#onProperty\\u003e \\u003chttp://www.specialprivacy.eu/langs/usage-policy#hasProcessing\\u003e;\\n    \\u003chttp://www.w3.org/2002/07/owl#someValuesFrom\\u003e \\u003chttp://www.specialprivacy.eu/langs/usage-policy#AnyProcessing\\u003e\\n    ] [\\n    a \\u003chttp://www.w3.org/2002/07/owl#Restriction\\u003e;\\n    \\u003chttp://www.w3.org/2002/07/owl#onProperty\\u003e \\u003chttp://www.specialprivacy.eu/langs/usage-policy#hasPurpose\\u003e;\\n    \\u003chttp://www.w3.org/2002/07/owl#someValuesFrom\\u003e \\u003chttp://www.specialprivacy.eu/langs/usage-policy#AnyPurpose\\u003e\\n    ] [\\n    a \\u003chttp://www.w3.org/2002/07/owl#Restriction\\u003e;\\n    \\u003chttp://www.w3.org/2002/07/owl#onProperty\\u003e \\u003chttp://www.specialprivacy.eu/langs/usage-policy#hasRecipient\\u003e;\\n    \\u003chttp://www.w3.org/2002/07/owl#someValuesFrom\\u003e \\u003chttp://www.specialprivacy.eu/langs/usage-policy#AnyRecipient\\u003e\\n    ] [\\n    a \\u003chttp://www.w3.org/2002/07/owl#Restriction\\u003e;\\n    \\u003chttp://www.w3.org/2002/07/owl#intersectionOf\\u003e ([\\n    a \\u003chttp://www.w3.org/2002/07/owl#Restriction\\u003e;\\n    \\u003chttp://www.w3.org/2002/07/owl#onProperty\\u003e \\u003chttp://www.specialprivacy.eu/langs/usage-policy#hasLocation\\u003e;\\n    \\u003chttp://www.w3.org/2002/07/owl#someValuesFrom\\u003e \\u003chttp://www.specialprivacy.eu/langs/usage-policy#AnyLocation\\u003e\\n    ] [\\n    a \\u003chttp://www.w3.org/2002/07/owl#Restriction\\u003e;\\n    \\u003chttp://www.w3.org/2002/07/owl#onProperty\\u003e \\u003chttp://www.specialprivacy.eu/langs/usage-policy#hasDuration\\u003e;\\n    \\u003chttp://www.w3.org/2002/07/owl#someValuesFrom\\u003e \\u003chttp://www.specialprivacy.eu/langs/usage-policy#AnyDuration\\u003e\\n    ]);\\n    \\u003chttp://www.w3.org/2002/07/owl#onProperty\\u003e \\u003chttp://www.specialprivacy.eu/langs/usage-policy#hasStorage\\u003e\\n    ])\\n    ] .\"}\n"
     ]
    }
   ],
   "source": [
    "url = f\"https://data-vault.eu/api/data?dri={dri_value}&schema_dri={dri_schema_value}\"\n",
    "async with ClientSession() as session:\n",
    "            result = await session.get(url, headers={\n",
    "                \"Authorization\": \"Bearer \" + token['access_token']\n",
    "            })\n",
    "            result = await result.text()\n",
    "            load = json.loads(result)\n",
    "            print(result)"
   ]
  },
  {
   "cell_type": "code",
   "execution_count": 6,
   "metadata": {
    "scrolled": false
   },
   "outputs": [
    {
     "name": "stdout",
     "output_type": "stream",
     "text": [
      "<class 'int'>\n",
      "{\"access_token\":\"Je1IQTiam_K-6-9KzTus38xWUR2TViHpa4t3IMBDmmU\",\"token_type\":\"Bearer\",\"expires_in\":7200,\"created_at\":1606899999,\"username\":\"Karol\"}\n",
      "{\"id\":1716489}\n"
     ]
    }
   ],
   "source": [
    "\n",
    "            \n",
    "\n",
    "\n",
    "\n",
    "            \n",
    "            \n",
    "\n",
    "            \n",
    "\n",
    "\n",
    "\n",
    "            \n",
    "            \n",
    "\n",
    "            \n",
    "\n",
    "            \n",
    "# url = \"https://data-vault.eu/api/repos/dip.data/items\"\n",
    "# async with ClientSession() as session:\n",
    "#     result = await session.get(url, headers={\"Authorization\": \"Bearer \" + token['access_token']})\n",
    "#     result = await result.text()\n",
    "#     update = json.loads(result)\n",
    "#     print(result)            \n",
    "            \n",
    "            \n"
   ]
  },
  {
   "cell_type": "code",
   "execution_count": 5,
   "metadata": {},
   "outputs": [
    {
     "name": "stdout",
     "output_type": "stream",
     "text": [
      "{\"id\":1610004,\"repo_id\":5785,\"merkle_id\":null,\"value\":\"{\\\"test\\\":\\\"data\\\",\\\"id\\\":1610004}\",\"oyd_hash\":null,\"created_at\":\"2020-10-02T12:53:05.392Z\",\"updated_at\":\"2020-10-02T12:53:05.418Z\",\"oyd_source_pile_id\":null,\"dri\":null,\"schema_dri\":null,\"mime_type\":null,\"repo_name\":\"dip.data\",\"access_count\":18}\n"
     ]
    }
   ],
   "source": [
    "async with ClientSession() as session:\n",
    "            result = await session.get(\"https://data-vault.eu/api/items/1610004/details\", headers={\n",
    "                \"Authorization\": \"Bearer \" + token['access_token']\n",
    "            })\n",
    "            result = await result.text()\n",
    "            load = json.loads(result)\n",
    "            print(result)"
   ]
  },
  {
   "cell_type": "code",
   "execution_count": 4,
   "metadata": {},
   "outputs": [
    {
     "name": "stdout",
     "output_type": "stream",
     "text": [
      "{\"record_dri\":\"zQmRBXgMkjh1Vw9MB3XZt3cHDRxmX15b7xmHLsVFcjZv8th\",\"content_dri\":\"zQmNmDadhKMDtF1C8nJBwxzync5RytDBJruo9rQ2mgKnQMj\"}\n"
     ]
    }
   ],
   "source": [
    "\n",
    "url = 'http://data-vault.localhost/api/v1/files'\n",
    "data = FormData()\n",
    "data.add_field('file',\n",
    "               \"memes\",\n",
    "               filename='abba',\n",
    "               content_type='application/json')\n",
    "\n",
    "async with ClientSession() as session:\n",
    "    resp = await session.post(url=url, data=data)\n",
    "    print(await resp.text())"
   ]
  },
  {
   "cell_type": "code",
   "execution_count": 8,
   "metadata": {
    "scrolled": false
   },
   "outputs": [
    {
     "name": "stdout",
     "output_type": "stream",
     "text": [
      "<Response [200]>\n",
      "{\"record_dri\":\"zQmcXWdhiJSaWg25mXKPTZAp4EAt7SjfEPAjKdjSDUXfDXn\",\"content_dri\":\"zQmVAxg5Ncz6C8zjx4bab7uQB2W8AGqkAVcRAi2VceQN6Cc\"}\n"
     ]
    }
   ],
   "source": [
    "add = requests.post('http://data-vault.localhost/api/v1/files', files = {\n",
    "    'file': ('test_file', 'test_test_yes')\n",
    "})\n",
    "print(add)\n",
    "print(add.text)\n",
    "ids = json.loads(add.text)"
   ]
  },
  {
   "cell_type": "code",
   "execution_count": 9,
   "metadata": {
    "scrolled": true
   },
   "outputs": [
    {
     "name": "stdout",
     "output_type": "stream",
     "text": [
      "test_test_yes\n"
     ]
    }
   ],
   "source": [
    "get = requests.get('http://data-vault.localhost/api/v1/files/' + ids['content_dri'])\n",
    "print(get.text)"
   ]
  },
  {
   "cell_type": "code",
   "execution_count": 50,
   "metadata": {},
   "outputs": [
    {
     "name": "stdout",
     "output_type": "stream",
     "text": [
      "[{\"DRI\":\"zQmP9LkvbGXK2aaVuitR8WCZQYeKosFvcFQQjunZkz8NZ4F\",\"file\":{\"name\":\"zQmbB6LSS92nZEmEKZLQH6bzd9EeBXuW42DuWpSmD76aMQX\",\"type\":\"json\",\"contentDRI\":\"zQmbB6LSS92nZEmEKZLQH6bzd9EeBXuW42DuWpSmD76aMQX\"}},{\"DRI\":\"zQmVHm8oRsiRgPv5wUQ1c286cLj9Z3iBsd4ah2z3bMGExbe\",\"file\":{\"name\":\"a6c7a86b5af85a0de1685c0bcce4b3d\",\"type\":\"zip\",\"contentDRI\":\"zQmNiqMUz1tnUsXroHb2ugKoPDGoZCAqrHRz7vYHEHAw3jA\"}},{\"DRI\":\"zQmcXWdhiJSaWg25mXKPTZAp4EAt7SjfEPAjKdjSDUXfDXn\",\"file\":{\"name\":\"test_file\",\"type\":null,\"contentDRI\":\"zQmVAxg5Ncz6C8zjx4bab7uQB2W8AGqkAVcRAi2VceQN6Cc\"}},{\"DRI\":\"zQmRBXgMkjh1Vw9MB3XZt3cHDRxmX15b7xmHLsVFcjZv8th\",\"file\":{\"name\":\"abba\",\"type\":null,\"contentDRI\":\"zQmNmDadhKMDtF1C8nJBwxzync5RytDBJruo9rQ2mgKnQMj\"}},{\"DRI\":\"zQmNxuZvDfqHopr3thcQurYePoB11DaEb6wu3qPHpwxEG3u\",\"file\":{\"name\":\"string\",\"type\":null,\"contentDRI\":\"zQmSGkFU26J43H5ToS5VwoyS1eqP41F6VU1WUyNaNui4gXg\"}}]\n",
      "[{'DRI': 'zQmP9LkvbGXK2aaVuitR8WCZQYeKosFvcFQQjunZkz8NZ4F',\n",
      "  'file': {'contentDRI': 'zQmbB6LSS92nZEmEKZLQH6bzd9EeBXuW42DuWpSmD76aMQX',\n",
      "           'name': 'zQmbB6LSS92nZEmEKZLQH6bzd9EeBXuW42DuWpSmD76aMQX',\n",
      "           'type': 'json'}},\n",
      " {'DRI': 'zQmVHm8oRsiRgPv5wUQ1c286cLj9Z3iBsd4ah2z3bMGExbe',\n",
      "  'file': {'contentDRI': 'zQmNiqMUz1tnUsXroHb2ugKoPDGoZCAqrHRz7vYHEHAw3jA',\n",
      "           'name': 'a6c7a86b5af85a0de1685c0bcce4b3d',\n",
      "           'type': 'zip'}},\n",
      " {'DRI': 'zQmcXWdhiJSaWg25mXKPTZAp4EAt7SjfEPAjKdjSDUXfDXn',\n",
      "  'file': {'contentDRI': 'zQmVAxg5Ncz6C8zjx4bab7uQB2W8AGqkAVcRAi2VceQN6Cc',\n",
      "           'name': 'test_file',\n",
      "           'type': None}},\n",
      " {'DRI': 'zQmRBXgMkjh1Vw9MB3XZt3cHDRxmX15b7xmHLsVFcjZv8th',\n",
      "  'file': {'contentDRI': 'zQmNmDadhKMDtF1C8nJBwxzync5RytDBJruo9rQ2mgKnQMj',\n",
      "           'name': 'abba',\n",
      "           'type': None}},\n",
      " {'DRI': 'zQmNxuZvDfqHopr3thcQurYePoB11DaEb6wu3qPHpwxEG3u',\n",
      "  'file': {'contentDRI': 'zQmSGkFU26J43H5ToS5VwoyS1eqP41F6VU1WUyNaNui4gXg',\n",
      "           'name': 'string',\n",
      "           'type': None}}]\n"
     ]
    }
   ],
   "source": [
    "get = requests.get('http://data-vault.localhost/api/v1/files')\n",
    "print(get.text)\n",
    "memes = json.loads(get.text)\n",
    "len(memes)\n",
    "pprint.pprint(memes)"
   ]
  }
 ],
 "metadata": {
  "kernelspec": {
   "display_name": "Python 3",
   "language": "python",
   "name": "python3"
  },
  "language_info": {
   "codemirror_mode": {
    "name": "ipython",
    "version": 3
   },
   "file_extension": ".py",
   "mimetype": "text/x-python",
   "name": "python",
   "nbconvert_exporter": "python",
   "pygments_lexer": "ipython3",
   "version": "3.7.5"
  }
 },
 "nbformat": 4,
 "nbformat_minor": 4
}

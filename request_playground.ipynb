{
 "cells": [
  {
   "cell_type": "code",
   "execution_count": 2,
   "metadata": {
    "scrolled": false
   },
   "outputs": [],
   "source": [
    "import requests\n",
    "import json\n",
    "import pprint\n",
    "from aiohttp import ClientSession, FormData\n",
    "import multihash\n",
    "import multibase\n",
    "import base58"
   ]
  },
  {
   "cell_type": "code",
   "execution_count": 2,
   "metadata": {
    "scrolled": true
   },
   "outputs": [
    {
     "name": "stdout",
     "output_type": "stream",
     "text": [
      "b'zQmWvQxTqbG2Z9HPJgG57jjwR154cKhbtJenbyYTWkjgF3e'\n",
      "<class 'bytes'>\n",
      "sha2-256\n"
     ]
    }
   ],
   "source": [
    ">>> import hashlib\n",
    ">>> import multihash\n",
    ">>> from multibase import encode, decode\n",
    ">>> m = hashlib.sha256()\n",
    ">>> m.update(b\"Hello World!\")\n",
    ">>> multi = multihash.encode(m.digest(), 'sha2-256')\n",
    ">>> mem = encode('base58btc', multi)\n",
    "print(mem)\n",
    "b'zQmWvQxTqbG2Z9HPJgG57jjwR154cKhbtJenbyYTWkjgF3e' \n",
    "print(type(mem))\n",
    "\n",
    "decode_base = decode(mem)\n",
    "decode_hash = multihash.decode(decode_base)\n",
    "hashed = decode_hash[3]\n",
    "algo = decode_hash[1]\n",
    "print(decode_hash[1])"
   ]
  },
  {
   "cell_type": "code",
   "execution_count": 8,
   "metadata": {},
   "outputs": [
    {
     "data": {
      "text/plain": [
       "139743949484224"
      ]
     },
     "execution_count": 8,
     "metadata": {},
     "output_type": "execute_result"
    }
   ],
   "source": [
    "id(m)"
   ]
  },
  {
   "cell_type": "code",
   "execution_count": 16,
   "metadata": {
    "scrolled": false
   },
   "outputs": [
    {
     "name": "stdout",
     "output_type": "stream",
     "text": [
      "[\"{\\\"test\\\":\\\"data\\\",\\\"id\\\":1609912}\",\"{\\\"test\\\":\\\"data\\\",\\\"id\\\":1609913}\",\"{\\\"test\\\":\\\"data\\\",\\\"id\\\":1609914}\",\"{\\\"test\\\":\\\"data\\\",\\\"id\\\":1609997}\",\"{\\\"test\\\":\\\"data\\\",\\\"id\\\":1610003}\",\"{\\\"test\\\":\\\"data\\\",\\\"id\\\":1610004}\",\"{\\\"test\\\":\\\"data\\\",\\\"id\\\":1610005}\",\"{\\\"test\\\":\\\"data\\\",\\\"id\\\":1610038}\",\"{\\\"test\\\":\\\"data\\\",\\\"id\\\":1610043}\",\"{\\\"test\\\":\\\"data\\\",\\\"id\\\":1610046}\",\"{\\\"test\\\":\\\"data\\\",\\\"id\\\":1610053}\",\"{\\\"test\\\":\\\"data\\\",\\\"id\\\":1610055}\",\"{\\\"test\\\":\\\"data\\\",\\\"id\\\":1610059}\",\"{\\\"payload\\\":\\\"testing\\\",\\\"id\\\":1610095}\",\"{\\\"payload\\\":\\\"testing\\\",\\\"id\\\":1610097}\",\"{\\\"payload\\\":\\\"testing\\\",\\\"id\\\":1610107}\",\"{\\\"payload\\\":\\\"testing\\\",\\\"id\\\":1610112}\",\"{\\\"payload\\\":\\\"testing\\\",\\\"id\\\":1610113}\",\"{\\\"payload\\\":\\\"testing\\\",\\\"id\\\":1615632}\",\"{\\\"change\\\":\\\"data\\\",\\\"id\\\":\\\"1615633\\\"}\",\"{\\\"change\\\":\\\"data\\\",\\\"id\\\":\\\"1615634\\\"}\",\"{\\\"change\\\":\\\"data\\\",\\\"id\\\":\\\"1615635\\\"}\",\"{\\\"payload\\\":\\\"testing\\\",\\\"id\\\":1624981}\",\"{\\\"payload\\\":\\\"testing\\\",\\\"id\\\":1624982}\",\"{\\\"payload\\\":\\\"testing\\\",\\\"id\\\":1625007}\",\"{\\\"payload\\\":\\\"testing\\\",\\\"id\\\":1625009}\",\"{\\\"payload\\\":\\\"testing own_your_data\\\",\\\"id\\\":1625112}\",\"{\\\"payload\\\":\\\"testing own_your_data\\\",\\\"id\\\":1625113}\",\"{\\\"payload\\\":\\\"testing own_your_data\\\",\\\"id\\\":1625126}\",\"{\\\"payload\\\":\\\"testing own_your_data\\\",\\\"id\\\":1625127}\",\"{\\\"payload\\\":\\\"testing own_your_data\\\",\\\"id\\\":1625128}\",\"{\\\"payload\\\":\\\"testing own_your_data\\\",\\\"id\\\":1625129}\",\"{\\\"payload\\\":\\\"testing own_your_data\\\",\\\"id\\\":1625130}\",\"{\\\"payload\\\":\\\"testing own_your_data\\\",\\\"id\\\":1625131}\",\"{\\\"payload\\\":\\\"testing own_your_data\\\",\\\"id\\\":1625133}\",\"{\\\"payload\\\":\\\"testing own_your_data\\\",\\\"id\\\":1625134}\",\"{\\\"change\\\":\\\"data\\\",\\\"id\\\":\\\"1625135\\\"}\",\"{\\\"change\\\":\\\"data\\\",\\\"id\\\":\\\"1625136\\\"}\",\"{\\\"content\\\":{\\\"abs\\\":\\\"test\\\"},\\\"id\\\":1625137}\",\"{\\\"payload\\\":\\\"testing own_your_data\\\",\\\"id\\\":1625148}\",\"{\\\"payload\\\":\\\"testing own_your_data\\\",\\\"id\\\":1625149}\",\"{\\\"payload\\\":\\\"testing own_your_data\\\",\\\"id\\\":1625150}\",\"{\\\"payload\\\":\\\"testing own_your_data\\\",\\\"id\\\":1625151}\",\"{\\\"payload\\\":\\\"testing own_your_data\\\",\\\"id\\\":1625152}\",\"{\\\"payload\\\":\\\"testing own_your_data\\\",\\\"id\\\":1625153}\",\"{\\\"payload\\\":\\\"testing own_your_data\\\",\\\"id\\\":1625161}\",\"{\\\"payload\\\":\\\"testing own_your_data\\\",\\\"id\\\":1625162}\",\"{\\\"payload\\\":\\\"testing own_your_data\\\",\\\"id\\\":1625164}\",\"{\\\"content\\\":{\\\"abs\\\":\\\"test asdasd\\\"},\\\"id\\\":1625181}\",\"{\\\"payload\\\":\\\"testing own_your_data\\\",\\\"id\\\":1626122}\",\"{\\\"payload\\\":\\\"testing own_your_data\\\",\\\"id\\\":1626123}\",\"{\\\"payload\\\":\\\"testing own_your_data\\\",\\\"id\\\":1626124}\",\"{\\\"payload\\\":\\\"testing own_your_data\\\",\\\"id\\\":1626125}\",\"{\\\"payload\\\":\\\"testing own_your_data\\\",\\\"id\\\":1626128}\",\"{\\\"payload\\\":\\\"testing own_your_data\\\",\\\"id\\\":1626129}\",\"{\\\"payload\\\":\\\"testing own_your_data\\\",\\\"id\\\":1626130}\",\"{\\\"payload\\\":\\\"testing own_your_data\\\",\\\"id\\\":1626135}\",\"{\\\"payload\\\":\\\"testing own_your_data\\\",\\\"id\\\":1626367}\",\"{\\\"payload\\\":\\\"testing own_your_data\\\",\\\"id\\\":1626501}\",\"{\\\"payload\\\":\\\"testing own_your_data\\\",\\\"id\\\":1626504}\",\"{\\\"content\\\":\\\"testing own_your_data\\\",\\\"id\\\":1626516}\",\"{\\\"content\\\":\\\"testing\\\",\\\"id\\\":1626537}\",\"{\\\"content\\\":\\\"tasdesting own_your_data\\\",\\\"id\\\":1626545}\",\"{\\\"content\\\":\\\"abc\\\",\\\"id\\\":1627828}\",\"{\\\"content\\\":\\\"testing own_asdasdyour_data\\\",\\\"id\\\":1640892}\",\"{\\\"content\\\":\\\"testing own_your_data1234\\\",\\\"id\\\":1640893}\"]\n"
     ]
    }
   ],
   "source": [
    "# curl -H \"Content-Type: application/json\" \\\n",
    "#     -d '{\"client_id\": \"{Identifier from above}\", \\\n",
    "#          \"client_secret\": \"{Secret from above}\", \"grant_type\": \"client_credentials\"}' \\\n",
    "#     -X POST https://data-vault.eu/oauth/token\n",
    "\n",
    "# curl -H \"Content-Type: application/json\" \\\n",
    "#   -H \"Authorization: Bearer {access_token from above}\" \\\n",
    "#   -d '{\"hello\": \"world\"}' \\\n",
    "#   -X POST https://data-vault.eu/api/repos/dip.data/items\n",
    "\n",
    "# curl -H \"Content-Type: application/json\" \\\n",
    "#   -H \"Authorization: Bearer {access_token from above}\" \\\n",
    "#   https://data-vault.eu/api/repos/dip.data/items\n",
    "\n",
    "\n",
    "# async with ClientSession() as session:\n",
    "#             result = await session.post(\"https://data-vault.eu/oauth/token\", json={\n",
    "#                 \"client_id\": \"8SX1-RBazhic9ftG4HyG2XegrQ2kdLGu0hd-Ty3IZnE\", \n",
    "#                 \"client_secret\": \"gEg9_tTh2V1ZK6piL9tZ38YO-1xqXLDXCccJS4uQUJg\",\n",
    "#                 \"grant_type\": \"client_credentials\"\n",
    "#             })\n",
    "#             print(type(result.status))\n",
    "#             result = await result.text()\n",
    "#             token = json.loads(result)\n",
    "#             print(result)\n",
    "            \n",
    "# async with ClientSession() as session:\n",
    "#             result = await session.post(\"https://data-vault.eu/api/repos/dip.data/items\", json={\n",
    "#                 \"test\": \"data\"\n",
    "#             }, headers={\n",
    "#                 \"Authorization\": \"Bearer \" + token['access_token']\n",
    "#             })\n",
    "            \n",
    "#             result = await result.text()\n",
    "#             save = json.loads(result)\n",
    "#             print(result)\n",
    "\n",
    "# url = \"https://data-vault.eu/api/items/\"+str(save[\"id\"])+\"/details\"\n",
    "# print(url)\n",
    "# async with ClientSession() as session:\n",
    "#             result = await session.get(url, headers={\n",
    "#                 \"Authorization\": \"Bearer \" + token['access_token']\n",
    "#             })\n",
    "#             result = await result.text()\n",
    "#             load = json.loads(result)\n",
    "#             print(result)\n",
    "            \n",
    "            \n",
    "# url = \"https://data-vault.eu/api/repos/dip.data/items/\" + str(load['id'])\n",
    "# async with ClientSession() as session:\n",
    "#             result = await session.put(url, json={\n",
    "#                 \"change\": \"data\"\n",
    "#             }, headers={\n",
    "#                 \"Authorization\": \"Bearer \" + token['access_token']\n",
    "#             })\n",
    "            \n",
    "#             result = await result.text()\n",
    "#             update = json.loads(result)\n",
    "#             print(result)\n",
    "            \n",
    "# url = \"https://data-vault.eu/api/items/\"+str(update['item_id'])+\"/details\"\n",
    "# print(url)\n",
    "# async with ClientSession() as session:\n",
    "#             result = await session.get(url, headers={\n",
    "#                 \"Authorization\": \"Bearer \" + token['access_token']\n",
    "#             })\n",
    "#             result = await result.text()\n",
    "#             load = json.loads(result)\n",
    "#             print(result)\n",
    "\n",
    "# dri_value = 262462624234\n",
    "# dri_schema_value = 1616442423\n",
    "\n",
    "# url = \"https://data-vault.eu/api/data\"\n",
    "# print(url)\n",
    "# async with ClientSession() as session:\n",
    "#             result = await session.post(url, headers={\n",
    "#                 \"Authorization\": \"Bearer \" + token['access_token']\n",
    "#             }, json={\n",
    "#               \"content\": {\"abs\": \"test asdasd\"},\n",
    "#               \"dri\": dri_value,\n",
    "# #               \"schema_dri\": dri_schema_value,\n",
    "#               \"mime_type\": \"application/json\",\n",
    "#               \"table_name\": \"dip.dataa\"\n",
    "#             })\n",
    "#             result = await result.text()\n",
    "#             load = json.loads(result)\n",
    "#             print(result)\n",
    "            \n",
    "            \n",
    "# url = f\"https://data-vault.eu/api/data?dri={dri_value}&schema_dri={dri_schema_value}\"\n",
    "# async with ClientSession() as session:\n",
    "#             result = await session.get(url, headers={\n",
    "#                 \"Authorization\": \"Bearer \" + token['access_token']\n",
    "#             })\n",
    "#             result = await result.text()\n",
    "#             load = json.loads(result)\n",
    "#             print(result)\n",
    "            \n",
    "\n",
    "            \n",
    "url = \"https://data-vault.eu/api/repos/dip.data/items\"\n",
    "async with ClientSession() as session:\n",
    "    result = await session.get(url, headers={\"Authorization\": \"Bearer \" + token['access_token']})\n",
    "    result = await result.text()\n",
    "    update = json.loads(result)\n",
    "    print(result)            \n",
    "            \n",
    "            \n"
   ]
  },
  {
   "cell_type": "code",
   "execution_count": 5,
   "metadata": {},
   "outputs": [
    {
     "name": "stdout",
     "output_type": "stream",
     "text": [
      "{\"id\":1610004,\"repo_id\":5785,\"merkle_id\":null,\"value\":\"{\\\"test\\\":\\\"data\\\",\\\"id\\\":1610004}\",\"oyd_hash\":null,\"created_at\":\"2020-10-02T12:53:05.392Z\",\"updated_at\":\"2020-10-02T12:53:05.418Z\",\"oyd_source_pile_id\":null,\"dri\":null,\"schema_dri\":null,\"mime_type\":null,\"repo_name\":\"dip.data\",\"access_count\":18}\n"
     ]
    }
   ],
   "source": [
    "async with ClientSession() as session:\n",
    "            result = await session.get(\"https://data-vault.eu/api/items/1610004/details\", headers={\n",
    "                \"Authorization\": \"Bearer \" + token['access_token']\n",
    "            })\n",
    "            result = await result.text()\n",
    "            load = json.loads(result)\n",
    "            print(result)"
   ]
  },
  {
   "cell_type": "code",
   "execution_count": 4,
   "metadata": {},
   "outputs": [
    {
     "name": "stdout",
     "output_type": "stream",
     "text": [
      "{\"record_dri\":\"zQmRBXgMkjh1Vw9MB3XZt3cHDRxmX15b7xmHLsVFcjZv8th\",\"content_dri\":\"zQmNmDadhKMDtF1C8nJBwxzync5RytDBJruo9rQ2mgKnQMj\"}\n"
     ]
    }
   ],
   "source": [
    "\n",
    "url = 'http://data-vault.localhost/api/v1/files'\n",
    "data = FormData()\n",
    "data.add_field('file',\n",
    "               \"memes\",\n",
    "               filename='abba',\n",
    "               content_type='application/json')\n",
    "\n",
    "async with ClientSession() as session:\n",
    "    resp = await session.post(url=url, data=data)\n",
    "    print(await resp.text())"
   ]
  },
  {
   "cell_type": "code",
   "execution_count": 8,
   "metadata": {
    "scrolled": false
   },
   "outputs": [
    {
     "name": "stdout",
     "output_type": "stream",
     "text": [
      "<Response [200]>\n",
      "{\"record_dri\":\"zQmcXWdhiJSaWg25mXKPTZAp4EAt7SjfEPAjKdjSDUXfDXn\",\"content_dri\":\"zQmVAxg5Ncz6C8zjx4bab7uQB2W8AGqkAVcRAi2VceQN6Cc\"}\n"
     ]
    }
   ],
   "source": [
    "add = requests.post('http://data-vault.localhost/api/v1/files', files = {\n",
    "    'file': ('test_file', 'test_test_yes')\n",
    "})\n",
    "print(add)\n",
    "print(add.text)\n",
    "ids = json.loads(add.text)"
   ]
  },
  {
   "cell_type": "code",
   "execution_count": 9,
   "metadata": {
    "scrolled": true
   },
   "outputs": [
    {
     "name": "stdout",
     "output_type": "stream",
     "text": [
      "test_test_yes\n"
     ]
    }
   ],
   "source": [
    "get = requests.get('http://data-vault.localhost/api/v1/files/' + ids['content_dri'])\n",
    "print(get.text)"
   ]
  },
  {
   "cell_type": "code",
   "execution_count": 50,
   "metadata": {},
   "outputs": [
    {
     "name": "stdout",
     "output_type": "stream",
     "text": [
      "[{\"DRI\":\"zQmP9LkvbGXK2aaVuitR8WCZQYeKosFvcFQQjunZkz8NZ4F\",\"file\":{\"name\":\"zQmbB6LSS92nZEmEKZLQH6bzd9EeBXuW42DuWpSmD76aMQX\",\"type\":\"json\",\"contentDRI\":\"zQmbB6LSS92nZEmEKZLQH6bzd9EeBXuW42DuWpSmD76aMQX\"}},{\"DRI\":\"zQmVHm8oRsiRgPv5wUQ1c286cLj9Z3iBsd4ah2z3bMGExbe\",\"file\":{\"name\":\"a6c7a86b5af85a0de1685c0bcce4b3d\",\"type\":\"zip\",\"contentDRI\":\"zQmNiqMUz1tnUsXroHb2ugKoPDGoZCAqrHRz7vYHEHAw3jA\"}},{\"DRI\":\"zQmcXWdhiJSaWg25mXKPTZAp4EAt7SjfEPAjKdjSDUXfDXn\",\"file\":{\"name\":\"test_file\",\"type\":null,\"contentDRI\":\"zQmVAxg5Ncz6C8zjx4bab7uQB2W8AGqkAVcRAi2VceQN6Cc\"}},{\"DRI\":\"zQmRBXgMkjh1Vw9MB3XZt3cHDRxmX15b7xmHLsVFcjZv8th\",\"file\":{\"name\":\"abba\",\"type\":null,\"contentDRI\":\"zQmNmDadhKMDtF1C8nJBwxzync5RytDBJruo9rQ2mgKnQMj\"}},{\"DRI\":\"zQmNxuZvDfqHopr3thcQurYePoB11DaEb6wu3qPHpwxEG3u\",\"file\":{\"name\":\"string\",\"type\":null,\"contentDRI\":\"zQmSGkFU26J43H5ToS5VwoyS1eqP41F6VU1WUyNaNui4gXg\"}}]\n",
      "[{'DRI': 'zQmP9LkvbGXK2aaVuitR8WCZQYeKosFvcFQQjunZkz8NZ4F',\n",
      "  'file': {'contentDRI': 'zQmbB6LSS92nZEmEKZLQH6bzd9EeBXuW42DuWpSmD76aMQX',\n",
      "           'name': 'zQmbB6LSS92nZEmEKZLQH6bzd9EeBXuW42DuWpSmD76aMQX',\n",
      "           'type': 'json'}},\n",
      " {'DRI': 'zQmVHm8oRsiRgPv5wUQ1c286cLj9Z3iBsd4ah2z3bMGExbe',\n",
      "  'file': {'contentDRI': 'zQmNiqMUz1tnUsXroHb2ugKoPDGoZCAqrHRz7vYHEHAw3jA',\n",
      "           'name': 'a6c7a86b5af85a0de1685c0bcce4b3d',\n",
      "           'type': 'zip'}},\n",
      " {'DRI': 'zQmcXWdhiJSaWg25mXKPTZAp4EAt7SjfEPAjKdjSDUXfDXn',\n",
      "  'file': {'contentDRI': 'zQmVAxg5Ncz6C8zjx4bab7uQB2W8AGqkAVcRAi2VceQN6Cc',\n",
      "           'name': 'test_file',\n",
      "           'type': None}},\n",
      " {'DRI': 'zQmRBXgMkjh1Vw9MB3XZt3cHDRxmX15b7xmHLsVFcjZv8th',\n",
      "  'file': {'contentDRI': 'zQmNmDadhKMDtF1C8nJBwxzync5RytDBJruo9rQ2mgKnQMj',\n",
      "           'name': 'abba',\n",
      "           'type': None}},\n",
      " {'DRI': 'zQmNxuZvDfqHopr3thcQurYePoB11DaEb6wu3qPHpwxEG3u',\n",
      "  'file': {'contentDRI': 'zQmSGkFU26J43H5ToS5VwoyS1eqP41F6VU1WUyNaNui4gXg',\n",
      "           'name': 'string',\n",
      "           'type': None}}]\n"
     ]
    }
   ],
   "source": [
    "get = requests.get('http://data-vault.localhost/api/v1/files')\n",
    "print(get.text)\n",
    "memes = json.loads(get.text)\n",
    "len(memes)\n",
    "pprint.pprint(memes)"
   ]
  }
 ],
 "metadata": {
  "kernelspec": {
   "display_name": "Python 3",
   "language": "python",
   "name": "python3"
  },
  "language_info": {
   "codemirror_mode": {
    "name": "ipython",
    "version": 3
   },
   "file_extension": ".py",
   "mimetype": "text/x-python",
   "name": "python",
   "nbconvert_exporter": "python",
   "pygments_lexer": "ipython3",
   "version": "3.7.5"
  }
 },
 "nbformat": 4,
 "nbformat_minor": 4
}
